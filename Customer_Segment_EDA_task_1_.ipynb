{
  "nbformat": 4,
  "nbformat_minor": 0,
  "metadata": {
    "colab": {
      "name": "Customer Segment EDA task 1 .ipynb",
      "provenance": [],
      "collapsed_sections": [
        "OU9I539WMeGo",
        "1_E7h-NREnbf",
        "kCMyf6hGguCX",
        "siTSPMqfkyFD"
      ],
      "toc_visible": true
    },
    "kernelspec": {
      "name": "python3",
      "display_name": "Python 3"
    },
    "language_info": {
      "name": "python"
    }
  },
  "cells": [
    {
      "cell_type": "code",
      "source": [
        "import numpy as numpy\n",
        "import pandas as pd\n",
        "import matplotlib.pyplot as plt\n",
        "import seaborn as sns\n",
        "\n",
        "#data_function\n",
        "import datetime\n",
        "from matplotlib.dates import DateFormatter\n",
        "\n",
        "# Text analysis\n",
        "import nltk\n",
        "nltk.download('punkt')\n",
        "from nltk.tokenize import word_tokenize\n",
        "from nltk.probability import FreqDist as fdist\n",
        "import re\n",
        "\n",
        "# Remove warnings\n",
        "import warnings\n",
        "warnings.filterwarnings('ignore')"
      ],
      "metadata": {
        "id": "qLagx7uqMNyr",
        "colab": {
          "base_uri": "https://localhost:8080/"
        },
        "outputId": "f7a9a802-c2ad-4144-b41b-8c93995271b0"
      },
      "execution_count": 175,
      "outputs": [
        {
          "output_type": "stream",
          "name": "stdout",
          "text": [
            "[nltk_data] Downloading package punkt to /root/nltk_data...\n",
            "[nltk_data]   Package punkt is already up-to-date!\n"
          ]
        }
      ]
    },
    {
      "cell_type": "markdown",
      "source": [
        "#**Customer Purchase Data:**"
      ],
      "metadata": {
        "id": "OU9I539WMeGo"
      }
    },
    {
      "cell_type": "code",
      "source": [
        "Customer_data = pd.read_csv('/content/drive/MyDrive/Quantium Data Analytics/QVI_purchase_behaviour.csv')\n",
        "Customer_data.head()"
      ],
      "metadata": {
        "colab": {
          "base_uri": "https://localhost:8080/",
          "height": 206
        },
        "id": "7nfxk6s8p8Ef",
        "outputId": "1cd8f775-a685-470e-f5e0-fe4022d03b39"
      },
      "execution_count": 176,
      "outputs": [
        {
          "output_type": "execute_result",
          "data": {
            "text/html": [
              "\n",
              "  <div id=\"df-bb2030dc-6188-4f0a-bfd2-5ada9b5d8546\">\n",
              "    <div class=\"colab-df-container\">\n",
              "      <div>\n",
              "<style scoped>\n",
              "    .dataframe tbody tr th:only-of-type {\n",
              "        vertical-align: middle;\n",
              "    }\n",
              "\n",
              "    .dataframe tbody tr th {\n",
              "        vertical-align: top;\n",
              "    }\n",
              "\n",
              "    .dataframe thead th {\n",
              "        text-align: right;\n",
              "    }\n",
              "</style>\n",
              "<table border=\"1\" class=\"dataframe\">\n",
              "  <thead>\n",
              "    <tr style=\"text-align: right;\">\n",
              "      <th></th>\n",
              "      <th>LYLTY_CARD_NBR</th>\n",
              "      <th>LIFESTAGE</th>\n",
              "      <th>PREMIUM_CUSTOMER</th>\n",
              "    </tr>\n",
              "  </thead>\n",
              "  <tbody>\n",
              "    <tr>\n",
              "      <th>0</th>\n",
              "      <td>1000</td>\n",
              "      <td>YOUNG SINGLES/COUPLES</td>\n",
              "      <td>Premium</td>\n",
              "    </tr>\n",
              "    <tr>\n",
              "      <th>1</th>\n",
              "      <td>1002</td>\n",
              "      <td>YOUNG SINGLES/COUPLES</td>\n",
              "      <td>Mainstream</td>\n",
              "    </tr>\n",
              "    <tr>\n",
              "      <th>2</th>\n",
              "      <td>1003</td>\n",
              "      <td>YOUNG FAMILIES</td>\n",
              "      <td>Budget</td>\n",
              "    </tr>\n",
              "    <tr>\n",
              "      <th>3</th>\n",
              "      <td>1004</td>\n",
              "      <td>OLDER SINGLES/COUPLES</td>\n",
              "      <td>Mainstream</td>\n",
              "    </tr>\n",
              "    <tr>\n",
              "      <th>4</th>\n",
              "      <td>1005</td>\n",
              "      <td>MIDAGE SINGLES/COUPLES</td>\n",
              "      <td>Mainstream</td>\n",
              "    </tr>\n",
              "  </tbody>\n",
              "</table>\n",
              "</div>\n",
              "      <button class=\"colab-df-convert\" onclick=\"convertToInteractive('df-bb2030dc-6188-4f0a-bfd2-5ada9b5d8546')\"\n",
              "              title=\"Convert this dataframe to an interactive table.\"\n",
              "              style=\"display:none;\">\n",
              "        \n",
              "  <svg xmlns=\"http://www.w3.org/2000/svg\" height=\"24px\"viewBox=\"0 0 24 24\"\n",
              "       width=\"24px\">\n",
              "    <path d=\"M0 0h24v24H0V0z\" fill=\"none\"/>\n",
              "    <path d=\"M18.56 5.44l.94 2.06.94-2.06 2.06-.94-2.06-.94-.94-2.06-.94 2.06-2.06.94zm-11 1L8.5 8.5l.94-2.06 2.06-.94-2.06-.94L8.5 2.5l-.94 2.06-2.06.94zm10 10l.94 2.06.94-2.06 2.06-.94-2.06-.94-.94-2.06-.94 2.06-2.06.94z\"/><path d=\"M17.41 7.96l-1.37-1.37c-.4-.4-.92-.59-1.43-.59-.52 0-1.04.2-1.43.59L10.3 9.45l-7.72 7.72c-.78.78-.78 2.05 0 2.83L4 21.41c.39.39.9.59 1.41.59.51 0 1.02-.2 1.41-.59l7.78-7.78 2.81-2.81c.8-.78.8-2.07 0-2.86zM5.41 20L4 18.59l7.72-7.72 1.47 1.35L5.41 20z\"/>\n",
              "  </svg>\n",
              "      </button>\n",
              "      \n",
              "  <style>\n",
              "    .colab-df-container {\n",
              "      display:flex;\n",
              "      flex-wrap:wrap;\n",
              "      gap: 12px;\n",
              "    }\n",
              "\n",
              "    .colab-df-convert {\n",
              "      background-color: #E8F0FE;\n",
              "      border: none;\n",
              "      border-radius: 50%;\n",
              "      cursor: pointer;\n",
              "      display: none;\n",
              "      fill: #1967D2;\n",
              "      height: 32px;\n",
              "      padding: 0 0 0 0;\n",
              "      width: 32px;\n",
              "    }\n",
              "\n",
              "    .colab-df-convert:hover {\n",
              "      background-color: #E2EBFA;\n",
              "      box-shadow: 0px 1px 2px rgba(60, 64, 67, 0.3), 0px 1px 3px 1px rgba(60, 64, 67, 0.15);\n",
              "      fill: #174EA6;\n",
              "    }\n",
              "\n",
              "    [theme=dark] .colab-df-convert {\n",
              "      background-color: #3B4455;\n",
              "      fill: #D2E3FC;\n",
              "    }\n",
              "\n",
              "    [theme=dark] .colab-df-convert:hover {\n",
              "      background-color: #434B5C;\n",
              "      box-shadow: 0px 1px 3px 1px rgba(0, 0, 0, 0.15);\n",
              "      filter: drop-shadow(0px 1px 2px rgba(0, 0, 0, 0.3));\n",
              "      fill: #FFFFFF;\n",
              "    }\n",
              "  </style>\n",
              "\n",
              "      <script>\n",
              "        const buttonEl =\n",
              "          document.querySelector('#df-bb2030dc-6188-4f0a-bfd2-5ada9b5d8546 button.colab-df-convert');\n",
              "        buttonEl.style.display =\n",
              "          google.colab.kernel.accessAllowed ? 'block' : 'none';\n",
              "\n",
              "        async function convertToInteractive(key) {\n",
              "          const element = document.querySelector('#df-bb2030dc-6188-4f0a-bfd2-5ada9b5d8546');\n",
              "          const dataTable =\n",
              "            await google.colab.kernel.invokeFunction('convertToInteractive',\n",
              "                                                     [key], {});\n",
              "          if (!dataTable) return;\n",
              "\n",
              "          const docLinkHtml = 'Like what you see? Visit the ' +\n",
              "            '<a target=\"_blank\" href=https://colab.research.google.com/notebooks/data_table.ipynb>data table notebook</a>'\n",
              "            + ' to learn more about interactive tables.';\n",
              "          element.innerHTML = '';\n",
              "          dataTable['output_type'] = 'display_data';\n",
              "          await google.colab.output.renderOutput(dataTable, element);\n",
              "          const docLink = document.createElement('div');\n",
              "          docLink.innerHTML = docLinkHtml;\n",
              "          element.appendChild(docLink);\n",
              "        }\n",
              "      </script>\n",
              "    </div>\n",
              "  </div>\n",
              "  "
            ],
            "text/plain": [
              "   LYLTY_CARD_NBR               LIFESTAGE PREMIUM_CUSTOMER\n",
              "0            1000   YOUNG SINGLES/COUPLES          Premium\n",
              "1            1002   YOUNG SINGLES/COUPLES       Mainstream\n",
              "2            1003          YOUNG FAMILIES           Budget\n",
              "3            1004   OLDER SINGLES/COUPLES       Mainstream\n",
              "4            1005  MIDAGE SINGLES/COUPLES       Mainstream"
            ]
          },
          "metadata": {},
          "execution_count": 176
        }
      ]
    },
    {
      "cell_type": "code",
      "source": [
        "Customer_data.isnull().sum()"
      ],
      "metadata": {
        "colab": {
          "base_uri": "https://localhost:8080/"
        },
        "id": "3bP6u2WcMv4l",
        "outputId": "d84f75c2-d3bd-4d72-d46c-3a870c4aed65"
      },
      "execution_count": 177,
      "outputs": [
        {
          "output_type": "execute_result",
          "data": {
            "text/plain": [
              "LYLTY_CARD_NBR      0\n",
              "LIFESTAGE           0\n",
              "PREMIUM_CUSTOMER    0\n",
              "dtype: int64"
            ]
          },
          "metadata": {},
          "execution_count": 177
        }
      ]
    },
    {
      "cell_type": "code",
      "source": [
        "Customer_data.info()"
      ],
      "metadata": {
        "colab": {
          "base_uri": "https://localhost:8080/"
        },
        "id": "AlUzJtueM1OF",
        "outputId": "c8190fbf-edd2-41a4-a77c-df5b139d4b38"
      },
      "execution_count": 178,
      "outputs": [
        {
          "output_type": "stream",
          "name": "stdout",
          "text": [
            "<class 'pandas.core.frame.DataFrame'>\n",
            "RangeIndex: 72637 entries, 0 to 72636\n",
            "Data columns (total 3 columns):\n",
            " #   Column            Non-Null Count  Dtype \n",
            "---  ------            --------------  ----- \n",
            " 0   LYLTY_CARD_NBR    72637 non-null  int64 \n",
            " 1   LIFESTAGE         72637 non-null  object\n",
            " 2   PREMIUM_CUSTOMER  72637 non-null  object\n",
            "dtypes: int64(1), object(2)\n",
            "memory usage: 1.7+ MB\n"
          ]
        }
      ]
    },
    {
      "cell_type": "code",
      "source": [
        "Customer_data.describe()"
      ],
      "metadata": {
        "colab": {
          "base_uri": "https://localhost:8080/",
          "height": 300
        },
        "id": "q5eNjGJTM4DG",
        "outputId": "40b63b15-c4de-4118-f98b-4d215603b6fc"
      },
      "execution_count": 179,
      "outputs": [
        {
          "output_type": "execute_result",
          "data": {
            "text/html": [
              "\n",
              "  <div id=\"df-fb4851d0-a8ec-4dc9-8559-cafd6727bcb6\">\n",
              "    <div class=\"colab-df-container\">\n",
              "      <div>\n",
              "<style scoped>\n",
              "    .dataframe tbody tr th:only-of-type {\n",
              "        vertical-align: middle;\n",
              "    }\n",
              "\n",
              "    .dataframe tbody tr th {\n",
              "        vertical-align: top;\n",
              "    }\n",
              "\n",
              "    .dataframe thead th {\n",
              "        text-align: right;\n",
              "    }\n",
              "</style>\n",
              "<table border=\"1\" class=\"dataframe\">\n",
              "  <thead>\n",
              "    <tr style=\"text-align: right;\">\n",
              "      <th></th>\n",
              "      <th>LYLTY_CARD_NBR</th>\n",
              "    </tr>\n",
              "  </thead>\n",
              "  <tbody>\n",
              "    <tr>\n",
              "      <th>count</th>\n",
              "      <td>7.263700e+04</td>\n",
              "    </tr>\n",
              "    <tr>\n",
              "      <th>mean</th>\n",
              "      <td>1.361859e+05</td>\n",
              "    </tr>\n",
              "    <tr>\n",
              "      <th>std</th>\n",
              "      <td>8.989293e+04</td>\n",
              "    </tr>\n",
              "    <tr>\n",
              "      <th>min</th>\n",
              "      <td>1.000000e+03</td>\n",
              "    </tr>\n",
              "    <tr>\n",
              "      <th>25%</th>\n",
              "      <td>6.620200e+04</td>\n",
              "    </tr>\n",
              "    <tr>\n",
              "      <th>50%</th>\n",
              "      <td>1.340400e+05</td>\n",
              "    </tr>\n",
              "    <tr>\n",
              "      <th>75%</th>\n",
              "      <td>2.033750e+05</td>\n",
              "    </tr>\n",
              "    <tr>\n",
              "      <th>max</th>\n",
              "      <td>2.373711e+06</td>\n",
              "    </tr>\n",
              "  </tbody>\n",
              "</table>\n",
              "</div>\n",
              "      <button class=\"colab-df-convert\" onclick=\"convertToInteractive('df-fb4851d0-a8ec-4dc9-8559-cafd6727bcb6')\"\n",
              "              title=\"Convert this dataframe to an interactive table.\"\n",
              "              style=\"display:none;\">\n",
              "        \n",
              "  <svg xmlns=\"http://www.w3.org/2000/svg\" height=\"24px\"viewBox=\"0 0 24 24\"\n",
              "       width=\"24px\">\n",
              "    <path d=\"M0 0h24v24H0V0z\" fill=\"none\"/>\n",
              "    <path d=\"M18.56 5.44l.94 2.06.94-2.06 2.06-.94-2.06-.94-.94-2.06-.94 2.06-2.06.94zm-11 1L8.5 8.5l.94-2.06 2.06-.94-2.06-.94L8.5 2.5l-.94 2.06-2.06.94zm10 10l.94 2.06.94-2.06 2.06-.94-2.06-.94-.94-2.06-.94 2.06-2.06.94z\"/><path d=\"M17.41 7.96l-1.37-1.37c-.4-.4-.92-.59-1.43-.59-.52 0-1.04.2-1.43.59L10.3 9.45l-7.72 7.72c-.78.78-.78 2.05 0 2.83L4 21.41c.39.39.9.59 1.41.59.51 0 1.02-.2 1.41-.59l7.78-7.78 2.81-2.81c.8-.78.8-2.07 0-2.86zM5.41 20L4 18.59l7.72-7.72 1.47 1.35L5.41 20z\"/>\n",
              "  </svg>\n",
              "      </button>\n",
              "      \n",
              "  <style>\n",
              "    .colab-df-container {\n",
              "      display:flex;\n",
              "      flex-wrap:wrap;\n",
              "      gap: 12px;\n",
              "    }\n",
              "\n",
              "    .colab-df-convert {\n",
              "      background-color: #E8F0FE;\n",
              "      border: none;\n",
              "      border-radius: 50%;\n",
              "      cursor: pointer;\n",
              "      display: none;\n",
              "      fill: #1967D2;\n",
              "      height: 32px;\n",
              "      padding: 0 0 0 0;\n",
              "      width: 32px;\n",
              "    }\n",
              "\n",
              "    .colab-df-convert:hover {\n",
              "      background-color: #E2EBFA;\n",
              "      box-shadow: 0px 1px 2px rgba(60, 64, 67, 0.3), 0px 1px 3px 1px rgba(60, 64, 67, 0.15);\n",
              "      fill: #174EA6;\n",
              "    }\n",
              "\n",
              "    [theme=dark] .colab-df-convert {\n",
              "      background-color: #3B4455;\n",
              "      fill: #D2E3FC;\n",
              "    }\n",
              "\n",
              "    [theme=dark] .colab-df-convert:hover {\n",
              "      background-color: #434B5C;\n",
              "      box-shadow: 0px 1px 3px 1px rgba(0, 0, 0, 0.15);\n",
              "      filter: drop-shadow(0px 1px 2px rgba(0, 0, 0, 0.3));\n",
              "      fill: #FFFFFF;\n",
              "    }\n",
              "  </style>\n",
              "\n",
              "      <script>\n",
              "        const buttonEl =\n",
              "          document.querySelector('#df-fb4851d0-a8ec-4dc9-8559-cafd6727bcb6 button.colab-df-convert');\n",
              "        buttonEl.style.display =\n",
              "          google.colab.kernel.accessAllowed ? 'block' : 'none';\n",
              "\n",
              "        async function convertToInteractive(key) {\n",
              "          const element = document.querySelector('#df-fb4851d0-a8ec-4dc9-8559-cafd6727bcb6');\n",
              "          const dataTable =\n",
              "            await google.colab.kernel.invokeFunction('convertToInteractive',\n",
              "                                                     [key], {});\n",
              "          if (!dataTable) return;\n",
              "\n",
              "          const docLinkHtml = 'Like what you see? Visit the ' +\n",
              "            '<a target=\"_blank\" href=https://colab.research.google.com/notebooks/data_table.ipynb>data table notebook</a>'\n",
              "            + ' to learn more about interactive tables.';\n",
              "          element.innerHTML = '';\n",
              "          dataTable['output_type'] = 'display_data';\n",
              "          await google.colab.output.renderOutput(dataTable, element);\n",
              "          const docLink = document.createElement('div');\n",
              "          docLink.innerHTML = docLinkHtml;\n",
              "          element.appendChild(docLink);\n",
              "        }\n",
              "      </script>\n",
              "    </div>\n",
              "  </div>\n",
              "  "
            ],
            "text/plain": [
              "       LYLTY_CARD_NBR\n",
              "count    7.263700e+04\n",
              "mean     1.361859e+05\n",
              "std      8.989293e+04\n",
              "min      1.000000e+03\n",
              "25%      6.620200e+04\n",
              "50%      1.340400e+05\n",
              "75%      2.033750e+05\n",
              "max      2.373711e+06"
            ]
          },
          "metadata": {},
          "execution_count": 179
        }
      ]
    },
    {
      "cell_type": "code",
      "source": [
        "Customer_data['LYLTY_CARD_NBR'].nunique()"
      ],
      "metadata": {
        "colab": {
          "base_uri": "https://localhost:8080/"
        },
        "id": "3qmJJezpM7cE",
        "outputId": "3cf1d0dc-f352-4ee9-fbc4-1c09e77e0926"
      },
      "execution_count": 180,
      "outputs": [
        {
          "output_type": "execute_result",
          "data": {
            "text/plain": [
              "72637"
            ]
          },
          "metadata": {},
          "execution_count": 180
        }
      ]
    },
    {
      "cell_type": "markdown",
      "source": [
        "Different lifestages that exist:"
      ],
      "metadata": {
        "id": "0QJDG5RSN3RN"
      }
    },
    {
      "cell_type": "code",
      "source": [
        "Customer_data['LIFESTAGE'].nunique()"
      ],
      "metadata": {
        "colab": {
          "base_uri": "https://localhost:8080/"
        },
        "id": "TL03n5zmNsvX",
        "outputId": "7cc2663c-73f1-45f2-e8b2-514264567a45"
      },
      "execution_count": 181,
      "outputs": [
        {
          "output_type": "execute_result",
          "data": {
            "text/plain": [
              "7"
            ]
          },
          "metadata": {},
          "execution_count": 181
        }
      ]
    },
    {
      "cell_type": "markdown",
      "source": [
        "What are the unique Lifestages?"
      ],
      "metadata": {
        "id": "C7j-c7xmOLPL"
      }
    },
    {
      "cell_type": "code",
      "source": [
        "Customer_data['LIFESTAGE'].value_counts()"
      ],
      "metadata": {
        "colab": {
          "base_uri": "https://localhost:8080/"
        },
        "id": "bA76-ncXOCkF",
        "outputId": "5e0fd978-919f-4ce1-d915-ae25fd6880ff"
      },
      "execution_count": 182,
      "outputs": [
        {
          "output_type": "execute_result",
          "data": {
            "text/plain": [
              "RETIREES                  14805\n",
              "OLDER SINGLES/COUPLES     14609\n",
              "YOUNG SINGLES/COUPLES     14441\n",
              "OLDER FAMILIES             9780\n",
              "YOUNG FAMILIES             9178\n",
              "MIDAGE SINGLES/COUPLES     7275\n",
              "NEW FAMILIES               2549\n",
              "Name: LIFESTAGE, dtype: int64"
            ]
          },
          "metadata": {},
          "execution_count": 182
        }
      ]
    },
    {
      "cell_type": "code",
      "source": [
        "Customer_data['PREMIUM_CUSTOMER'].nunique()"
      ],
      "metadata": {
        "colab": {
          "base_uri": "https://localhost:8080/"
        },
        "id": "xD4q4vmAO1LA",
        "outputId": "9be337a3-e840-4953-a52b-3267d1359d9f"
      },
      "execution_count": 183,
      "outputs": [
        {
          "output_type": "execute_result",
          "data": {
            "text/plain": [
              "3"
            ]
          },
          "metadata": {},
          "execution_count": 183
        }
      ]
    },
    {
      "cell_type": "markdown",
      "source": [
        ""
      ],
      "metadata": {
        "id": "0N7GKcE_gB7h"
      }
    },
    {
      "cell_type": "code",
      "source": [
        "Customer_data['PREMIUM_CUSTOMER'].value_counts()"
      ],
      "metadata": {
        "colab": {
          "base_uri": "https://localhost:8080/"
        },
        "id": "1EQ-U7O2Pv86",
        "outputId": "be59ba40-605d-44ec-e16f-5fde54471b16"
      },
      "execution_count": 184,
      "outputs": [
        {
          "output_type": "execute_result",
          "data": {
            "text/plain": [
              "Mainstream    29245\n",
              "Budget        24470\n",
              "Premium       18922\n",
              "Name: PREMIUM_CUSTOMER, dtype: int64"
            ]
          },
          "metadata": {},
          "execution_count": 184
        }
      ]
    },
    {
      "cell_type": "code",
      "source": [
        "sns.countplot(Customer_data['PREMIUM_CUSTOMER'])\n",
        "plt.show()\n"
      ],
      "metadata": {
        "colab": {
          "base_uri": "https://localhost:8080/",
          "height": 280
        },
        "id": "5SkzZGrkP2Xr",
        "outputId": "5690d8b4-2bfe-4cdd-adf9-f0213d1b91f5"
      },
      "execution_count": 185,
      "outputs": [
        {
          "output_type": "display_data",
          "data": {
            "image/png": "[encoded data removed]",
            "text/plain": [
              "<Figure size 432x288 with 1 Axes>"
            ]
          },
          "metadata": {
            "needs_background": "light"
          }
        }
      ]
    },
    {
      "cell_type": "code",
      "source": [
        "sns.countplot(y= Customer_data['LIFESTAGE'].sort_values(ascending = False))\n",
        "plt.show()\n"
      ],
      "metadata": {
        "colab": {
          "base_uri": "https://localhost:8080/",
          "height": 279
        },
        "id": "lqJV9bAhSRPP",
        "outputId": "d356c925-6489-42cb-beb8-3dff8270b2b5"
      },
      "execution_count": 186,
      "outputs": [
        {
          "output_type": "display_data",
          "data": {
            "image/png": "[encoded data removed]",
            "text/plain": [
              "<Figure size 432x288 with 1 Axes>"
            ]
          },
          "metadata": {
            "needs_background": "light"
          }
        }
      ]
    },
    {
      "cell_type": "markdown",
      "source": [
        "# **Transactions Data**"
      ],
      "metadata": {
        "id": "1_E7h-NREnbf"
      }
    },
    {
      "cell_type": "code",
      "source": [
        "Transactions_data = pd.read_csv('/content/drive/MyDrive/Quantium Data Analytics/QVI_transaction_data.xlsx - in - QVI_transaction_data.xlsx - in.csv')\n",
        "Transactions_data.head()"
      ],
      "metadata": {
        "colab": {
          "base_uri": "https://localhost:8080/",
          "height": 206
        },
        "id": "Gy6L8oHhErdd",
        "outputId": "0415d4a3-1d26-4a50-fc75-f8992e094125"
      },
      "execution_count": 187,
      "outputs": [
        {
          "output_type": "execute_result",
          "data": {
            "text/html": [
              "\n",
              "  <div id=\"df-b2103f6e-073d-40b8-95a6-95c6e1544792\">\n",
              "    <div class=\"colab-df-container\">\n",
              "      <div>\n",
              "<style scoped>\n",
              "    .dataframe tbody tr th:only-of-type {\n",
              "        vertical-align: middle;\n",
              "    }\n",
              "\n",
              "    .dataframe tbody tr th {\n",
              "        vertical-align: top;\n",
              "    }\n",
              "\n",
              "    .dataframe thead th {\n",
              "        text-align: right;\n",
              "    }\n",
              "</style>\n",
              "<table border=\"1\" class=\"dataframe\">\n",
              "  <thead>\n",
              "    <tr style=\"text-align: right;\">\n",
              "      <th></th>\n",
              "      <th>DATE</th>\n",
              "      <th>STORE_NBR</th>\n",
              "      <th>LYLTY_CARD_NBR</th>\n",
              "      <th>TXN_ID</th>\n",
              "      <th>PROD_NBR</th>\n",
              "      <th>PROD_NAME</th>\n",
              "      <th>PROD_QTY</th>\n",
              "      <th>TOT_SALES</th>\n",
              "    </tr>\n",
              "  </thead>\n",
              "  <tbody>\n",
              "    <tr>\n",
              "      <th>0</th>\n",
              "      <td>17/10/2018</td>\n",
              "      <td>1</td>\n",
              "      <td>1000</td>\n",
              "      <td>1</td>\n",
              "      <td>5</td>\n",
              "      <td>Natural Chip        Compny SeaSalt175g</td>\n",
              "      <td>2</td>\n",
              "      <td>6.0</td>\n",
              "    </tr>\n",
              "    <tr>\n",
              "      <th>1</th>\n",
              "      <td>14/05/2019</td>\n",
              "      <td>1</td>\n",
              "      <td>1307</td>\n",
              "      <td>348</td>\n",
              "      <td>66</td>\n",
              "      <td>CCs Nacho Cheese    175g</td>\n",
              "      <td>3</td>\n",
              "      <td>6.3</td>\n",
              "    </tr>\n",
              "    <tr>\n",
              "      <th>2</th>\n",
              "      <td>20/05/2019</td>\n",
              "      <td>1</td>\n",
              "      <td>1343</td>\n",
              "      <td>383</td>\n",
              "      <td>61</td>\n",
              "      <td>Smiths Crinkle Cut  Chips Chicken 170g</td>\n",
              "      <td>2</td>\n",
              "      <td>2.9</td>\n",
              "    </tr>\n",
              "    <tr>\n",
              "      <th>3</th>\n",
              "      <td>17/08/2018</td>\n",
              "      <td>2</td>\n",
              "      <td>2373</td>\n",
              "      <td>974</td>\n",
              "      <td>69</td>\n",
              "      <td>Smiths Chip Thinly  S/Cream&amp;Onion 175g</td>\n",
              "      <td>5</td>\n",
              "      <td>15.0</td>\n",
              "    </tr>\n",
              "    <tr>\n",
              "      <th>4</th>\n",
              "      <td>18/08/2018</td>\n",
              "      <td>2</td>\n",
              "      <td>2426</td>\n",
              "      <td>1038</td>\n",
              "      <td>108</td>\n",
              "      <td>Kettle Tortilla ChpsHny&amp;Jlpno Chili 150g</td>\n",
              "      <td>3</td>\n",
              "      <td>13.8</td>\n",
              "    </tr>\n",
              "  </tbody>\n",
              "</table>\n",
              "</div>\n",
              "      <button class=\"colab-df-convert\" onclick=\"convertToInteractive('df-b2103f6e-073d-40b8-95a6-95c6e1544792')\"\n",
              "              title=\"Convert this dataframe to an interactive table.\"\n",
              "              style=\"display:none;\">\n",
              "        \n",
              "  <svg xmlns=\"http://www.w3.org/2000/svg\" height=\"24px\"viewBox=\"0 0 24 24\"\n",
              "       width=\"24px\">\n",
              "    <path d=\"M0 0h24v24H0V0z\" fill=\"none\"/>\n",
              "    <path d=\"M18.56 5.44l.94 2.06.94-2.06 2.06-.94-2.06-.94-.94-2.06-.94 2.06-2.06.94zm-11 1L8.5 8.5l.94-2.06 2.06-.94-2.06-.94L8.5 2.5l-.94 2.06-2.06.94zm10 10l.94 2.06.94-2.06 2.06-.94-2.06-.94-.94-2.06-.94 2.06-2.06.94z\"/><path d=\"M17.41 7.96l-1.37-1.37c-.4-.4-.92-.59-1.43-.59-.52 0-1.04.2-1.43.59L10.3 9.45l-7.72 7.72c-.78.78-.78 2.05 0 2.83L4 21.41c.39.39.9.59 1.41.59.51 0 1.02-.2 1.41-.59l7.78-7.78 2.81-2.81c.8-.78.8-2.07 0-2.86zM5.41 20L4 18.59l7.72-7.72 1.47 1.35L5.41 20z\"/>\n",
              "  </svg>\n",
              "      </button>\n",
              "      \n",
              "  <style>\n",
              "    .colab-df-container {\n",
              "      display:flex;\n",
              "      flex-wrap:wrap;\n",
              "      gap: 12px;\n",
              "    }\n",
              "\n",
              "    .colab-df-convert {\n",
              "      background-color: #E8F0FE;\n",
              "      border: none;\n",
              "      border-radius: 50%;\n",
              "      cursor: pointer;\n",
              "      display: none;\n",
              "      fill: #1967D2;\n",
              "      height: 32px;\n",
              "      padding: 0 0 0 0;\n",
              "      width: 32px;\n",
              "    }\n",
              "\n",
              "    .colab-df-convert:hover {\n",
              "      background-color: #E2EBFA;\n",
              "      box-shadow: 0px 1px 2px rgba(60, 64, 67, 0.3), 0px 1px 3px 1px rgba(60, 64, 67, 0.15);\n",
              "      fill: #174EA6;\n",
              "    }\n",
              "\n",
              "    [theme=dark] .colab-df-convert {\n",
              "      background-color: #3B4455;\n",
              "      fill: #D2E3FC;\n",
              "    }\n",
              "\n",
              "    [theme=dark] .colab-df-convert:hover {\n",
              "      background-color: #434B5C;\n",
              "      box-shadow: 0px 1px 3px 1px rgba(0, 0, 0, 0.15);\n",
              "      filter: drop-shadow(0px 1px 2px rgba(0, 0, 0, 0.3));\n",
              "      fill: #FFFFFF;\n",
              "    }\n",
              "  </style>\n",
              "\n",
              "      <script>\n",
              "        const buttonEl =\n",
              "          document.querySelector('#df-b2103f6e-073d-40b8-95a6-95c6e1544792 button.colab-df-convert');\n",
              "        buttonEl.style.display =\n",
              "          google.colab.kernel.accessAllowed ? 'block' : 'none';\n",
              "\n",
              "        async function convertToInteractive(key) {\n",
              "          const element = document.querySelector('#df-b2103f6e-073d-40b8-95a6-95c6e1544792');\n",
              "          const dataTable =\n",
              "            await google.colab.kernel.invokeFunction('convertToInteractive',\n",
              "                                                     [key], {});\n",
              "          if (!dataTable) return;\n",
              "\n",
              "          const docLinkHtml = 'Like what you see? Visit the ' +\n",
              "            '<a target=\"_blank\" href=https://colab.research.google.com/notebooks/data_table.ipynb>data table notebook</a>'\n",
              "            + ' to learn more about interactive tables.';\n",
              "          element.innerHTML = '';\n",
              "          dataTable['output_type'] = 'display_data';\n",
              "          await google.colab.output.renderOutput(dataTable, element);\n",
              "          const docLink = document.createElement('div');\n",
              "          docLink.innerHTML = docLinkHtml;\n",
              "          element.appendChild(docLink);\n",
              "        }\n",
              "      </script>\n",
              "    </div>\n",
              "  </div>\n",
              "  "
            ],
            "text/plain": [
              "         DATE  STORE_NBR  ...  PROD_QTY  TOT_SALES\n",
              "0  17/10/2018          1  ...         2        6.0\n",
              "1  14/05/2019          1  ...         3        6.3\n",
              "2  20/05/2019          1  ...         2        2.9\n",
              "3  17/08/2018          2  ...         5       15.0\n",
              "4  18/08/2018          2  ...         3       13.8\n",
              "\n",
              "[5 rows x 8 columns]"
            ]
          },
          "metadata": {},
          "execution_count": 187
        }
      ]
    },
    {
      "cell_type": "code",
      "source": [
        "Transactions_data.isnull().sum()"
      ],
      "metadata": {
        "colab": {
          "base_uri": "https://localhost:8080/"
        },
        "id": "phnP0BffE14d",
        "outputId": "d89da0d8-60b1-4019-8c90-0baca1334a06"
      },
      "execution_count": 188,
      "outputs": [
        {
          "output_type": "execute_result",
          "data": {
            "text/plain": [
              "DATE              0\n",
              "STORE_NBR         0\n",
              "LYLTY_CARD_NBR    0\n",
              "TXN_ID            0\n",
              "PROD_NBR          0\n",
              "PROD_NAME         0\n",
              "PROD_QTY          0\n",
              "TOT_SALES         0\n",
              "dtype: int64"
            ]
          },
          "metadata": {},
          "execution_count": 188
        }
      ]
    },
    {
      "cell_type": "code",
      "source": [
        "Transactions_data.info()"
      ],
      "metadata": {
        "colab": {
          "base_uri": "https://localhost:8080/"
        },
        "id": "qu8riFpvFAIi",
        "outputId": "58097618-cf8d-4ede-ed59-c709f9dc00b0"
      },
      "execution_count": 189,
      "outputs": [
        {
          "output_type": "stream",
          "name": "stdout",
          "text": [
            "<class 'pandas.core.frame.DataFrame'>\n",
            "RangeIndex: 264836 entries, 0 to 264835\n",
            "Data columns (total 8 columns):\n",
            " #   Column          Non-Null Count   Dtype  \n",
            "---  ------          --------------   -----  \n",
            " 0   DATE            264836 non-null  object \n",
            " 1   STORE_NBR       264836 non-null  int64  \n",
            " 2   LYLTY_CARD_NBR  264836 non-null  int64  \n",
            " 3   TXN_ID          264836 non-null  int64  \n",
            " 4   PROD_NBR        264836 non-null  int64  \n",
            " 5   PROD_NAME       264836 non-null  object \n",
            " 6   PROD_QTY        264836 non-null  int64  \n",
            " 7   TOT_SALES       264836 non-null  float64\n",
            "dtypes: float64(1), int64(5), object(2)\n",
            "memory usage: 16.2+ MB\n"
          ]
        }
      ]
    },
    {
      "cell_type": "code",
      "source": [
        "Transactions_data.describe()"
      ],
      "metadata": {
        "colab": {
          "base_uri": "https://localhost:8080/",
          "height": 300
        },
        "id": "7pjyShGMFc3p",
        "outputId": "77b2365a-87e7-4ba7-9edd-eac10fe7fea9"
      },
      "execution_count": 190,
      "outputs": [
        {
          "output_type": "execute_result",
          "data": {
            "text/html": [
              "\n",
              "  <div id=\"df-cc1c3f49-037c-4838-96ed-043d70018a72\">\n",
              "    <div class=\"colab-df-container\">\n",
              "      <div>\n",
              "<style scoped>\n",
              "    .dataframe tbody tr th:only-of-type {\n",
              "        vertical-align: middle;\n",
              "    }\n",
              "\n",
              "    .dataframe tbody tr th {\n",
              "        vertical-align: top;\n",
              "    }\n",
              "\n",
              "    .dataframe thead th {\n",
              "        text-align: right;\n",
              "    }\n",
              "</style>\n",
              "<table border=\"1\" class=\"dataframe\">\n",
              "  <thead>\n",
              "    <tr style=\"text-align: right;\">\n",
              "      <th></th>\n",
              "      <th>STORE_NBR</th>\n",
              "      <th>LYLTY_CARD_NBR</th>\n",
              "      <th>TXN_ID</th>\n",
              "      <th>PROD_NBR</th>\n",
              "      <th>PROD_QTY</th>\n",
              "      <th>TOT_SALES</th>\n",
              "    </tr>\n",
              "  </thead>\n",
              "  <tbody>\n",
              "    <tr>\n",
              "      <th>count</th>\n",
              "      <td>264836.00000</td>\n",
              "      <td>2.648360e+05</td>\n",
              "      <td>2.648360e+05</td>\n",
              "      <td>264836.000000</td>\n",
              "      <td>264836.000000</td>\n",
              "      <td>264836.000000</td>\n",
              "    </tr>\n",
              "    <tr>\n",
              "      <th>mean</th>\n",
              "      <td>135.08011</td>\n",
              "      <td>1.355495e+05</td>\n",
              "      <td>1.351583e+05</td>\n",
              "      <td>56.583157</td>\n",
              "      <td>1.907309</td>\n",
              "      <td>7.304200</td>\n",
              "    </tr>\n",
              "    <tr>\n",
              "      <th>std</th>\n",
              "      <td>76.78418</td>\n",
              "      <td>8.057998e+04</td>\n",
              "      <td>7.813303e+04</td>\n",
              "      <td>32.826638</td>\n",
              "      <td>0.643654</td>\n",
              "      <td>3.083226</td>\n",
              "    </tr>\n",
              "    <tr>\n",
              "      <th>min</th>\n",
              "      <td>1.00000</td>\n",
              "      <td>1.000000e+03</td>\n",
              "      <td>1.000000e+00</td>\n",
              "      <td>1.000000</td>\n",
              "      <td>1.000000</td>\n",
              "      <td>1.500000</td>\n",
              "    </tr>\n",
              "    <tr>\n",
              "      <th>25%</th>\n",
              "      <td>70.00000</td>\n",
              "      <td>7.002100e+04</td>\n",
              "      <td>6.760150e+04</td>\n",
              "      <td>28.000000</td>\n",
              "      <td>2.000000</td>\n",
              "      <td>5.400000</td>\n",
              "    </tr>\n",
              "    <tr>\n",
              "      <th>50%</th>\n",
              "      <td>130.00000</td>\n",
              "      <td>1.303575e+05</td>\n",
              "      <td>1.351375e+05</td>\n",
              "      <td>56.000000</td>\n",
              "      <td>2.000000</td>\n",
              "      <td>7.400000</td>\n",
              "    </tr>\n",
              "    <tr>\n",
              "      <th>75%</th>\n",
              "      <td>203.00000</td>\n",
              "      <td>2.030942e+05</td>\n",
              "      <td>2.027012e+05</td>\n",
              "      <td>85.000000</td>\n",
              "      <td>2.000000</td>\n",
              "      <td>9.200000</td>\n",
              "    </tr>\n",
              "    <tr>\n",
              "      <th>max</th>\n",
              "      <td>272.00000</td>\n",
              "      <td>2.373711e+06</td>\n",
              "      <td>2.415841e+06</td>\n",
              "      <td>114.000000</td>\n",
              "      <td>200.000000</td>\n",
              "      <td>650.000000</td>\n",
              "    </tr>\n",
              "  </tbody>\n",
              "</table>\n",
              "</div>\n",
              "      <button class=\"colab-df-convert\" onclick=\"convertToInteractive('df-cc1c3f49-037c-4838-96ed-043d70018a72')\"\n",
              "              title=\"Convert this dataframe to an interactive table.\"\n",
              "              style=\"display:none;\">\n",
              "        \n",
              "  <svg xmlns=\"http://www.w3.org/2000/svg\" height=\"24px\"viewBox=\"0 0 24 24\"\n",
              "       width=\"24px\">\n",
              "    <path d=\"M0 0h24v24H0V0z\" fill=\"none\"/>\n",
              "    <path d=\"M18.56 5.44l.94 2.06.94-2.06 2.06-.94-2.06-.94-.94-2.06-.94 2.06-2.06.94zm-11 1L8.5 8.5l.94-2.06 2.06-.94-2.06-.94L8.5 2.5l-.94 2.06-2.06.94zm10 10l.94 2.06.94-2.06 2.06-.94-2.06-.94-.94-2.06-.94 2.06-2.06.94z\"/><path d=\"M17.41 7.96l-1.37-1.37c-.4-.4-.92-.59-1.43-.59-.52 0-1.04.2-1.43.59L10.3 9.45l-7.72 7.72c-.78.78-.78 2.05 0 2.83L4 21.41c.39.39.9.59 1.41.59.51 0 1.02-.2 1.41-.59l7.78-7.78 2.81-2.81c.8-.78.8-2.07 0-2.86zM5.41 20L4 18.59l7.72-7.72 1.47 1.35L5.41 20z\"/>\n",
              "  </svg>\n",
              "      </button>\n",
              "      \n",
              "  <style>\n",
              "    .colab-df-container {\n",
              "      display:flex;\n",
              "      flex-wrap:wrap;\n",
              "      gap: 12px;\n",
              "    }\n",
              "\n",
              "    .colab-df-convert {\n",
              "      background-color: #E8F0FE;\n",
              "      border: none;\n",
              "      border-radius: 50%;\n",
              "      cursor: pointer;\n",
              "      display: none;\n",
              "      fill: #1967D2;\n",
              "      height: 32px;\n",
              "      padding: 0 0 0 0;\n",
              "      width: 32px;\n",
              "    }\n",
              "\n",
              "    .colab-df-convert:hover {\n",
              "      background-color: #E2EBFA;\n",
              "      box-shadow: 0px 1px 2px rgba(60, 64, 67, 0.3), 0px 1px 3px 1px rgba(60, 64, 67, 0.15);\n",
              "      fill: #174EA6;\n",
              "    }\n",
              "\n",
              "    [theme=dark] .colab-df-convert {\n",
              "      background-color: #3B4455;\n",
              "      fill: #D2E3FC;\n",
              "    }\n",
              "\n",
              "    [theme=dark] .colab-df-convert:hover {\n",
              "      background-color: #434B5C;\n",
              "      box-shadow: 0px 1px 3px 1px rgba(0, 0, 0, 0.15);\n",
              "      filter: drop-shadow(0px 1px 2px rgba(0, 0, 0, 0.3));\n",
              "      fill: #FFFFFF;\n",
              "    }\n",
              "  </style>\n",
              "\n",
              "      <script>\n",
              "        const buttonEl =\n",
              "          document.querySelector('#df-cc1c3f49-037c-4838-96ed-043d70018a72 button.colab-df-convert');\n",
              "        buttonEl.style.display =\n",
              "          google.colab.kernel.accessAllowed ? 'block' : 'none';\n",
              "\n",
              "        async function convertToInteractive(key) {\n",
              "          const element = document.querySelector('#df-cc1c3f49-037c-4838-96ed-043d70018a72');\n",
              "          const dataTable =\n",
              "            await google.colab.kernel.invokeFunction('convertToInteractive',\n",
              "                                                     [key], {});\n",
              "          if (!dataTable) return;\n",
              "\n",
              "          const docLinkHtml = 'Like what you see? Visit the ' +\n",
              "            '<a target=\"_blank\" href=https://colab.research.google.com/notebooks/data_table.ipynb>data table notebook</a>'\n",
              "            + ' to learn more about interactive tables.';\n",
              "          element.innerHTML = '';\n",
              "          dataTable['output_type'] = 'display_data';\n",
              "          await google.colab.output.renderOutput(dataTable, element);\n",
              "          const docLink = document.createElement('div');\n",
              "          docLink.innerHTML = docLinkHtml;\n",
              "          element.appendChild(docLink);\n",
              "        }\n",
              "      </script>\n",
              "    </div>\n",
              "  </div>\n",
              "  "
            ],
            "text/plain": [
              "          STORE_NBR  LYLTY_CARD_NBR  ...       PROD_QTY      TOT_SALES\n",
              "count  264836.00000    2.648360e+05  ...  264836.000000  264836.000000\n",
              "mean      135.08011    1.355495e+05  ...       1.907309       7.304200\n",
              "std        76.78418    8.057998e+04  ...       0.643654       3.083226\n",
              "min         1.00000    1.000000e+03  ...       1.000000       1.500000\n",
              "25%        70.00000    7.002100e+04  ...       2.000000       5.400000\n",
              "50%       130.00000    1.303575e+05  ...       2.000000       7.400000\n",
              "75%       203.00000    2.030942e+05  ...       2.000000       9.200000\n",
              "max       272.00000    2.373711e+06  ...     200.000000     650.000000\n",
              "\n",
              "[8 rows x 6 columns]"
            ]
          },
          "metadata": {},
          "execution_count": 190
        }
      ]
    },
    {
      "cell_type": "code",
      "source": [
        "list(Transactions_data.columns)"
      ],
      "metadata": {
        "colab": {
          "base_uri": "https://localhost:8080/"
        },
        "id": "f9av4V8QWZMb",
        "outputId": "863c8c60-6fe7-4ec9-c685-333bd003c23e"
      },
      "execution_count": 191,
      "outputs": [
        {
          "output_type": "execute_result",
          "data": {
            "text/plain": [
              "['DATE',\n",
              " 'STORE_NBR',\n",
              " 'LYLTY_CARD_NBR',\n",
              " 'TXN_ID',\n",
              " 'PROD_NBR',\n",
              " 'PROD_NAME',\n",
              " 'PROD_QTY',\n",
              " 'TOT_SALES']"
            ]
          },
          "metadata": {},
          "execution_count": 191
        }
      ]
    },
    {
      "cell_type": "markdown",
      "source": [
        "**Looking into the dates:**"
      ],
      "metadata": {
        "id": "nAWOrcsIaFiZ"
      }
    },
    {
      "cell_type": "code",
      "source": [
        "Transactions_data['DATE'].head()"
      ],
      "metadata": {
        "colab": {
          "base_uri": "https://localhost:8080/"
        },
        "id": "oZUJiz6YGYfp",
        "outputId": "89b2ce34-c907-487e-f7f7-f08543f794f0"
      },
      "execution_count": 192,
      "outputs": [
        {
          "output_type": "execute_result",
          "data": {
            "text/plain": [
              "0    17/10/2018\n",
              "1    14/05/2019\n",
              "2    20/05/2019\n",
              "3    17/08/2018\n",
              "4    18/08/2018\n",
              "Name: DATE, dtype: object"
            ]
          },
          "metadata": {},
          "execution_count": 192
        }
      ]
    },
    {
      "cell_type": "code",
      "source": [
        "Transactions_data['DATE'].tail()"
      ],
      "metadata": {
        "colab": {
          "base_uri": "https://localhost:8080/"
        },
        "id": "Jx0R6P7qb3rO",
        "outputId": "1f2df5d7-8a12-4135-8708-fe156a9a11c5"
      },
      "execution_count": 193,
      "outputs": [
        {
          "output_type": "execute_result",
          "data": {
            "text/plain": [
              "264831    09/03/2019\n",
              "264832    13/08/2018\n",
              "264833    06/11/2018\n",
              "264834    27/12/2018\n",
              "264835    22/09/2018\n",
              "Name: DATE, dtype: object"
            ]
          },
          "metadata": {},
          "execution_count": 193
        }
      ]
    },
    {
      "cell_type": "markdown",
      "source": [
        "**Product Names:**"
      ],
      "metadata": {
        "id": "exgOR0vgaTvq"
      }
    },
    {
      "cell_type": "code",
      "source": [
        "Transactions_data['PROD_NAME'].head()"
      ],
      "metadata": {
        "colab": {
          "base_uri": "https://localhost:8080/"
        },
        "id": "KDWwdO79X1CS",
        "outputId": "22ce3e1a-7097-4140-dde7-8b6a186fe406"
      },
      "execution_count": 194,
      "outputs": [
        {
          "output_type": "execute_result",
          "data": {
            "text/plain": [
              "0      Natural Chip        Compny SeaSalt175g\n",
              "1                    CCs Nacho Cheese    175g\n",
              "2      Smiths Crinkle Cut  Chips Chicken 170g\n",
              "3      Smiths Chip Thinly  S/Cream&Onion 175g\n",
              "4    Kettle Tortilla ChpsHny&Jlpno Chili 150g\n",
              "Name: PROD_NAME, dtype: object"
            ]
          },
          "metadata": {},
          "execution_count": 194
        }
      ]
    },
    {
      "cell_type": "code",
      "source": [
        "Transactions_data['PROD_NAME'].describe()"
      ],
      "metadata": {
        "colab": {
          "base_uri": "https://localhost:8080/"
        },
        "id": "fUuwTntjYSqL",
        "outputId": "fec585b6-6efc-406d-e766-d6d7b9e37123"
      },
      "execution_count": 195,
      "outputs": [
        {
          "output_type": "execute_result",
          "data": {
            "text/plain": [
              "count                                     264836\n",
              "unique                                       114\n",
              "top       Kettle Mozzarella   Basil & Pesto 175g\n",
              "freq                                        3304\n",
              "Name: PROD_NAME, dtype: object"
            ]
          },
          "metadata": {},
          "execution_count": 195
        }
      ]
    },
    {
      "cell_type": "code",
      "source": [
        "Transactions_data['PROD_NAME'].nunique()"
      ],
      "metadata": {
        "colab": {
          "base_uri": "https://localhost:8080/"
        },
        "outputId": "cb5215ca-481d-421b-82e2-173872dd1a00",
        "id": "HZqpKhwsF4NC"
      },
      "execution_count": 196,
      "outputs": [
        {
          "output_type": "execute_result",
          "data": {
            "text/plain": [
              "114"
            ]
          },
          "metadata": {},
          "execution_count": 196
        }
      ]
    },
    {
      "cell_type": "code",
      "source": [
        "Transactions_data['PROD_NAME'].value_counts()"
      ],
      "metadata": {
        "colab": {
          "base_uri": "https://localhost:8080/"
        },
        "id": "RIkUveLJGRa1",
        "outputId": "dbf59eca-e1ac-4bba-ae5c-26f03156357d"
      },
      "execution_count": 197,
      "outputs": [
        {
          "output_type": "execute_result",
          "data": {
            "text/plain": [
              "Kettle Mozzarella   Basil & Pesto 175g      3304\n",
              "Kettle Tortilla ChpsHny&Jlpno Chili 150g    3296\n",
              "Cobs Popd Swt/Chlli &Sr/Cream Chips 110g    3269\n",
              "Tyrrells Crisps     Ched & Chives 165g      3268\n",
              "Cobs Popd Sea Salt  Chips 110g              3265\n",
              "                                            ... \n",
              "RRD Pc Sea Salt     165g                    1431\n",
              "Woolworths Medium   Salsa 300g              1430\n",
              "NCC Sour Cream &    Garden Chives 175g      1419\n",
              "French Fries Potato Chips 175g              1418\n",
              "WW Crinkle Cut      Original 175g           1410\n",
              "Name: PROD_NAME, Length: 114, dtype: int64"
            ]
          },
          "metadata": {},
          "execution_count": 197
        }
      ]
    },
    {
      "cell_type": "markdown",
      "source": [
        "**Transactions ID:**\n",
        "\n",
        "For checking in the transactions made over the years"
      ],
      "metadata": {
        "id": "QR9C1FZ-a6wK"
      }
    },
    {
      "cell_type": "code",
      "source": [
        "Transactions_data['TXN_ID'].head()"
      ],
      "metadata": {
        "colab": {
          "base_uri": "https://localhost:8080/"
        },
        "id": "9wSchYg2bTWb",
        "outputId": "8ca0bf08-3797-41b1-bfa5-e1d7848d9599"
      },
      "execution_count": 198,
      "outputs": [
        {
          "output_type": "execute_result",
          "data": {
            "text/plain": [
              "0       1\n",
              "1     348\n",
              "2     383\n",
              "3     974\n",
              "4    1038\n",
              "Name: TXN_ID, dtype: int64"
            ]
          },
          "metadata": {},
          "execution_count": 198
        }
      ]
    },
    {
      "cell_type": "code",
      "source": [
        "Transactions_data['TXN_ID'].nunique()"
      ],
      "metadata": {
        "colab": {
          "base_uri": "https://localhost:8080/"
        },
        "id": "L1kDQ_6RbYyr",
        "outputId": "274676d8-9e83-44b3-a17c-0d4d24bdfff7"
      },
      "execution_count": 199,
      "outputs": [
        {
          "output_type": "execute_result",
          "data": {
            "text/plain": [
              "263127"
            ]
          },
          "metadata": {},
          "execution_count": 199
        }
      ]
    },
    {
      "cell_type": "markdown",
      "source": [
        "Showing up the transaction IDs that had repeated usage:"
      ],
      "metadata": {
        "id": "JymUea5md4N8"
      }
    },
    {
      "cell_type": "code",
      "source": [
        "Transactions_data[Transactions_data.duplicated(['TXN_ID'])].head()"
      ],
      "metadata": {
        "colab": {
          "base_uri": "https://localhost:8080/",
          "height": 206
        },
        "id": "fxDv1E1WbzxM",
        "outputId": "39f426e0-f2c6-42a8-9032-4ffd810bd56a"
      },
      "execution_count": 200,
      "outputs": [
        {
          "output_type": "execute_result",
          "data": {
            "text/html": [
              "\n",
              "  <div id=\"df-2cafd2bc-7fd7-4147-bb13-489637b02fc3\">\n",
              "    <div class=\"colab-df-container\">\n",
              "      <div>\n",
              "<style scoped>\n",
              "    .dataframe tbody tr th:only-of-type {\n",
              "        vertical-align: middle;\n",
              "    }\n",
              "\n",
              "    .dataframe tbody tr th {\n",
              "        vertical-align: top;\n",
              "    }\n",
              "\n",
              "    .dataframe thead th {\n",
              "        text-align: right;\n",
              "    }\n",
              "</style>\n",
              "<table border=\"1\" class=\"dataframe\">\n",
              "  <thead>\n",
              "    <tr style=\"text-align: right;\">\n",
              "      <th></th>\n",
              "      <th>DATE</th>\n",
              "      <th>STORE_NBR</th>\n",
              "      <th>LYLTY_CARD_NBR</th>\n",
              "      <th>TXN_ID</th>\n",
              "      <th>PROD_NBR</th>\n",
              "      <th>PROD_NAME</th>\n",
              "      <th>PROD_QTY</th>\n",
              "      <th>TOT_SALES</th>\n",
              "    </tr>\n",
              "  </thead>\n",
              "  <tbody>\n",
              "    <tr>\n",
              "      <th>42</th>\n",
              "      <td>20/05/2019</td>\n",
              "      <td>55</td>\n",
              "      <td>55073</td>\n",
              "      <td>48887</td>\n",
              "      <td>113</td>\n",
              "      <td>Twisties Chicken270g</td>\n",
              "      <td>1</td>\n",
              "      <td>4.6</td>\n",
              "    </tr>\n",
              "    <tr>\n",
              "      <th>377</th>\n",
              "      <td>10/01/2019</td>\n",
              "      <td>7</td>\n",
              "      <td>7364</td>\n",
              "      <td>7739</td>\n",
              "      <td>20</td>\n",
              "      <td>Doritos Cheese      Supreme 330g</td>\n",
              "      <td>2</td>\n",
              "      <td>11.4</td>\n",
              "    </tr>\n",
              "    <tr>\n",
              "      <th>419</th>\n",
              "      <td>18/10/2018</td>\n",
              "      <td>12</td>\n",
              "      <td>12301</td>\n",
              "      <td>10982</td>\n",
              "      <td>93</td>\n",
              "      <td>Doritos Corn Chip Southern Chicken 150g</td>\n",
              "      <td>2</td>\n",
              "      <td>7.8</td>\n",
              "    </tr>\n",
              "    <tr>\n",
              "      <th>476</th>\n",
              "      <td>08/09/2018</td>\n",
              "      <td>16</td>\n",
              "      <td>16427</td>\n",
              "      <td>14546</td>\n",
              "      <td>81</td>\n",
              "      <td>Pringles Original   Crisps 134g</td>\n",
              "      <td>1</td>\n",
              "      <td>3.7</td>\n",
              "    </tr>\n",
              "    <tr>\n",
              "      <th>511</th>\n",
              "      <td>03/08/2018</td>\n",
              "      <td>19</td>\n",
              "      <td>19272</td>\n",
              "      <td>16683</td>\n",
              "      <td>31</td>\n",
              "      <td>Infzns Crn Crnchers Tangy Gcamole 110g</td>\n",
              "      <td>2</td>\n",
              "      <td>7.6</td>\n",
              "    </tr>\n",
              "  </tbody>\n",
              "</table>\n",
              "</div>\n",
              "      <button class=\"colab-df-convert\" onclick=\"convertToInteractive('df-2cafd2bc-7fd7-4147-bb13-489637b02fc3')\"\n",
              "              title=\"Convert this dataframe to an interactive table.\"\n",
              "              style=\"display:none;\">\n",
              "        \n",
              "  <svg xmlns=\"http://www.w3.org/2000/svg\" height=\"24px\"viewBox=\"0 0 24 24\"\n",
              "       width=\"24px\">\n",
              "    <path d=\"M0 0h24v24H0V0z\" fill=\"none\"/>\n",
              "    <path d=\"M18.56 5.44l.94 2.06.94-2.06 2.06-.94-2.06-.94-.94-2.06-.94 2.06-2.06.94zm-11 1L8.5 8.5l.94-2.06 2.06-.94-2.06-.94L8.5 2.5l-.94 2.06-2.06.94zm10 10l.94 2.06.94-2.06 2.06-.94-2.06-.94-.94-2.06-.94 2.06-2.06.94z\"/><path d=\"M17.41 7.96l-1.37-1.37c-.4-.4-.92-.59-1.43-.59-.52 0-1.04.2-1.43.59L10.3 9.45l-7.72 7.72c-.78.78-.78 2.05 0 2.83L4 21.41c.39.39.9.59 1.41.59.51 0 1.02-.2 1.41-.59l7.78-7.78 2.81-2.81c.8-.78.8-2.07 0-2.86zM5.41 20L4 18.59l7.72-7.72 1.47 1.35L5.41 20z\"/>\n",
              "  </svg>\n",
              "      </button>\n",
              "      \n",
              "  <style>\n",
              "    .colab-df-container {\n",
              "      display:flex;\n",
              "      flex-wrap:wrap;\n",
              "      gap: 12px;\n",
              "    }\n",
              "\n",
              "    .colab-df-convert {\n",
              "      background-color: #E8F0FE;\n",
              "      border: none;\n",
              "      border-radius: 50%;\n",
              "      cursor: pointer;\n",
              "      display: none;\n",
              "      fill: #1967D2;\n",
              "      height: 32px;\n",
              "      padding: 0 0 0 0;\n",
              "      width: 32px;\n",
              "    }\n",
              "\n",
              "    .colab-df-convert:hover {\n",
              "      background-color: #E2EBFA;\n",
              "      box-shadow: 0px 1px 2px rgba(60, 64, 67, 0.3), 0px 1px 3px 1px rgba(60, 64, 67, 0.15);\n",
              "      fill: #174EA6;\n",
              "    }\n",
              "\n",
              "    [theme=dark] .colab-df-convert {\n",
              "      background-color: #3B4455;\n",
              "      fill: #D2E3FC;\n",
              "    }\n",
              "\n",
              "    [theme=dark] .colab-df-convert:hover {\n",
              "      background-color: #434B5C;\n",
              "      box-shadow: 0px 1px 3px 1px rgba(0, 0, 0, 0.15);\n",
              "      filter: drop-shadow(0px 1px 2px rgba(0, 0, 0, 0.3));\n",
              "      fill: #FFFFFF;\n",
              "    }\n",
              "  </style>\n",
              "\n",
              "      <script>\n",
              "        const buttonEl =\n",
              "          document.querySelector('#df-2cafd2bc-7fd7-4147-bb13-489637b02fc3 button.colab-df-convert');\n",
              "        buttonEl.style.display =\n",
              "          google.colab.kernel.accessAllowed ? 'block' : 'none';\n",
              "\n",
              "        async function convertToInteractive(key) {\n",
              "          const element = document.querySelector('#df-2cafd2bc-7fd7-4147-bb13-489637b02fc3');\n",
              "          const dataTable =\n",
              "            await google.colab.kernel.invokeFunction('convertToInteractive',\n",
              "                                                     [key], {});\n",
              "          if (!dataTable) return;\n",
              "\n",
              "          const docLinkHtml = 'Like what you see? Visit the ' +\n",
              "            '<a target=\"_blank\" href=https://colab.research.google.com/notebooks/data_table.ipynb>data table notebook</a>'\n",
              "            + ' to learn more about interactive tables.';\n",
              "          element.innerHTML = '';\n",
              "          dataTable['output_type'] = 'display_data';\n",
              "          await google.colab.output.renderOutput(dataTable, element);\n",
              "          const docLink = document.createElement('div');\n",
              "          docLink.innerHTML = docLinkHtml;\n",
              "          element.appendChild(docLink);\n",
              "        }\n",
              "      </script>\n",
              "    </div>\n",
              "  </div>\n",
              "  "
            ],
            "text/plain": [
              "           DATE  STORE_NBR  ...  PROD_QTY  TOT_SALES\n",
              "42   20/05/2019         55  ...         1        4.6\n",
              "377  10/01/2019          7  ...         2       11.4\n",
              "419  18/10/2018         12  ...         2        7.8\n",
              "476  08/09/2018         16  ...         1        3.7\n",
              "511  03/08/2018         19  ...         2        7.6\n",
              "\n",
              "[5 rows x 8 columns]"
            ]
          },
          "metadata": {},
          "execution_count": 200
        }
      ]
    },
    {
      "cell_type": "code",
      "source": [
        "Transactions_data.loc[Transactions_data['TXN_ID'] == 48887]"
      ],
      "metadata": {
        "colab": {
          "base_uri": "https://localhost:8080/",
          "height": 112
        },
        "id": "F8YbFBfRcJAa",
        "outputId": "6ce048b7-b63c-41e6-dd75-5fd50da822b5"
      },
      "execution_count": 201,
      "outputs": [
        {
          "output_type": "execute_result",
          "data": {
            "text/html": [
              "\n",
              "  <div id=\"df-db723db9-e238-489f-9b0e-299a6cb34a22\">\n",
              "    <div class=\"colab-df-container\">\n",
              "      <div>\n",
              "<style scoped>\n",
              "    .dataframe tbody tr th:only-of-type {\n",
              "        vertical-align: middle;\n",
              "    }\n",
              "\n",
              "    .dataframe tbody tr th {\n",
              "        vertical-align: top;\n",
              "    }\n",
              "\n",
              "    .dataframe thead th {\n",
              "        text-align: right;\n",
              "    }\n",
              "</style>\n",
              "<table border=\"1\" class=\"dataframe\">\n",
              "  <thead>\n",
              "    <tr style=\"text-align: right;\">\n",
              "      <th></th>\n",
              "      <th>DATE</th>\n",
              "      <th>STORE_NBR</th>\n",
              "      <th>LYLTY_CARD_NBR</th>\n",
              "      <th>TXN_ID</th>\n",
              "      <th>PROD_NBR</th>\n",
              "      <th>PROD_NAME</th>\n",
              "      <th>PROD_QTY</th>\n",
              "      <th>TOT_SALES</th>\n",
              "    </tr>\n",
              "  </thead>\n",
              "  <tbody>\n",
              "    <tr>\n",
              "      <th>41</th>\n",
              "      <td>20/05/2019</td>\n",
              "      <td>55</td>\n",
              "      <td>55073</td>\n",
              "      <td>48887</td>\n",
              "      <td>4</td>\n",
              "      <td>Dorito Corn Chp     Supreme 380g</td>\n",
              "      <td>1</td>\n",
              "      <td>3.25</td>\n",
              "    </tr>\n",
              "    <tr>\n",
              "      <th>42</th>\n",
              "      <td>20/05/2019</td>\n",
              "      <td>55</td>\n",
              "      <td>55073</td>\n",
              "      <td>48887</td>\n",
              "      <td>113</td>\n",
              "      <td>Twisties Chicken270g</td>\n",
              "      <td>1</td>\n",
              "      <td>4.60</td>\n",
              "    </tr>\n",
              "  </tbody>\n",
              "</table>\n",
              "</div>\n",
              "      <button class=\"colab-df-convert\" onclick=\"convertToInteractive('df-db723db9-e238-489f-9b0e-299a6cb34a22')\"\n",
              "              title=\"Convert this dataframe to an interactive table.\"\n",
              "              style=\"display:none;\">\n",
              "        \n",
              "  <svg xmlns=\"http://www.w3.org/2000/svg\" height=\"24px\"viewBox=\"0 0 24 24\"\n",
              "       width=\"24px\">\n",
              "    <path d=\"M0 0h24v24H0V0z\" fill=\"none\"/>\n",
              "    <path d=\"M18.56 5.44l.94 2.06.94-2.06 2.06-.94-2.06-.94-.94-2.06-.94 2.06-2.06.94zm-11 1L8.5 8.5l.94-2.06 2.06-.94-2.06-.94L8.5 2.5l-.94 2.06-2.06.94zm10 10l.94 2.06.94-2.06 2.06-.94-2.06-.94-.94-2.06-.94 2.06-2.06.94z\"/><path d=\"M17.41 7.96l-1.37-1.37c-.4-.4-.92-.59-1.43-.59-.52 0-1.04.2-1.43.59L10.3 9.45l-7.72 7.72c-.78.78-.78 2.05 0 2.83L4 21.41c.39.39.9.59 1.41.59.51 0 1.02-.2 1.41-.59l7.78-7.78 2.81-2.81c.8-.78.8-2.07 0-2.86zM5.41 20L4 18.59l7.72-7.72 1.47 1.35L5.41 20z\"/>\n",
              "  </svg>\n",
              "      </button>\n",
              "      \n",
              "  <style>\n",
              "    .colab-df-container {\n",
              "      display:flex;\n",
              "      flex-wrap:wrap;\n",
              "      gap: 12px;\n",
              "    }\n",
              "\n",
              "    .colab-df-convert {\n",
              "      background-color: #E8F0FE;\n",
              "      border: none;\n",
              "      border-radius: 50%;\n",
              "      cursor: pointer;\n",
              "      display: none;\n",
              "      fill: #1967D2;\n",
              "      height: 32px;\n",
              "      padding: 0 0 0 0;\n",
              "      width: 32px;\n",
              "    }\n",
              "\n",
              "    .colab-df-convert:hover {\n",
              "      background-color: #E2EBFA;\n",
              "      box-shadow: 0px 1px 2px rgba(60, 64, 67, 0.3), 0px 1px 3px 1px rgba(60, 64, 67, 0.15);\n",
              "      fill: #174EA6;\n",
              "    }\n",
              "\n",
              "    [theme=dark] .colab-df-convert {\n",
              "      background-color: #3B4455;\n",
              "      fill: #D2E3FC;\n",
              "    }\n",
              "\n",
              "    [theme=dark] .colab-df-convert:hover {\n",
              "      background-color: #434B5C;\n",
              "      box-shadow: 0px 1px 3px 1px rgba(0, 0, 0, 0.15);\n",
              "      filter: drop-shadow(0px 1px 2px rgba(0, 0, 0, 0.3));\n",
              "      fill: #FFFFFF;\n",
              "    }\n",
              "  </style>\n",
              "\n",
              "      <script>\n",
              "        const buttonEl =\n",
              "          document.querySelector('#df-db723db9-e238-489f-9b0e-299a6cb34a22 button.colab-df-convert');\n",
              "        buttonEl.style.display =\n",
              "          google.colab.kernel.accessAllowed ? 'block' : 'none';\n",
              "\n",
              "        async function convertToInteractive(key) {\n",
              "          const element = document.querySelector('#df-db723db9-e238-489f-9b0e-299a6cb34a22');\n",
              "          const dataTable =\n",
              "            await google.colab.kernel.invokeFunction('convertToInteractive',\n",
              "                                                     [key], {});\n",
              "          if (!dataTable) return;\n",
              "\n",
              "          const docLinkHtml = 'Like what you see? Visit the ' +\n",
              "            '<a target=\"_blank\" href=https://colab.research.google.com/notebooks/data_table.ipynb>data table notebook</a>'\n",
              "            + ' to learn more about interactive tables.';\n",
              "          element.innerHTML = '';\n",
              "          dataTable['output_type'] = 'display_data';\n",
              "          await google.colab.output.renderOutput(dataTable, element);\n",
              "          const docLink = document.createElement('div');\n",
              "          docLink.innerHTML = docLinkHtml;\n",
              "          element.appendChild(docLink);\n",
              "        }\n",
              "      </script>\n",
              "    </div>\n",
              "  </div>\n",
              "  "
            ],
            "text/plain": [
              "          DATE  STORE_NBR  ...  PROD_QTY  TOT_SALES\n",
              "41  20/05/2019         55  ...         1       3.25\n",
              "42  20/05/2019         55  ...         1       4.60\n",
              "\n",
              "[2 rows x 8 columns]"
            ]
          },
          "metadata": {},
          "execution_count": 201
        }
      ]
    },
    {
      "cell_type": "code",
      "source": [
        "Transactions_data.loc[Transactions_data['TXN_ID'] == 7739]"
      ],
      "metadata": {
        "colab": {
          "base_uri": "https://localhost:8080/",
          "height": 112
        },
        "id": "nTCQsxocdHGw",
        "outputId": "1df38865-f357-4669-becf-88b58117bc4c"
      },
      "execution_count": 202,
      "outputs": [
        {
          "output_type": "execute_result",
          "data": {
            "text/html": [
              "\n",
              "  <div id=\"df-5305d777-b3f1-42e6-a4a8-ec2d93f2b8f1\">\n",
              "    <div class=\"colab-df-container\">\n",
              "      <div>\n",
              "<style scoped>\n",
              "    .dataframe tbody tr th:only-of-type {\n",
              "        vertical-align: middle;\n",
              "    }\n",
              "\n",
              "    .dataframe tbody tr th {\n",
              "        vertical-align: top;\n",
              "    }\n",
              "\n",
              "    .dataframe thead th {\n",
              "        text-align: right;\n",
              "    }\n",
              "</style>\n",
              "<table border=\"1\" class=\"dataframe\">\n",
              "  <thead>\n",
              "    <tr style=\"text-align: right;\">\n",
              "      <th></th>\n",
              "      <th>DATE</th>\n",
              "      <th>STORE_NBR</th>\n",
              "      <th>LYLTY_CARD_NBR</th>\n",
              "      <th>TXN_ID</th>\n",
              "      <th>PROD_NBR</th>\n",
              "      <th>PROD_NAME</th>\n",
              "      <th>PROD_QTY</th>\n",
              "      <th>TOT_SALES</th>\n",
              "    </tr>\n",
              "  </thead>\n",
              "  <tbody>\n",
              "    <tr>\n",
              "      <th>376</th>\n",
              "      <td>10/01/2019</td>\n",
              "      <td>7</td>\n",
              "      <td>7364</td>\n",
              "      <td>7739</td>\n",
              "      <td>50</td>\n",
              "      <td>Tostitos Lightly    Salted 175g</td>\n",
              "      <td>2</td>\n",
              "      <td>8.8</td>\n",
              "    </tr>\n",
              "    <tr>\n",
              "      <th>377</th>\n",
              "      <td>10/01/2019</td>\n",
              "      <td>7</td>\n",
              "      <td>7364</td>\n",
              "      <td>7739</td>\n",
              "      <td>20</td>\n",
              "      <td>Doritos Cheese      Supreme 330g</td>\n",
              "      <td>2</td>\n",
              "      <td>11.4</td>\n",
              "    </tr>\n",
              "  </tbody>\n",
              "</table>\n",
              "</div>\n",
              "      <button class=\"colab-df-convert\" onclick=\"convertToInteractive('df-5305d777-b3f1-42e6-a4a8-ec2d93f2b8f1')\"\n",
              "              title=\"Convert this dataframe to an interactive table.\"\n",
              "              style=\"display:none;\">\n",
              "        \n",
              "  <svg xmlns=\"http://www.w3.org/2000/svg\" height=\"24px\"viewBox=\"0 0 24 24\"\n",
              "       width=\"24px\">\n",
              "    <path d=\"M0 0h24v24H0V0z\" fill=\"none\"/>\n",
              "    <path d=\"M18.56 5.44l.94 2.06.94-2.06 2.06-.94-2.06-.94-.94-2.06-.94 2.06-2.06.94zm-11 1L8.5 8.5l.94-2.06 2.06-.94-2.06-.94L8.5 2.5l-.94 2.06-2.06.94zm10 10l.94 2.06.94-2.06 2.06-.94-2.06-.94-.94-2.06-.94 2.06-2.06.94z\"/><path d=\"M17.41 7.96l-1.37-1.37c-.4-.4-.92-.59-1.43-.59-.52 0-1.04.2-1.43.59L10.3 9.45l-7.72 7.72c-.78.78-.78 2.05 0 2.83L4 21.41c.39.39.9.59 1.41.59.51 0 1.02-.2 1.41-.59l7.78-7.78 2.81-2.81c.8-.78.8-2.07 0-2.86zM5.41 20L4 18.59l7.72-7.72 1.47 1.35L5.41 20z\"/>\n",
              "  </svg>\n",
              "      </button>\n",
              "      \n",
              "  <style>\n",
              "    .colab-df-container {\n",
              "      display:flex;\n",
              "      flex-wrap:wrap;\n",
              "      gap: 12px;\n",
              "    }\n",
              "\n",
              "    .colab-df-convert {\n",
              "      background-color: #E8F0FE;\n",
              "      border: none;\n",
              "      border-radius: 50%;\n",
              "      cursor: pointer;\n",
              "      display: none;\n",
              "      fill: #1967D2;\n",
              "      height: 32px;\n",
              "      padding: 0 0 0 0;\n",
              "      width: 32px;\n",
              "    }\n",
              "\n",
              "    .colab-df-convert:hover {\n",
              "      background-color: #E2EBFA;\n",
              "      box-shadow: 0px 1px 2px rgba(60, 64, 67, 0.3), 0px 1px 3px 1px rgba(60, 64, 67, 0.15);\n",
              "      fill: #174EA6;\n",
              "    }\n",
              "\n",
              "    [theme=dark] .colab-df-convert {\n",
              "      background-color: #3B4455;\n",
              "      fill: #D2E3FC;\n",
              "    }\n",
              "\n",
              "    [theme=dark] .colab-df-convert:hover {\n",
              "      background-color: #434B5C;\n",
              "      box-shadow: 0px 1px 3px 1px rgba(0, 0, 0, 0.15);\n",
              "      filter: drop-shadow(0px 1px 2px rgba(0, 0, 0, 0.3));\n",
              "      fill: #FFFFFF;\n",
              "    }\n",
              "  </style>\n",
              "\n",
              "      <script>\n",
              "        const buttonEl =\n",
              "          document.querySelector('#df-5305d777-b3f1-42e6-a4a8-ec2d93f2b8f1 button.colab-df-convert');\n",
              "        buttonEl.style.display =\n",
              "          google.colab.kernel.accessAllowed ? 'block' : 'none';\n",
              "\n",
              "        async function convertToInteractive(key) {\n",
              "          const element = document.querySelector('#df-5305d777-b3f1-42e6-a4a8-ec2d93f2b8f1');\n",
              "          const dataTable =\n",
              "            await google.colab.kernel.invokeFunction('convertToInteractive',\n",
              "                                                     [key], {});\n",
              "          if (!dataTable) return;\n",
              "\n",
              "          const docLinkHtml = 'Like what you see? Visit the ' +\n",
              "            '<a target=\"_blank\" href=https://colab.research.google.com/notebooks/data_table.ipynb>data table notebook</a>'\n",
              "            + ' to learn more about interactive tables.';\n",
              "          element.innerHTML = '';\n",
              "          dataTable['output_type'] = 'display_data';\n",
              "          await google.colab.output.renderOutput(dataTable, element);\n",
              "          const docLink = document.createElement('div');\n",
              "          docLink.innerHTML = docLinkHtml;\n",
              "          element.appendChild(docLink);\n",
              "        }\n",
              "      </script>\n",
              "    </div>\n",
              "  </div>\n",
              "  "
            ],
            "text/plain": [
              "           DATE  STORE_NBR  ...  PROD_QTY  TOT_SALES\n",
              "376  10/01/2019          7  ...         2        8.8\n",
              "377  10/01/2019          7  ...         2       11.4\n",
              "\n",
              "[2 rows x 8 columns]"
            ]
          },
          "metadata": {},
          "execution_count": 202
        }
      ]
    },
    {
      "cell_type": "code",
      "source": [
        "Transactions_data.loc[Transactions_data['TXN_ID'] == 10982]"
      ],
      "metadata": {
        "colab": {
          "base_uri": "https://localhost:8080/",
          "height": 112
        },
        "id": "TvpC3XpIdeBV",
        "outputId": "7970ab83-43b2-41e7-86df-76ce14308002"
      },
      "execution_count": 203,
      "outputs": [
        {
          "output_type": "execute_result",
          "data": {
            "text/html": [
              "\n",
              "  <div id=\"df-2d94ed50-af91-44c1-8215-a70efd308d71\">\n",
              "    <div class=\"colab-df-container\">\n",
              "      <div>\n",
              "<style scoped>\n",
              "    .dataframe tbody tr th:only-of-type {\n",
              "        vertical-align: middle;\n",
              "    }\n",
              "\n",
              "    .dataframe tbody tr th {\n",
              "        vertical-align: top;\n",
              "    }\n",
              "\n",
              "    .dataframe thead th {\n",
              "        text-align: right;\n",
              "    }\n",
              "</style>\n",
              "<table border=\"1\" class=\"dataframe\">\n",
              "  <thead>\n",
              "    <tr style=\"text-align: right;\">\n",
              "      <th></th>\n",
              "      <th>DATE</th>\n",
              "      <th>STORE_NBR</th>\n",
              "      <th>LYLTY_CARD_NBR</th>\n",
              "      <th>TXN_ID</th>\n",
              "      <th>PROD_NBR</th>\n",
              "      <th>PROD_NAME</th>\n",
              "      <th>PROD_QTY</th>\n",
              "      <th>TOT_SALES</th>\n",
              "    </tr>\n",
              "  </thead>\n",
              "  <tbody>\n",
              "    <tr>\n",
              "      <th>418</th>\n",
              "      <td>18/10/2018</td>\n",
              "      <td>12</td>\n",
              "      <td>12301</td>\n",
              "      <td>10982</td>\n",
              "      <td>50</td>\n",
              "      <td>Tostitos Lightly    Salted 175g</td>\n",
              "      <td>2</td>\n",
              "      <td>8.8</td>\n",
              "    </tr>\n",
              "    <tr>\n",
              "      <th>419</th>\n",
              "      <td>18/10/2018</td>\n",
              "      <td>12</td>\n",
              "      <td>12301</td>\n",
              "      <td>10982</td>\n",
              "      <td>93</td>\n",
              "      <td>Doritos Corn Chip Southern Chicken 150g</td>\n",
              "      <td>2</td>\n",
              "      <td>7.8</td>\n",
              "    </tr>\n",
              "  </tbody>\n",
              "</table>\n",
              "</div>\n",
              "      <button class=\"colab-df-convert\" onclick=\"convertToInteractive('df-2d94ed50-af91-44c1-8215-a70efd308d71')\"\n",
              "              title=\"Convert this dataframe to an interactive table.\"\n",
              "              style=\"display:none;\">\n",
              "        \n",
              "  <svg xmlns=\"http://www.w3.org/2000/svg\" height=\"24px\"viewBox=\"0 0 24 24\"\n",
              "       width=\"24px\">\n",
              "    <path d=\"M0 0h24v24H0V0z\" fill=\"none\"/>\n",
              "    <path d=\"M18.56 5.44l.94 2.06.94-2.06 2.06-.94-2.06-.94-.94-2.06-.94 2.06-2.06.94zm-11 1L8.5 8.5l.94-2.06 2.06-.94-2.06-.94L8.5 2.5l-.94 2.06-2.06.94zm10 10l.94 2.06.94-2.06 2.06-.94-2.06-.94-.94-2.06-.94 2.06-2.06.94z\"/><path d=\"M17.41 7.96l-1.37-1.37c-.4-.4-.92-.59-1.43-.59-.52 0-1.04.2-1.43.59L10.3 9.45l-7.72 7.72c-.78.78-.78 2.05 0 2.83L4 21.41c.39.39.9.59 1.41.59.51 0 1.02-.2 1.41-.59l7.78-7.78 2.81-2.81c.8-.78.8-2.07 0-2.86zM5.41 20L4 18.59l7.72-7.72 1.47 1.35L5.41 20z\"/>\n",
              "  </svg>\n",
              "      </button>\n",
              "      \n",
              "  <style>\n",
              "    .colab-df-container {\n",
              "      display:flex;\n",
              "      flex-wrap:wrap;\n",
              "      gap: 12px;\n",
              "    }\n",
              "\n",
              "    .colab-df-convert {\n",
              "      background-color: #E8F0FE;\n",
              "      border: none;\n",
              "      border-radius: 50%;\n",
              "      cursor: pointer;\n",
              "      display: none;\n",
              "      fill: #1967D2;\n",
              "      height: 32px;\n",
              "      padding: 0 0 0 0;\n",
              "      width: 32px;\n",
              "    }\n",
              "\n",
              "    .colab-df-convert:hover {\n",
              "      background-color: #E2EBFA;\n",
              "      box-shadow: 0px 1px 2px rgba(60, 64, 67, 0.3), 0px 1px 3px 1px rgba(60, 64, 67, 0.15);\n",
              "      fill: #174EA6;\n",
              "    }\n",
              "\n",
              "    [theme=dark] .colab-df-convert {\n",
              "      background-color: #3B4455;\n",
              "      fill: #D2E3FC;\n",
              "    }\n",
              "\n",
              "    [theme=dark] .colab-df-convert:hover {\n",
              "      background-color: #434B5C;\n",
              "      box-shadow: 0px 1px 3px 1px rgba(0, 0, 0, 0.15);\n",
              "      filter: drop-shadow(0px 1px 2px rgba(0, 0, 0, 0.3));\n",
              "      fill: #FFFFFF;\n",
              "    }\n",
              "  </style>\n",
              "\n",
              "      <script>\n",
              "        const buttonEl =\n",
              "          document.querySelector('#df-2d94ed50-af91-44c1-8215-a70efd308d71 button.colab-df-convert');\n",
              "        buttonEl.style.display =\n",
              "          google.colab.kernel.accessAllowed ? 'block' : 'none';\n",
              "\n",
              "        async function convertToInteractive(key) {\n",
              "          const element = document.querySelector('#df-2d94ed50-af91-44c1-8215-a70efd308d71');\n",
              "          const dataTable =\n",
              "            await google.colab.kernel.invokeFunction('convertToInteractive',\n",
              "                                                     [key], {});\n",
              "          if (!dataTable) return;\n",
              "\n",
              "          const docLinkHtml = 'Like what you see? Visit the ' +\n",
              "            '<a target=\"_blank\" href=https://colab.research.google.com/notebooks/data_table.ipynb>data table notebook</a>'\n",
              "            + ' to learn more about interactive tables.';\n",
              "          element.innerHTML = '';\n",
              "          dataTable['output_type'] = 'display_data';\n",
              "          await google.colab.output.renderOutput(dataTable, element);\n",
              "          const docLink = document.createElement('div');\n",
              "          docLink.innerHTML = docLinkHtml;\n",
              "          element.appendChild(docLink);\n",
              "        }\n",
              "      </script>\n",
              "    </div>\n",
              "  </div>\n",
              "  "
            ],
            "text/plain": [
              "           DATE  STORE_NBR  ...  PROD_QTY  TOT_SALES\n",
              "418  18/10/2018         12  ...         2        8.8\n",
              "419  18/10/2018         12  ...         2        7.8\n",
              "\n",
              "[2 rows x 8 columns]"
            ]
          },
          "metadata": {},
          "execution_count": 203
        }
      ]
    },
    {
      "cell_type": "code",
      "source": [
        "Transactions_data.loc[Transactions_data['TXN_ID'] == 14546]"
      ],
      "metadata": {
        "colab": {
          "base_uri": "https://localhost:8080/",
          "height": 112
        },
        "id": "P71lvDjsdiCX",
        "outputId": "d73c9f24-31e0-46b0-a322-733bb057a6d9"
      },
      "execution_count": 204,
      "outputs": [
        {
          "output_type": "execute_result",
          "data": {
            "text/html": [
              "\n",
              "  <div id=\"df-12a9e176-efb0-48cd-9d9c-15d407fdb536\">\n",
              "    <div class=\"colab-df-container\">\n",
              "      <div>\n",
              "<style scoped>\n",
              "    .dataframe tbody tr th:only-of-type {\n",
              "        vertical-align: middle;\n",
              "    }\n",
              "\n",
              "    .dataframe tbody tr th {\n",
              "        vertical-align: top;\n",
              "    }\n",
              "\n",
              "    .dataframe thead th {\n",
              "        text-align: right;\n",
              "    }\n",
              "</style>\n",
              "<table border=\"1\" class=\"dataframe\">\n",
              "  <thead>\n",
              "    <tr style=\"text-align: right;\">\n",
              "      <th></th>\n",
              "      <th>DATE</th>\n",
              "      <th>STORE_NBR</th>\n",
              "      <th>LYLTY_CARD_NBR</th>\n",
              "      <th>TXN_ID</th>\n",
              "      <th>PROD_NBR</th>\n",
              "      <th>PROD_NAME</th>\n",
              "      <th>PROD_QTY</th>\n",
              "      <th>TOT_SALES</th>\n",
              "    </tr>\n",
              "  </thead>\n",
              "  <tbody>\n",
              "    <tr>\n",
              "      <th>475</th>\n",
              "      <td>08/09/2018</td>\n",
              "      <td>16</td>\n",
              "      <td>16427</td>\n",
              "      <td>14546</td>\n",
              "      <td>99</td>\n",
              "      <td>Pringles Sthrn FriedChicken 134g</td>\n",
              "      <td>1</td>\n",
              "      <td>3.7</td>\n",
              "    </tr>\n",
              "    <tr>\n",
              "      <th>476</th>\n",
              "      <td>08/09/2018</td>\n",
              "      <td>16</td>\n",
              "      <td>16427</td>\n",
              "      <td>14546</td>\n",
              "      <td>81</td>\n",
              "      <td>Pringles Original   Crisps 134g</td>\n",
              "      <td>1</td>\n",
              "      <td>3.7</td>\n",
              "    </tr>\n",
              "  </tbody>\n",
              "</table>\n",
              "</div>\n",
              "      <button class=\"colab-df-convert\" onclick=\"convertToInteractive('df-12a9e176-efb0-48cd-9d9c-15d407fdb536')\"\n",
              "              title=\"Convert this dataframe to an interactive table.\"\n",
              "              style=\"display:none;\">\n",
              "        \n",
              "  <svg xmlns=\"http://www.w3.org/2000/svg\" height=\"24px\"viewBox=\"0 0 24 24\"\n",
              "       width=\"24px\">\n",
              "    <path d=\"M0 0h24v24H0V0z\" fill=\"none\"/>\n",
              "    <path d=\"M18.56 5.44l.94 2.06.94-2.06 2.06-.94-2.06-.94-.94-2.06-.94 2.06-2.06.94zm-11 1L8.5 8.5l.94-2.06 2.06-.94-2.06-.94L8.5 2.5l-.94 2.06-2.06.94zm10 10l.94 2.06.94-2.06 2.06-.94-2.06-.94-.94-2.06-.94 2.06-2.06.94z\"/><path d=\"M17.41 7.96l-1.37-1.37c-.4-.4-.92-.59-1.43-.59-.52 0-1.04.2-1.43.59L10.3 9.45l-7.72 7.72c-.78.78-.78 2.05 0 2.83L4 21.41c.39.39.9.59 1.41.59.51 0 1.02-.2 1.41-.59l7.78-7.78 2.81-2.81c.8-.78.8-2.07 0-2.86zM5.41 20L4 18.59l7.72-7.72 1.47 1.35L5.41 20z\"/>\n",
              "  </svg>\n",
              "      </button>\n",
              "      \n",
              "  <style>\n",
              "    .colab-df-container {\n",
              "      display:flex;\n",
              "      flex-wrap:wrap;\n",
              "      gap: 12px;\n",
              "    }\n",
              "\n",
              "    .colab-df-convert {\n",
              "      background-color: #E8F0FE;\n",
              "      border: none;\n",
              "      border-radius: 50%;\n",
              "      cursor: pointer;\n",
              "      display: none;\n",
              "      fill: #1967D2;\n",
              "      height: 32px;\n",
              "      padding: 0 0 0 0;\n",
              "      width: 32px;\n",
              "    }\n",
              "\n",
              "    .colab-df-convert:hover {\n",
              "      background-color: #E2EBFA;\n",
              "      box-shadow: 0px 1px 2px rgba(60, 64, 67, 0.3), 0px 1px 3px 1px rgba(60, 64, 67, 0.15);\n",
              "      fill: #174EA6;\n",
              "    }\n",
              "\n",
              "    [theme=dark] .colab-df-convert {\n",
              "      background-color: #3B4455;\n",
              "      fill: #D2E3FC;\n",
              "    }\n",
              "\n",
              "    [theme=dark] .colab-df-convert:hover {\n",
              "      background-color: #434B5C;\n",
              "      box-shadow: 0px 1px 3px 1px rgba(0, 0, 0, 0.15);\n",
              "      filter: drop-shadow(0px 1px 2px rgba(0, 0, 0, 0.3));\n",
              "      fill: #FFFFFF;\n",
              "    }\n",
              "  </style>\n",
              "\n",
              "      <script>\n",
              "        const buttonEl =\n",
              "          document.querySelector('#df-12a9e176-efb0-48cd-9d9c-15d407fdb536 button.colab-df-convert');\n",
              "        buttonEl.style.display =\n",
              "          google.colab.kernel.accessAllowed ? 'block' : 'none';\n",
              "\n",
              "        async function convertToInteractive(key) {\n",
              "          const element = document.querySelector('#df-12a9e176-efb0-48cd-9d9c-15d407fdb536');\n",
              "          const dataTable =\n",
              "            await google.colab.kernel.invokeFunction('convertToInteractive',\n",
              "                                                     [key], {});\n",
              "          if (!dataTable) return;\n",
              "\n",
              "          const docLinkHtml = 'Like what you see? Visit the ' +\n",
              "            '<a target=\"_blank\" href=https://colab.research.google.com/notebooks/data_table.ipynb>data table notebook</a>'\n",
              "            + ' to learn more about interactive tables.';\n",
              "          element.innerHTML = '';\n",
              "          dataTable['output_type'] = 'display_data';\n",
              "          await google.colab.output.renderOutput(dataTable, element);\n",
              "          const docLink = document.createElement('div');\n",
              "          docLink.innerHTML = docLinkHtml;\n",
              "          element.appendChild(docLink);\n",
              "        }\n",
              "      </script>\n",
              "    </div>\n",
              "  </div>\n",
              "  "
            ],
            "text/plain": [
              "           DATE  STORE_NBR  ...  PROD_QTY  TOT_SALES\n",
              "475  08/09/2018         16  ...         1        3.7\n",
              "476  08/09/2018         16  ...         1        3.7\n",
              "\n",
              "[2 rows x 8 columns]"
            ]
          },
          "metadata": {},
          "execution_count": 204
        }
      ]
    },
    {
      "cell_type": "code",
      "source": [
        "Transactions_data.loc[Transactions_data['TXN_ID'] == 16682]"
      ],
      "metadata": {
        "colab": {
          "base_uri": "https://localhost:8080/",
          "height": 81
        },
        "id": "PuUz-b7BeK29",
        "outputId": "98bfb4c5-0b49-48ae-c573-e46ba0ed96bc"
      },
      "execution_count": 205,
      "outputs": [
        {
          "output_type": "execute_result",
          "data": {
            "text/html": [
              "\n",
              "  <div id=\"df-16c0690c-6b69-452c-a6a7-7ab8a7bec855\">\n",
              "    <div class=\"colab-df-container\">\n",
              "      <div>\n",
              "<style scoped>\n",
              "    .dataframe tbody tr th:only-of-type {\n",
              "        vertical-align: middle;\n",
              "    }\n",
              "\n",
              "    .dataframe tbody tr th {\n",
              "        vertical-align: top;\n",
              "    }\n",
              "\n",
              "    .dataframe thead th {\n",
              "        text-align: right;\n",
              "    }\n",
              "</style>\n",
              "<table border=\"1\" class=\"dataframe\">\n",
              "  <thead>\n",
              "    <tr style=\"text-align: right;\">\n",
              "      <th></th>\n",
              "      <th>DATE</th>\n",
              "      <th>STORE_NBR</th>\n",
              "      <th>LYLTY_CARD_NBR</th>\n",
              "      <th>TXN_ID</th>\n",
              "      <th>PROD_NBR</th>\n",
              "      <th>PROD_NAME</th>\n",
              "      <th>PROD_QTY</th>\n",
              "      <th>TOT_SALES</th>\n",
              "    </tr>\n",
              "  </thead>\n",
              "  <tbody>\n",
              "    <tr>\n",
              "      <th>17706</th>\n",
              "      <td>09/05/2019</td>\n",
              "      <td>19</td>\n",
              "      <td>19271</td>\n",
              "      <td>16682</td>\n",
              "      <td>93</td>\n",
              "      <td>Doritos Corn Chip Southern Chicken 150g</td>\n",
              "      <td>1</td>\n",
              "      <td>3.9</td>\n",
              "    </tr>\n",
              "  </tbody>\n",
              "</table>\n",
              "</div>\n",
              "      <button class=\"colab-df-convert\" onclick=\"convertToInteractive('df-16c0690c-6b69-452c-a6a7-7ab8a7bec855')\"\n",
              "              title=\"Convert this dataframe to an interactive table.\"\n",
              "              style=\"display:none;\">\n",
              "        \n",
              "  <svg xmlns=\"http://www.w3.org/2000/svg\" height=\"24px\"viewBox=\"0 0 24 24\"\n",
              "       width=\"24px\">\n",
              "    <path d=\"M0 0h24v24H0V0z\" fill=\"none\"/>\n",
              "    <path d=\"M18.56 5.44l.94 2.06.94-2.06 2.06-.94-2.06-.94-.94-2.06-.94 2.06-2.06.94zm-11 1L8.5 8.5l.94-2.06 2.06-.94-2.06-.94L8.5 2.5l-.94 2.06-2.06.94zm10 10l.94 2.06.94-2.06 2.06-.94-2.06-.94-.94-2.06-.94 2.06-2.06.94z\"/><path d=\"M17.41 7.96l-1.37-1.37c-.4-.4-.92-.59-1.43-.59-.52 0-1.04.2-1.43.59L10.3 9.45l-7.72 7.72c-.78.78-.78 2.05 0 2.83L4 21.41c.39.39.9.59 1.41.59.51 0 1.02-.2 1.41-.59l7.78-7.78 2.81-2.81c.8-.78.8-2.07 0-2.86zM5.41 20L4 18.59l7.72-7.72 1.47 1.35L5.41 20z\"/>\n",
              "  </svg>\n",
              "      </button>\n",
              "      \n",
              "  <style>\n",
              "    .colab-df-container {\n",
              "      display:flex;\n",
              "      flex-wrap:wrap;\n",
              "      gap: 12px;\n",
              "    }\n",
              "\n",
              "    .colab-df-convert {\n",
              "      background-color: #E8F0FE;\n",
              "      border: none;\n",
              "      border-radius: 50%;\n",
              "      cursor: pointer;\n",
              "      display: none;\n",
              "      fill: #1967D2;\n",
              "      height: 32px;\n",
              "      padding: 0 0 0 0;\n",
              "      width: 32px;\n",
              "    }\n",
              "\n",
              "    .colab-df-convert:hover {\n",
              "      background-color: #E2EBFA;\n",
              "      box-shadow: 0px 1px 2px rgba(60, 64, 67, 0.3), 0px 1px 3px 1px rgba(60, 64, 67, 0.15);\n",
              "      fill: #174EA6;\n",
              "    }\n",
              "\n",
              "    [theme=dark] .colab-df-convert {\n",
              "      background-color: #3B4455;\n",
              "      fill: #D2E3FC;\n",
              "    }\n",
              "\n",
              "    [theme=dark] .colab-df-convert:hover {\n",
              "      background-color: #434B5C;\n",
              "      box-shadow: 0px 1px 3px 1px rgba(0, 0, 0, 0.15);\n",
              "      filter: drop-shadow(0px 1px 2px rgba(0, 0, 0, 0.3));\n",
              "      fill: #FFFFFF;\n",
              "    }\n",
              "  </style>\n",
              "\n",
              "      <script>\n",
              "        const buttonEl =\n",
              "          document.querySelector('#df-16c0690c-6b69-452c-a6a7-7ab8a7bec855 button.colab-df-convert');\n",
              "        buttonEl.style.display =\n",
              "          google.colab.kernel.accessAllowed ? 'block' : 'none';\n",
              "\n",
              "        async function convertToInteractive(key) {\n",
              "          const element = document.querySelector('#df-16c0690c-6b69-452c-a6a7-7ab8a7bec855');\n",
              "          const dataTable =\n",
              "            await google.colab.kernel.invokeFunction('convertToInteractive',\n",
              "                                                     [key], {});\n",
              "          if (!dataTable) return;\n",
              "\n",
              "          const docLinkHtml = 'Like what you see? Visit the ' +\n",
              "            '<a target=\"_blank\" href=https://colab.research.google.com/notebooks/data_table.ipynb>data table notebook</a>'\n",
              "            + ' to learn more about interactive tables.';\n",
              "          element.innerHTML = '';\n",
              "          dataTable['output_type'] = 'display_data';\n",
              "          await google.colab.output.renderOutput(dataTable, element);\n",
              "          const docLink = document.createElement('div');\n",
              "          docLink.innerHTML = docLinkHtml;\n",
              "          element.appendChild(docLink);\n",
              "        }\n",
              "      </script>\n",
              "    </div>\n",
              "  </div>\n",
              "  "
            ],
            "text/plain": [
              "             DATE  STORE_NBR  ...  PROD_QTY  TOT_SALES\n",
              "17706  09/05/2019         19  ...         1        3.9\n",
              "\n",
              "[1 rows x 8 columns]"
            ]
          },
          "metadata": {},
          "execution_count": 205
        }
      ]
    },
    {
      "cell_type": "markdown",
      "source": [
        "**Product Quantity:**"
      ],
      "metadata": {
        "id": "vsXJbTFehuaa"
      }
    },
    {
      "cell_type": "code",
      "source": [
        "Transactions_data['PROD_QTY'].describe()"
      ],
      "metadata": {
        "colab": {
          "base_uri": "https://localhost:8080/"
        },
        "id": "Cx_WA4tGeSFo",
        "outputId": "8dbe20b1-b8a9-414b-d6ce-c961745c6b41"
      },
      "execution_count": 206,
      "outputs": [
        {
          "output_type": "execute_result",
          "data": {
            "text/plain": [
              "count    264836.000000\n",
              "mean          1.907309\n",
              "std           0.643654\n",
              "min           1.000000\n",
              "25%           2.000000\n",
              "50%           2.000000\n",
              "75%           2.000000\n",
              "max         200.000000\n",
              "Name: PROD_QTY, dtype: float64"
            ]
          },
          "metadata": {},
          "execution_count": 206
        }
      ]
    },
    {
      "cell_type": "code",
      "source": [
        "Transactions_data['PROD_QTY'].value_counts()"
      ],
      "metadata": {
        "colab": {
          "base_uri": "https://localhost:8080/"
        },
        "id": "d9oSF085inbc",
        "outputId": "a396cb47-e0a6-432e-cc74-ee3f4192ecfb"
      },
      "execution_count": 207,
      "outputs": [
        {
          "output_type": "execute_result",
          "data": {
            "text/plain": [
              "2      236039\n",
              "1       27518\n",
              "5         450\n",
              "3         430\n",
              "4         397\n",
              "200         2\n",
              "Name: PROD_QTY, dtype: int64"
            ]
          },
          "metadata": {},
          "execution_count": 207
        }
      ]
    },
    {
      "cell_type": "code",
      "source": [
        "Transactions_data.loc[Transactions_data['PROD_QTY'] == 200]"
      ],
      "metadata": {
        "colab": {
          "base_uri": "https://localhost:8080/",
          "height": 112
        },
        "id": "abmN7TwMi2AP",
        "outputId": "ce8456ea-bad1-415e-913b-97c7ddd6f44e"
      },
      "execution_count": 208,
      "outputs": [
        {
          "output_type": "execute_result",
          "data": {
            "text/html": [
              "\n",
              "  <div id=\"df-4ac80019-50b6-4f57-b65c-cb5dc0331dbb\">\n",
              "    <div class=\"colab-df-container\">\n",
              "      <div>\n",
              "<style scoped>\n",
              "    .dataframe tbody tr th:only-of-type {\n",
              "        vertical-align: middle;\n",
              "    }\n",
              "\n",
              "    .dataframe tbody tr th {\n",
              "        vertical-align: top;\n",
              "    }\n",
              "\n",
              "    .dataframe thead th {\n",
              "        text-align: right;\n",
              "    }\n",
              "</style>\n",
              "<table border=\"1\" class=\"dataframe\">\n",
              "  <thead>\n",
              "    <tr style=\"text-align: right;\">\n",
              "      <th></th>\n",
              "      <th>DATE</th>\n",
              "      <th>STORE_NBR</th>\n",
              "      <th>LYLTY_CARD_NBR</th>\n",
              "      <th>TXN_ID</th>\n",
              "      <th>PROD_NBR</th>\n",
              "      <th>PROD_NAME</th>\n",
              "      <th>PROD_QTY</th>\n",
              "      <th>TOT_SALES</th>\n",
              "    </tr>\n",
              "  </thead>\n",
              "  <tbody>\n",
              "    <tr>\n",
              "      <th>69762</th>\n",
              "      <td>19/08/2018</td>\n",
              "      <td>226</td>\n",
              "      <td>226000</td>\n",
              "      <td>226201</td>\n",
              "      <td>4</td>\n",
              "      <td>Dorito Corn Chp     Supreme 380g</td>\n",
              "      <td>200</td>\n",
              "      <td>650.0</td>\n",
              "    </tr>\n",
              "    <tr>\n",
              "      <th>69763</th>\n",
              "      <td>20/05/2019</td>\n",
              "      <td>226</td>\n",
              "      <td>226000</td>\n",
              "      <td>226210</td>\n",
              "      <td>4</td>\n",
              "      <td>Dorito Corn Chp     Supreme 380g</td>\n",
              "      <td>200</td>\n",
              "      <td>650.0</td>\n",
              "    </tr>\n",
              "  </tbody>\n",
              "</table>\n",
              "</div>\n",
              "      <button class=\"colab-df-convert\" onclick=\"convertToInteractive('df-4ac80019-50b6-4f57-b65c-cb5dc0331dbb')\"\n",
              "              title=\"Convert this dataframe to an interactive table.\"\n",
              "              style=\"display:none;\">\n",
              "        \n",
              "  <svg xmlns=\"http://www.w3.org/2000/svg\" height=\"24px\"viewBox=\"0 0 24 24\"\n",
              "       width=\"24px\">\n",
              "    <path d=\"M0 0h24v24H0V0z\" fill=\"none\"/>\n",
              "    <path d=\"M18.56 5.44l.94 2.06.94-2.06 2.06-.94-2.06-.94-.94-2.06-.94 2.06-2.06.94zm-11 1L8.5 8.5l.94-2.06 2.06-.94-2.06-.94L8.5 2.5l-.94 2.06-2.06.94zm10 10l.94 2.06.94-2.06 2.06-.94-2.06-.94-.94-2.06-.94 2.06-2.06.94z\"/><path d=\"M17.41 7.96l-1.37-1.37c-.4-.4-.92-.59-1.43-.59-.52 0-1.04.2-1.43.59L10.3 9.45l-7.72 7.72c-.78.78-.78 2.05 0 2.83L4 21.41c.39.39.9.59 1.41.59.51 0 1.02-.2 1.41-.59l7.78-7.78 2.81-2.81c.8-.78.8-2.07 0-2.86zM5.41 20L4 18.59l7.72-7.72 1.47 1.35L5.41 20z\"/>\n",
              "  </svg>\n",
              "      </button>\n",
              "      \n",
              "  <style>\n",
              "    .colab-df-container {\n",
              "      display:flex;\n",
              "      flex-wrap:wrap;\n",
              "      gap: 12px;\n",
              "    }\n",
              "\n",
              "    .colab-df-convert {\n",
              "      background-color: #E8F0FE;\n",
              "      border: none;\n",
              "      border-radius: 50%;\n",
              "      cursor: pointer;\n",
              "      display: none;\n",
              "      fill: #1967D2;\n",
              "      height: 32px;\n",
              "      padding: 0 0 0 0;\n",
              "      width: 32px;\n",
              "    }\n",
              "\n",
              "    .colab-df-convert:hover {\n",
              "      background-color: #E2EBFA;\n",
              "      box-shadow: 0px 1px 2px rgba(60, 64, 67, 0.3), 0px 1px 3px 1px rgba(60, 64, 67, 0.15);\n",
              "      fill: #174EA6;\n",
              "    }\n",
              "\n",
              "    [theme=dark] .colab-df-convert {\n",
              "      background-color: #3B4455;\n",
              "      fill: #D2E3FC;\n",
              "    }\n",
              "\n",
              "    [theme=dark] .colab-df-convert:hover {\n",
              "      background-color: #434B5C;\n",
              "      box-shadow: 0px 1px 3px 1px rgba(0, 0, 0, 0.15);\n",
              "      filter: drop-shadow(0px 1px 2px rgba(0, 0, 0, 0.3));\n",
              "      fill: #FFFFFF;\n",
              "    }\n",
              "  </style>\n",
              "\n",
              "      <script>\n",
              "        const buttonEl =\n",
              "          document.querySelector('#df-4ac80019-50b6-4f57-b65c-cb5dc0331dbb button.colab-df-convert');\n",
              "        buttonEl.style.display =\n",
              "          google.colab.kernel.accessAllowed ? 'block' : 'none';\n",
              "\n",
              "        async function convertToInteractive(key) {\n",
              "          const element = document.querySelector('#df-4ac80019-50b6-4f57-b65c-cb5dc0331dbb');\n",
              "          const dataTable =\n",
              "            await google.colab.kernel.invokeFunction('convertToInteractive',\n",
              "                                                     [key], {});\n",
              "          if (!dataTable) return;\n",
              "\n",
              "          const docLinkHtml = 'Like what you see? Visit the ' +\n",
              "            '<a target=\"_blank\" href=https://colab.research.google.com/notebooks/data_table.ipynb>data table notebook</a>'\n",
              "            + ' to learn more about interactive tables.';\n",
              "          element.innerHTML = '';\n",
              "          dataTable['output_type'] = 'display_data';\n",
              "          await google.colab.output.renderOutput(dataTable, element);\n",
              "          const docLink = document.createElement('div');\n",
              "          docLink.innerHTML = docLinkHtml;\n",
              "          element.appendChild(docLink);\n",
              "        }\n",
              "      </script>\n",
              "    </div>\n",
              "  </div>\n",
              "  "
            ],
            "text/plain": [
              "             DATE  STORE_NBR  ...  PROD_QTY  TOT_SALES\n",
              "69762  19/08/2018        226  ...       200      650.0\n",
              "69763  20/05/2019        226  ...       200      650.0\n",
              "\n",
              "[2 rows x 8 columns]"
            ]
          },
          "metadata": {},
          "execution_count": 208
        }
      ]
    },
    {
      "cell_type": "code",
      "source": [
        "Transactions_data.loc[Transactions_data['LYLTY_CARD_NBR'] ==226000 ]"
      ],
      "metadata": {
        "colab": {
          "base_uri": "https://localhost:8080/",
          "height": 112
        },
        "id": "w04dGgIJjDvz",
        "outputId": "cbda1868-cfc6-482c-8176-ba36665c142d"
      },
      "execution_count": 209,
      "outputs": [
        {
          "output_type": "execute_result",
          "data": {
            "text/html": [
              "\n",
              "  <div id=\"df-35bc34e5-9dd2-4e6d-b00a-ca9e40deb843\">\n",
              "    <div class=\"colab-df-container\">\n",
              "      <div>\n",
              "<style scoped>\n",
              "    .dataframe tbody tr th:only-of-type {\n",
              "        vertical-align: middle;\n",
              "    }\n",
              "\n",
              "    .dataframe tbody tr th {\n",
              "        vertical-align: top;\n",
              "    }\n",
              "\n",
              "    .dataframe thead th {\n",
              "        text-align: right;\n",
              "    }\n",
              "</style>\n",
              "<table border=\"1\" class=\"dataframe\">\n",
              "  <thead>\n",
              "    <tr style=\"text-align: right;\">\n",
              "      <th></th>\n",
              "      <th>DATE</th>\n",
              "      <th>STORE_NBR</th>\n",
              "      <th>LYLTY_CARD_NBR</th>\n",
              "      <th>TXN_ID</th>\n",
              "      <th>PROD_NBR</th>\n",
              "      <th>PROD_NAME</th>\n",
              "      <th>PROD_QTY</th>\n",
              "      <th>TOT_SALES</th>\n",
              "    </tr>\n",
              "  </thead>\n",
              "  <tbody>\n",
              "    <tr>\n",
              "      <th>69762</th>\n",
              "      <td>19/08/2018</td>\n",
              "      <td>226</td>\n",
              "      <td>226000</td>\n",
              "      <td>226201</td>\n",
              "      <td>4</td>\n",
              "      <td>Dorito Corn Chp     Supreme 380g</td>\n",
              "      <td>200</td>\n",
              "      <td>650.0</td>\n",
              "    </tr>\n",
              "    <tr>\n",
              "      <th>69763</th>\n",
              "      <td>20/05/2019</td>\n",
              "      <td>226</td>\n",
              "      <td>226000</td>\n",
              "      <td>226210</td>\n",
              "      <td>4</td>\n",
              "      <td>Dorito Corn Chp     Supreme 380g</td>\n",
              "      <td>200</td>\n",
              "      <td>650.0</td>\n",
              "    </tr>\n",
              "  </tbody>\n",
              "</table>\n",
              "</div>\n",
              "      <button class=\"colab-df-convert\" onclick=\"convertToInteractive('df-35bc34e5-9dd2-4e6d-b00a-ca9e40deb843')\"\n",
              "              title=\"Convert this dataframe to an interactive table.\"\n",
              "              style=\"display:none;\">\n",
              "        \n",
              "  <svg xmlns=\"http://www.w3.org/2000/svg\" height=\"24px\"viewBox=\"0 0 24 24\"\n",
              "       width=\"24px\">\n",
              "    <path d=\"M0 0h24v24H0V0z\" fill=\"none\"/>\n",
              "    <path d=\"M18.56 5.44l.94 2.06.94-2.06 2.06-.94-2.06-.94-.94-2.06-.94 2.06-2.06.94zm-11 1L8.5 8.5l.94-2.06 2.06-.94-2.06-.94L8.5 2.5l-.94 2.06-2.06.94zm10 10l.94 2.06.94-2.06 2.06-.94-2.06-.94-.94-2.06-.94 2.06-2.06.94z\"/><path d=\"M17.41 7.96l-1.37-1.37c-.4-.4-.92-.59-1.43-.59-.52 0-1.04.2-1.43.59L10.3 9.45l-7.72 7.72c-.78.78-.78 2.05 0 2.83L4 21.41c.39.39.9.59 1.41.59.51 0 1.02-.2 1.41-.59l7.78-7.78 2.81-2.81c.8-.78.8-2.07 0-2.86zM5.41 20L4 18.59l7.72-7.72 1.47 1.35L5.41 20z\"/>\n",
              "  </svg>\n",
              "      </button>\n",
              "      \n",
              "  <style>\n",
              "    .colab-df-container {\n",
              "      display:flex;\n",
              "      flex-wrap:wrap;\n",
              "      gap: 12px;\n",
              "    }\n",
              "\n",
              "    .colab-df-convert {\n",
              "      background-color: #E8F0FE;\n",
              "      border: none;\n",
              "      border-radius: 50%;\n",
              "      cursor: pointer;\n",
              "      display: none;\n",
              "      fill: #1967D2;\n",
              "      height: 32px;\n",
              "      padding: 0 0 0 0;\n",
              "      width: 32px;\n",
              "    }\n",
              "\n",
              "    .colab-df-convert:hover {\n",
              "      background-color: #E2EBFA;\n",
              "      box-shadow: 0px 1px 2px rgba(60, 64, 67, 0.3), 0px 1px 3px 1px rgba(60, 64, 67, 0.15);\n",
              "      fill: #174EA6;\n",
              "    }\n",
              "\n",
              "    [theme=dark] .colab-df-convert {\n",
              "      background-color: #3B4455;\n",
              "      fill: #D2E3FC;\n",
              "    }\n",
              "\n",
              "    [theme=dark] .colab-df-convert:hover {\n",
              "      background-color: #434B5C;\n",
              "      box-shadow: 0px 1px 3px 1px rgba(0, 0, 0, 0.15);\n",
              "      filter: drop-shadow(0px 1px 2px rgba(0, 0, 0, 0.3));\n",
              "      fill: #FFFFFF;\n",
              "    }\n",
              "  </style>\n",
              "\n",
              "      <script>\n",
              "        const buttonEl =\n",
              "          document.querySelector('#df-35bc34e5-9dd2-4e6d-b00a-ca9e40deb843 button.colab-df-convert');\n",
              "        buttonEl.style.display =\n",
              "          google.colab.kernel.accessAllowed ? 'block' : 'none';\n",
              "\n",
              "        async function convertToInteractive(key) {\n",
              "          const element = document.querySelector('#df-35bc34e5-9dd2-4e6d-b00a-ca9e40deb843');\n",
              "          const dataTable =\n",
              "            await google.colab.kernel.invokeFunction('convertToInteractive',\n",
              "                                                     [key], {});\n",
              "          if (!dataTable) return;\n",
              "\n",
              "          const docLinkHtml = 'Like what you see? Visit the ' +\n",
              "            '<a target=\"_blank\" href=https://colab.research.google.com/notebooks/data_table.ipynb>data table notebook</a>'\n",
              "            + ' to learn more about interactive tables.';\n",
              "          element.innerHTML = '';\n",
              "          dataTable['output_type'] = 'display_data';\n",
              "          await google.colab.output.renderOutput(dataTable, element);\n",
              "          const docLink = document.createElement('div');\n",
              "          docLink.innerHTML = docLinkHtml;\n",
              "          element.appendChild(docLink);\n",
              "        }\n",
              "      </script>\n",
              "    </div>\n",
              "  </div>\n",
              "  "
            ],
            "text/plain": [
              "             DATE  STORE_NBR  ...  PROD_QTY  TOT_SALES\n",
              "69762  19/08/2018        226  ...       200      650.0\n",
              "69763  20/05/2019        226  ...       200      650.0\n",
              "\n",
              "[2 rows x 8 columns]"
            ]
          },
          "metadata": {},
          "execution_count": 209
        }
      ]
    },
    {
      "cell_type": "markdown",
      "source": [
        "Dropping in the Cutomeer with LYLTY_CARD_NBR #26000 data shows the customer purhcase trend is in lumpsum which may conclude he/she buys for commercial purpose. "
      ],
      "metadata": {
        "id": "yr4cRrMLm4jp"
      }
    },
    {
      "cell_type": "code",
      "source": [
        "Transactions_data.drop(Transactions_data.index[Transactions_data['LYLTY_CARD_NBR'] == 226000], inplace = True)\n",
        "Customer_data.drop(Customer_data.index[Customer_data['LYLTY_CARD_NBR']== 226000], inplace = True)"
      ],
      "metadata": {
        "id": "bkAyNRE1jnmc"
      },
      "execution_count": 210,
      "outputs": []
    },
    {
      "cell_type": "markdown",
      "source": [
        "**Date Issues:**"
      ],
      "metadata": {
        "id": "4UTTN3zyQENZ"
      }
    },
    {
      "cell_type": "markdown",
      "source": [
        "Lets check in to Transactions over time are valid without any obvious data issues."
      ],
      "metadata": {
        "id": "-KVcbWyKN_9w"
      }
    },
    {
      "cell_type": "code",
      "source": [
        "Transactions_data['DATE'].nunique()"
      ],
      "metadata": {
        "colab": {
          "base_uri": "https://localhost:8080/"
        },
        "id": "iAH9eJVQRXst",
        "outputId": "7ee2fcfe-bc27-4ad4-e236-22a3422735b4"
      },
      "execution_count": 211,
      "outputs": [
        {
          "output_type": "execute_result",
          "data": {
            "text/plain": [
              "364"
            ]
          },
          "metadata": {},
          "execution_count": 211
        }
      ]
    },
    {
      "cell_type": "code",
      "source": [
        "Transactions_data['DATE'].value_counts()"
      ],
      "metadata": {
        "colab": {
          "base_uri": "https://localhost:8080/"
        },
        "id": "ZIP8L8IyReJd",
        "outputId": "88d83a50-62da-499a-e06a-ab05194f2cb3"
      },
      "execution_count": 212,
      "outputs": [
        {
          "output_type": "execute_result",
          "data": {
            "text/plain": [
              "24/12/2018    939\n",
              "23/12/2018    917\n",
              "22/12/2018    915\n",
              "19/12/2018    906\n",
              "18/12/2018    862\n",
              "             ... \n",
              "12/12/2018    664\n",
              "24/06/2019    662\n",
              "13/06/2019    659\n",
              "18/10/2018    658\n",
              "25/11/2018    648\n",
              "Name: DATE, Length: 364, dtype: int64"
            ]
          },
          "metadata": {},
          "execution_count": 212
        }
      ]
    },
    {
      "cell_type": "markdown",
      "source": [
        "Total Sales for each date.\n",
        "\n"
      ],
      "metadata": {
        "id": "Ol9ipEqwTB-4"
      }
    },
    {
      "cell_type": "code",
      "source": [
        "total_sales = pd.pivot_table(Transactions_data, values = 'TOT_SALES', index = 'DATE', aggfunc = 'sum')\n",
        "total_sales.head()"
      ],
      "metadata": {
        "colab": {
          "base_uri": "https://localhost:8080/",
          "height": 238
        },
        "id": "iG_jWa1CRr4q",
        "outputId": "bd66fd58-c065-4833-e3c1-3474b5082f8f"
      },
      "execution_count": 213,
      "outputs": [
        {
          "output_type": "execute_result",
          "data": {
            "text/html": [
              "\n",
              "  <div id=\"df-111c38c1-d6d0-486d-b440-4274d25ae833\">\n",
              "    <div class=\"colab-df-container\">\n",
              "      <div>\n",
              "<style scoped>\n",
              "    .dataframe tbody tr th:only-of-type {\n",
              "        vertical-align: middle;\n",
              "    }\n",
              "\n",
              "    .dataframe tbody tr th {\n",
              "        vertical-align: top;\n",
              "    }\n",
              "\n",
              "    .dataframe thead th {\n",
              "        text-align: right;\n",
              "    }\n",
              "</style>\n",
              "<table border=\"1\" class=\"dataframe\">\n",
              "  <thead>\n",
              "    <tr style=\"text-align: right;\">\n",
              "      <th></th>\n",
              "      <th>TOT_SALES</th>\n",
              "    </tr>\n",
              "    <tr>\n",
              "      <th>DATE</th>\n",
              "      <th></th>\n",
              "    </tr>\n",
              "  </thead>\n",
              "  <tbody>\n",
              "    <tr>\n",
              "      <th>01/01/2019</th>\n",
              "      <td>5021.1</td>\n",
              "    </tr>\n",
              "    <tr>\n",
              "      <th>01/02/2019</th>\n",
              "      <td>5479.4</td>\n",
              "    </tr>\n",
              "    <tr>\n",
              "      <th>01/03/2019</th>\n",
              "      <td>5211.7</td>\n",
              "    </tr>\n",
              "    <tr>\n",
              "      <th>01/04/2019</th>\n",
              "      <td>4879.7</td>\n",
              "    </tr>\n",
              "    <tr>\n",
              "      <th>01/05/2019</th>\n",
              "      <td>5095.0</td>\n",
              "    </tr>\n",
              "  </tbody>\n",
              "</table>\n",
              "</div>\n",
              "      <button class=\"colab-df-convert\" onclick=\"convertToInteractive('df-111c38c1-d6d0-486d-b440-4274d25ae833')\"\n",
              "              title=\"Convert this dataframe to an interactive table.\"\n",
              "              style=\"display:none;\">\n",
              "        \n",
              "  <svg xmlns=\"http://www.w3.org/2000/svg\" height=\"24px\"viewBox=\"0 0 24 24\"\n",
              "       width=\"24px\">\n",
              "    <path d=\"M0 0h24v24H0V0z\" fill=\"none\"/>\n",
              "    <path d=\"M18.56 5.44l.94 2.06.94-2.06 2.06-.94-2.06-.94-.94-2.06-.94 2.06-2.06.94zm-11 1L8.5 8.5l.94-2.06 2.06-.94-2.06-.94L8.5 2.5l-.94 2.06-2.06.94zm10 10l.94 2.06.94-2.06 2.06-.94-2.06-.94-.94-2.06-.94 2.06-2.06.94z\"/><path d=\"M17.41 7.96l-1.37-1.37c-.4-.4-.92-.59-1.43-.59-.52 0-1.04.2-1.43.59L10.3 9.45l-7.72 7.72c-.78.78-.78 2.05 0 2.83L4 21.41c.39.39.9.59 1.41.59.51 0 1.02-.2 1.41-.59l7.78-7.78 2.81-2.81c.8-.78.8-2.07 0-2.86zM5.41 20L4 18.59l7.72-7.72 1.47 1.35L5.41 20z\"/>\n",
              "  </svg>\n",
              "      </button>\n",
              "      \n",
              "  <style>\n",
              "    .colab-df-container {\n",
              "      display:flex;\n",
              "      flex-wrap:wrap;\n",
              "      gap: 12px;\n",
              "    }\n",
              "\n",
              "    .colab-df-convert {\n",
              "      background-color: #E8F0FE;\n",
              "      border: none;\n",
              "      border-radius: 50%;\n",
              "      cursor: pointer;\n",
              "      display: none;\n",
              "      fill: #1967D2;\n",
              "      height: 32px;\n",
              "      padding: 0 0 0 0;\n",
              "      width: 32px;\n",
              "    }\n",
              "\n",
              "    .colab-df-convert:hover {\n",
              "      background-color: #E2EBFA;\n",
              "      box-shadow: 0px 1px 2px rgba(60, 64, 67, 0.3), 0px 1px 3px 1px rgba(60, 64, 67, 0.15);\n",
              "      fill: #174EA6;\n",
              "    }\n",
              "\n",
              "    [theme=dark] .colab-df-convert {\n",
              "      background-color: #3B4455;\n",
              "      fill: #D2E3FC;\n",
              "    }\n",
              "\n",
              "    [theme=dark] .colab-df-convert:hover {\n",
              "      background-color: #434B5C;\n",
              "      box-shadow: 0px 1px 3px 1px rgba(0, 0, 0, 0.15);\n",
              "      filter: drop-shadow(0px 1px 2px rgba(0, 0, 0, 0.3));\n",
              "      fill: #FFFFFF;\n",
              "    }\n",
              "  </style>\n",
              "\n",
              "      <script>\n",
              "        const buttonEl =\n",
              "          document.querySelector('#df-111c38c1-d6d0-486d-b440-4274d25ae833 button.colab-df-convert');\n",
              "        buttonEl.style.display =\n",
              "          google.colab.kernel.accessAllowed ? 'block' : 'none';\n",
              "\n",
              "        async function convertToInteractive(key) {\n",
              "          const element = document.querySelector('#df-111c38c1-d6d0-486d-b440-4274d25ae833');\n",
              "          const dataTable =\n",
              "            await google.colab.kernel.invokeFunction('convertToInteractive',\n",
              "                                                     [key], {});\n",
              "          if (!dataTable) return;\n",
              "\n",
              "          const docLinkHtml = 'Like what you see? Visit the ' +\n",
              "            '<a target=\"_blank\" href=https://colab.research.google.com/notebooks/data_table.ipynb>data table notebook</a>'\n",
              "            + ' to learn more about interactive tables.';\n",
              "          element.innerHTML = '';\n",
              "          dataTable['output_type'] = 'display_data';\n",
              "          await google.colab.output.renderOutput(dataTable, element);\n",
              "          const docLink = document.createElement('div');\n",
              "          docLink.innerHTML = docLinkHtml;\n",
              "          element.appendChild(docLink);\n",
              "        }\n",
              "      </script>\n",
              "    </div>\n",
              "  </div>\n",
              "  "
            ],
            "text/plain": [
              "            TOT_SALES\n",
              "DATE                 \n",
              "01/01/2019     5021.1\n",
              "01/02/2019     5479.4\n",
              "01/03/2019     5211.7\n",
              "01/04/2019     4879.7\n",
              "01/05/2019     5095.0"
            ]
          },
          "metadata": {},
          "execution_count": 213
        }
      ]
    },
    {
      "cell_type": "markdown",
      "source": [
        "**Aquiring out the column Brand Name:**"
      ],
      "metadata": {
        "id": "SzXFSsGLiJ4e"
      }
    },
    {
      "cell_type": "code",
      "source": [
        "Transactions_data['BRAND'] = Transactions_data['PROD_NAME'].str.split().str[0]\n",
        "Transactions_data['BRAND'].head()"
      ],
      "metadata": {
        "colab": {
          "base_uri": "https://localhost:8080/"
        },
        "id": "qx2XEVsabP5j",
        "outputId": "9848fe44-26d0-48f0-9520-02d4cd6eb285"
      },
      "execution_count": 214,
      "outputs": [
        {
          "output_type": "execute_result",
          "data": {
            "text/plain": [
              "0    Natural\n",
              "1        CCs\n",
              "2     Smiths\n",
              "3     Smiths\n",
              "4     Kettle\n",
              "Name: BRAND, dtype: object"
            ]
          },
          "metadata": {},
          "execution_count": 214
        }
      ]
    },
    {
      "cell_type": "code",
      "source": [
        "Transactions_data.head()"
      ],
      "metadata": {
        "colab": {
          "base_uri": "https://localhost:8080/",
          "height": 206
        },
        "id": "L-Vz2tEoi0_9",
        "outputId": "aa2de4fe-503a-4034-c016-e7efbbff8b2a"
      },
      "execution_count": 215,
      "outputs": [
        {
          "output_type": "execute_result",
          "data": {
            "text/html": [
              "\n",
              "  <div id=\"df-f62cf691-42db-4241-9650-eec3b8ed388e\">\n",
              "    <div class=\"colab-df-container\">\n",
              "      <div>\n",
              "<style scoped>\n",
              "    .dataframe tbody tr th:only-of-type {\n",
              "        vertical-align: middle;\n",
              "    }\n",
              "\n",
              "    .dataframe tbody tr th {\n",
              "        vertical-align: top;\n",
              "    }\n",
              "\n",
              "    .dataframe thead th {\n",
              "        text-align: right;\n",
              "    }\n",
              "</style>\n",
              "<table border=\"1\" class=\"dataframe\">\n",
              "  <thead>\n",
              "    <tr style=\"text-align: right;\">\n",
              "      <th></th>\n",
              "      <th>DATE</th>\n",
              "      <th>STORE_NBR</th>\n",
              "      <th>LYLTY_CARD_NBR</th>\n",
              "      <th>TXN_ID</th>\n",
              "      <th>PROD_NBR</th>\n",
              "      <th>PROD_NAME</th>\n",
              "      <th>PROD_QTY</th>\n",
              "      <th>TOT_SALES</th>\n",
              "      <th>BRAND</th>\n",
              "    </tr>\n",
              "  </thead>\n",
              "  <tbody>\n",
              "    <tr>\n",
              "      <th>0</th>\n",
              "      <td>17/10/2018</td>\n",
              "      <td>1</td>\n",
              "      <td>1000</td>\n",
              "      <td>1</td>\n",
              "      <td>5</td>\n",
              "      <td>Natural Chip        Compny SeaSalt175g</td>\n",
              "      <td>2</td>\n",
              "      <td>6.0</td>\n",
              "      <td>Natural</td>\n",
              "    </tr>\n",
              "    <tr>\n",
              "      <th>1</th>\n",
              "      <td>14/05/2019</td>\n",
              "      <td>1</td>\n",
              "      <td>1307</td>\n",
              "      <td>348</td>\n",
              "      <td>66</td>\n",
              "      <td>CCs Nacho Cheese    175g</td>\n",
              "      <td>3</td>\n",
              "      <td>6.3</td>\n",
              "      <td>CCs</td>\n",
              "    </tr>\n",
              "    <tr>\n",
              "      <th>2</th>\n",
              "      <td>20/05/2019</td>\n",
              "      <td>1</td>\n",
              "      <td>1343</td>\n",
              "      <td>383</td>\n",
              "      <td>61</td>\n",
              "      <td>Smiths Crinkle Cut  Chips Chicken 170g</td>\n",
              "      <td>2</td>\n",
              "      <td>2.9</td>\n",
              "      <td>Smiths</td>\n",
              "    </tr>\n",
              "    <tr>\n",
              "      <th>3</th>\n",
              "      <td>17/08/2018</td>\n",
              "      <td>2</td>\n",
              "      <td>2373</td>\n",
              "      <td>974</td>\n",
              "      <td>69</td>\n",
              "      <td>Smiths Chip Thinly  S/Cream&amp;Onion 175g</td>\n",
              "      <td>5</td>\n",
              "      <td>15.0</td>\n",
              "      <td>Smiths</td>\n",
              "    </tr>\n",
              "    <tr>\n",
              "      <th>4</th>\n",
              "      <td>18/08/2018</td>\n",
              "      <td>2</td>\n",
              "      <td>2426</td>\n",
              "      <td>1038</td>\n",
              "      <td>108</td>\n",
              "      <td>Kettle Tortilla ChpsHny&amp;Jlpno Chili 150g</td>\n",
              "      <td>3</td>\n",
              "      <td>13.8</td>\n",
              "      <td>Kettle</td>\n",
              "    </tr>\n",
              "  </tbody>\n",
              "</table>\n",
              "</div>\n",
              "      <button class=\"colab-df-convert\" onclick=\"convertToInteractive('df-f62cf691-42db-4241-9650-eec3b8ed388e')\"\n",
              "              title=\"Convert this dataframe to an interactive table.\"\n",
              "              style=\"display:none;\">\n",
              "        \n",
              "  <svg xmlns=\"http://www.w3.org/2000/svg\" height=\"24px\"viewBox=\"0 0 24 24\"\n",
              "       width=\"24px\">\n",
              "    <path d=\"M0 0h24v24H0V0z\" fill=\"none\"/>\n",
              "    <path d=\"M18.56 5.44l.94 2.06.94-2.06 2.06-.94-2.06-.94-.94-2.06-.94 2.06-2.06.94zm-11 1L8.5 8.5l.94-2.06 2.06-.94-2.06-.94L8.5 2.5l-.94 2.06-2.06.94zm10 10l.94 2.06.94-2.06 2.06-.94-2.06-.94-.94-2.06-.94 2.06-2.06.94z\"/><path d=\"M17.41 7.96l-1.37-1.37c-.4-.4-.92-.59-1.43-.59-.52 0-1.04.2-1.43.59L10.3 9.45l-7.72 7.72c-.78.78-.78 2.05 0 2.83L4 21.41c.39.39.9.59 1.41.59.51 0 1.02-.2 1.41-.59l7.78-7.78 2.81-2.81c.8-.78.8-2.07 0-2.86zM5.41 20L4 18.59l7.72-7.72 1.47 1.35L5.41 20z\"/>\n",
              "  </svg>\n",
              "      </button>\n",
              "      \n",
              "  <style>\n",
              "    .colab-df-container {\n",
              "      display:flex;\n",
              "      flex-wrap:wrap;\n",
              "      gap: 12px;\n",
              "    }\n",
              "\n",
              "    .colab-df-convert {\n",
              "      background-color: #E8F0FE;\n",
              "      border: none;\n",
              "      border-radius: 50%;\n",
              "      cursor: pointer;\n",
              "      display: none;\n",
              "      fill: #1967D2;\n",
              "      height: 32px;\n",
              "      padding: 0 0 0 0;\n",
              "      width: 32px;\n",
              "    }\n",
              "\n",
              "    .colab-df-convert:hover {\n",
              "      background-color: #E2EBFA;\n",
              "      box-shadow: 0px 1px 2px rgba(60, 64, 67, 0.3), 0px 1px 3px 1px rgba(60, 64, 67, 0.15);\n",
              "      fill: #174EA6;\n",
              "    }\n",
              "\n",
              "    [theme=dark] .colab-df-convert {\n",
              "      background-color: #3B4455;\n",
              "      fill: #D2E3FC;\n",
              "    }\n",
              "\n",
              "    [theme=dark] .colab-df-convert:hover {\n",
              "      background-color: #434B5C;\n",
              "      box-shadow: 0px 1px 3px 1px rgba(0, 0, 0, 0.15);\n",
              "      filter: drop-shadow(0px 1px 2px rgba(0, 0, 0, 0.3));\n",
              "      fill: #FFFFFF;\n",
              "    }\n",
              "  </style>\n",
              "\n",
              "      <script>\n",
              "        const buttonEl =\n",
              "          document.querySelector('#df-f62cf691-42db-4241-9650-eec3b8ed388e button.colab-df-convert');\n",
              "        buttonEl.style.display =\n",
              "          google.colab.kernel.accessAllowed ? 'block' : 'none';\n",
              "\n",
              "        async function convertToInteractive(key) {\n",
              "          const element = document.querySelector('#df-f62cf691-42db-4241-9650-eec3b8ed388e');\n",
              "          const dataTable =\n",
              "            await google.colab.kernel.invokeFunction('convertToInteractive',\n",
              "                                                     [key], {});\n",
              "          if (!dataTable) return;\n",
              "\n",
              "          const docLinkHtml = 'Like what you see? Visit the ' +\n",
              "            '<a target=\"_blank\" href=https://colab.research.google.com/notebooks/data_table.ipynb>data table notebook</a>'\n",
              "            + ' to learn more about interactive tables.';\n",
              "          element.innerHTML = '';\n",
              "          dataTable['output_type'] = 'display_data';\n",
              "          await google.colab.output.renderOutput(dataTable, element);\n",
              "          const docLink = document.createElement('div');\n",
              "          docLink.innerHTML = docLinkHtml;\n",
              "          element.appendChild(docLink);\n",
              "        }\n",
              "      </script>\n",
              "    </div>\n",
              "  </div>\n",
              "  "
            ],
            "text/plain": [
              "         DATE  STORE_NBR  LYLTY_CARD_NBR  ...  PROD_QTY  TOT_SALES    BRAND\n",
              "0  17/10/2018          1            1000  ...         2        6.0  Natural\n",
              "1  14/05/2019          1            1307  ...         3        6.3      CCs\n",
              "2  20/05/2019          1            1343  ...         2        2.9   Smiths\n",
              "3  17/08/2018          2            2373  ...         5       15.0   Smiths\n",
              "4  18/08/2018          2            2426  ...         3       13.8   Kettle\n",
              "\n",
              "[5 rows x 9 columns]"
            ]
          },
          "metadata": {},
          "execution_count": 215
        }
      ]
    },
    {
      "cell_type": "markdown",
      "source": [
        "**Brands & Their Sales:**"
      ],
      "metadata": {
        "id": "k_3MY38AjqaT"
      }
    },
    {
      "cell_type": "code",
      "source": [
        "Transactions_data.groupby('BRAND').TOT_SALES.sum().sort_values(ascending = False)"
      ],
      "metadata": {
        "colab": {
          "base_uri": "https://localhost:8080/"
        },
        "id": "LWFfL-Grjb1Q",
        "outputId": "6d45ff75-59af-4143-d51e-d9ddadc7c4ee"
      },
      "execution_count": 216,
      "outputs": [
        {
          "output_type": "execute_result",
          "data": {
            "text/plain": [
              "BRAND\n",
              "Kettle        390239.8\n",
              "Smiths        210076.8\n",
              "Doritos       201538.9\n",
              "Pringles      177655.5\n",
              "Old            90785.1\n",
              "Thins          88852.5\n",
              "Twisties       81522.1\n",
              "Tostitos       79789.6\n",
              "Infuzions      76247.6\n",
              "Cobs           70569.8\n",
              "RRD            64954.5\n",
              "Tyrrells       51647.4\n",
              "Grain          43048.8\n",
              "Cheezels       40029.9\n",
              "Dorito         39052.0\n",
              "WW             35889.5\n",
              "Natural        34272.0\n",
              "Red            30091.5\n",
              "Infzns         22800.0\n",
              "CCs            18078.9\n",
              "Cheetos        16884.5\n",
              "Smith          14583.4\n",
              "Woolworths     13454.1\n",
              "GrnWves         8568.4\n",
              "NCC             8046.0\n",
              "French          7929.0\n",
              "Burger          6831.0\n",
              "Snbts           5076.2\n",
              "Sunbites        4600.2\n",
              "Name: TOT_SALES, dtype: float64"
            ]
          },
          "metadata": {},
          "execution_count": 216
        }
      ]
    },
    {
      "cell_type": "code",
      "source": [
        "total_sales_product_brand = pd.pivot_table(Transactions_data, values = 'TOT_SALES', index = ['BRAND', 'PROD_NAME'])\n",
        "total_sales_product_brand.head(10)"
      ],
      "metadata": {
        "colab": {
          "base_uri": "https://localhost:8080/",
          "height": 394
        },
        "id": "3y6Cre5UVAMv",
        "outputId": "fefe3d10-aca6-4b08-ee92-8e23257f4d77"
      },
      "execution_count": 217,
      "outputs": [
        {
          "output_type": "execute_result",
          "data": {
            "text/html": [
              "\n",
              "  <div id=\"df-c8315c96-8b8d-4428-88e0-4e5ef3ea4436\">\n",
              "    <div class=\"colab-df-container\">\n",
              "      <div>\n",
              "<style scoped>\n",
              "    .dataframe tbody tr th:only-of-type {\n",
              "        vertical-align: middle;\n",
              "    }\n",
              "\n",
              "    .dataframe tbody tr th {\n",
              "        vertical-align: top;\n",
              "    }\n",
              "\n",
              "    .dataframe thead th {\n",
              "        text-align: right;\n",
              "    }\n",
              "</style>\n",
              "<table border=\"1\" class=\"dataframe\">\n",
              "  <thead>\n",
              "    <tr style=\"text-align: right;\">\n",
              "      <th></th>\n",
              "      <th></th>\n",
              "      <th>TOT_SALES</th>\n",
              "    </tr>\n",
              "    <tr>\n",
              "      <th>BRAND</th>\n",
              "      <th>PROD_NAME</th>\n",
              "      <th></th>\n",
              "    </tr>\n",
              "  </thead>\n",
              "  <tbody>\n",
              "    <tr>\n",
              "      <th>Burger</th>\n",
              "      <th>Burger Rings 220g</th>\n",
              "      <td>4.367647</td>\n",
              "    </tr>\n",
              "    <tr>\n",
              "      <th rowspan=\"3\" valign=\"top\">CCs</th>\n",
              "      <th>CCs Nacho Cheese    175g</th>\n",
              "      <td>3.979907</td>\n",
              "    </tr>\n",
              "    <tr>\n",
              "      <th>CCs Original 175g</th>\n",
              "      <td>3.994716</td>\n",
              "    </tr>\n",
              "    <tr>\n",
              "      <th>CCs Tasty Cheese    175g</th>\n",
              "      <td>3.943470</td>\n",
              "    </tr>\n",
              "    <tr>\n",
              "      <th rowspan=\"2\" valign=\"top\">Cheetos</th>\n",
              "      <th>Cheetos Chs &amp; Bacon Balls 190g</th>\n",
              "      <td>6.249696</td>\n",
              "    </tr>\n",
              "    <tr>\n",
              "      <th>Cheetos Puffs 165g</th>\n",
              "      <td>5.277072</td>\n",
              "    </tr>\n",
              "    <tr>\n",
              "      <th rowspan=\"2\" valign=\"top\">Cheezels</th>\n",
              "      <th>Cheezels Cheese 330g</th>\n",
              "      <td>10.891362</td>\n",
              "    </tr>\n",
              "    <tr>\n",
              "      <th>Cheezels Cheese Box 125g</th>\n",
              "      <td>3.942916</td>\n",
              "    </tr>\n",
              "    <tr>\n",
              "      <th rowspan=\"2\" valign=\"top\">Cobs</th>\n",
              "      <th>Cobs Popd Sea Salt  Chips 110g</th>\n",
              "      <td>7.305544</td>\n",
              "    </tr>\n",
              "    <tr>\n",
              "      <th>Cobs Popd Sour Crm  &amp;Chives Chips 110g</th>\n",
              "      <td>7.263185</td>\n",
              "    </tr>\n",
              "  </tbody>\n",
              "</table>\n",
              "</div>\n",
              "      <button class=\"colab-df-convert\" onclick=\"convertToInteractive('df-c8315c96-8b8d-4428-88e0-4e5ef3ea4436')\"\n",
              "              title=\"Convert this dataframe to an interactive table.\"\n",
              "              style=\"display:none;\">\n",
              "        \n",
              "  <svg xmlns=\"http://www.w3.org/2000/svg\" height=\"24px\"viewBox=\"0 0 24 24\"\n",
              "       width=\"24px\">\n",
              "    <path d=\"M0 0h24v24H0V0z\" fill=\"none\"/>\n",
              "    <path d=\"M18.56 5.44l.94 2.06.94-2.06 2.06-.94-2.06-.94-.94-2.06-.94 2.06-2.06.94zm-11 1L8.5 8.5l.94-2.06 2.06-.94-2.06-.94L8.5 2.5l-.94 2.06-2.06.94zm10 10l.94 2.06.94-2.06 2.06-.94-2.06-.94-.94-2.06-.94 2.06-2.06.94z\"/><path d=\"M17.41 7.96l-1.37-1.37c-.4-.4-.92-.59-1.43-.59-.52 0-1.04.2-1.43.59L10.3 9.45l-7.72 7.72c-.78.78-.78 2.05 0 2.83L4 21.41c.39.39.9.59 1.41.59.51 0 1.02-.2 1.41-.59l7.78-7.78 2.81-2.81c.8-.78.8-2.07 0-2.86zM5.41 20L4 18.59l7.72-7.72 1.47 1.35L5.41 20z\"/>\n",
              "  </svg>\n",
              "      </button>\n",
              "      \n",
              "  <style>\n",
              "    .colab-df-container {\n",
              "      display:flex;\n",
              "      flex-wrap:wrap;\n",
              "      gap: 12px;\n",
              "    }\n",
              "\n",
              "    .colab-df-convert {\n",
              "      background-color: #E8F0FE;\n",
              "      border: none;\n",
              "      border-radius: 50%;\n",
              "      cursor: pointer;\n",
              "      display: none;\n",
              "      fill: #1967D2;\n",
              "      height: 32px;\n",
              "      padding: 0 0 0 0;\n",
              "      width: 32px;\n",
              "    }\n",
              "\n",
              "    .colab-df-convert:hover {\n",
              "      background-color: #E2EBFA;\n",
              "      box-shadow: 0px 1px 2px rgba(60, 64, 67, 0.3), 0px 1px 3px 1px rgba(60, 64, 67, 0.15);\n",
              "      fill: #174EA6;\n",
              "    }\n",
              "\n",
              "    [theme=dark] .colab-df-convert {\n",
              "      background-color: #3B4455;\n",
              "      fill: #D2E3FC;\n",
              "    }\n",
              "\n",
              "    [theme=dark] .colab-df-convert:hover {\n",
              "      background-color: #434B5C;\n",
              "      box-shadow: 0px 1px 3px 1px rgba(0, 0, 0, 0.15);\n",
              "      filter: drop-shadow(0px 1px 2px rgba(0, 0, 0, 0.3));\n",
              "      fill: #FFFFFF;\n",
              "    }\n",
              "  </style>\n",
              "\n",
              "      <script>\n",
              "        const buttonEl =\n",
              "          document.querySelector('#df-c8315c96-8b8d-4428-88e0-4e5ef3ea4436 button.colab-df-convert');\n",
              "        buttonEl.style.display =\n",
              "          google.colab.kernel.accessAllowed ? 'block' : 'none';\n",
              "\n",
              "        async function convertToInteractive(key) {\n",
              "          const element = document.querySelector('#df-c8315c96-8b8d-4428-88e0-4e5ef3ea4436');\n",
              "          const dataTable =\n",
              "            await google.colab.kernel.invokeFunction('convertToInteractive',\n",
              "                                                     [key], {});\n",
              "          if (!dataTable) return;\n",
              "\n",
              "          const docLinkHtml = 'Like what you see? Visit the ' +\n",
              "            '<a target=\"_blank\" href=https://colab.research.google.com/notebooks/data_table.ipynb>data table notebook</a>'\n",
              "            + ' to learn more about interactive tables.';\n",
              "          element.innerHTML = '';\n",
              "          dataTable['output_type'] = 'display_data';\n",
              "          await google.colab.output.renderOutput(dataTable, element);\n",
              "          const docLink = document.createElement('div');\n",
              "          docLink.innerHTML = docLinkHtml;\n",
              "          element.appendChild(docLink);\n",
              "        }\n",
              "      </script>\n",
              "    </div>\n",
              "  </div>\n",
              "  "
            ],
            "text/plain": [
              "                                                 TOT_SALES\n",
              "BRAND    PROD_NAME                                        \n",
              "Burger   Burger Rings 220g                        4.367647\n",
              "CCs      CCs Nacho Cheese    175g                 3.979907\n",
              "         CCs Original 175g                        3.994716\n",
              "         CCs Tasty Cheese    175g                 3.943470\n",
              "Cheetos  Cheetos Chs & Bacon Balls 190g           6.249696\n",
              "         Cheetos Puffs 165g                       5.277072\n",
              "Cheezels Cheezels Cheese 330g                    10.891362\n",
              "         Cheezels Cheese Box 125g                 3.942916\n",
              "Cobs     Cobs Popd Sea Salt  Chips 110g           7.305544\n",
              "         Cobs Popd Sour Crm  &Chives Chips 110g   7.263185"
            ]
          },
          "metadata": {},
          "execution_count": 217
        }
      ]
    },
    {
      "cell_type": "code",
      "source": [
        "total_sales_product_brand.tail(10)"
      ],
      "metadata": {
        "colab": {
          "base_uri": "https://localhost:8080/",
          "height": 394
        },
        "id": "2Jr4gEkPV6x-",
        "outputId": "3385d659-5f28-4b27-9fc4-a51fc11829f5"
      },
      "execution_count": 218,
      "outputs": [
        {
          "output_type": "execute_result",
          "data": {
            "text/html": [
              "\n",
              "  <div id=\"df-0a66ebde-3653-463f-a8ff-7682d06f79a3\">\n",
              "    <div class=\"colab-df-container\">\n",
              "      <div>\n",
              "<style scoped>\n",
              "    .dataframe tbody tr th:only-of-type {\n",
              "        vertical-align: middle;\n",
              "    }\n",
              "\n",
              "    .dataframe tbody tr th {\n",
              "        vertical-align: top;\n",
              "    }\n",
              "\n",
              "    .dataframe thead th {\n",
              "        text-align: right;\n",
              "    }\n",
              "</style>\n",
              "<table border=\"1\" class=\"dataframe\">\n",
              "  <thead>\n",
              "    <tr style=\"text-align: right;\">\n",
              "      <th></th>\n",
              "      <th></th>\n",
              "      <th>TOT_SALES</th>\n",
              "    </tr>\n",
              "    <tr>\n",
              "      <th>BRAND</th>\n",
              "      <th>PROD_NAME</th>\n",
              "      <th></th>\n",
              "    </tr>\n",
              "  </thead>\n",
              "  <tbody>\n",
              "    <tr>\n",
              "      <th rowspan=\"7\" valign=\"top\">WW</th>\n",
              "      <th>WW Crinkle Cut      Chicken 175g</th>\n",
              "      <td>3.205317</td>\n",
              "    </tr>\n",
              "    <tr>\n",
              "      <th>WW Crinkle Cut      Original 175g</th>\n",
              "      <td>3.214326</td>\n",
              "    </tr>\n",
              "    <tr>\n",
              "      <th>WW D/Style Chip     Sea Salt 200g</th>\n",
              "      <td>3.573656</td>\n",
              "    </tr>\n",
              "    <tr>\n",
              "      <th>WW Original Corn    Chips 200g</th>\n",
              "      <td>3.590301</td>\n",
              "    </tr>\n",
              "    <tr>\n",
              "      <th>WW Original Stacked Chips 160g</th>\n",
              "      <td>3.580229</td>\n",
              "    </tr>\n",
              "    <tr>\n",
              "      <th>WW Sour Cream &amp;OnionStacked Chips 160g</th>\n",
              "      <td>3.589885</td>\n",
              "    </tr>\n",
              "    <tr>\n",
              "      <th>WW Supreme Cheese   Corn Chips 200g</th>\n",
              "      <td>3.572101</td>\n",
              "    </tr>\n",
              "    <tr>\n",
              "      <th rowspan=\"3\" valign=\"top\">Woolworths</th>\n",
              "      <th>Woolworths Cheese   Rings 190g</th>\n",
              "      <td>3.410026</td>\n",
              "    </tr>\n",
              "    <tr>\n",
              "      <th>Woolworths Medium   Salsa 300g</th>\n",
              "      <td>2.832168</td>\n",
              "    </tr>\n",
              "    <tr>\n",
              "      <th>Woolworths Mild     Salsa 300g</th>\n",
              "      <td>2.840040</td>\n",
              "    </tr>\n",
              "  </tbody>\n",
              "</table>\n",
              "</div>\n",
              "      <button class=\"colab-df-convert\" onclick=\"convertToInteractive('df-0a66ebde-3653-463f-a8ff-7682d06f79a3')\"\n",
              "              title=\"Convert this dataframe to an interactive table.\"\n",
              "              style=\"display:none;\">\n",
              "        \n",
              "  <svg xmlns=\"http://www.w3.org/2000/svg\" height=\"24px\"viewBox=\"0 0 24 24\"\n",
              "       width=\"24px\">\n",
              "    <path d=\"M0 0h24v24H0V0z\" fill=\"none\"/>\n",
              "    <path d=\"M18.56 5.44l.94 2.06.94-2.06 2.06-.94-2.06-.94-.94-2.06-.94 2.06-2.06.94zm-11 1L8.5 8.5l.94-2.06 2.06-.94-2.06-.94L8.5 2.5l-.94 2.06-2.06.94zm10 10l.94 2.06.94-2.06 2.06-.94-2.06-.94-.94-2.06-.94 2.06-2.06.94z\"/><path d=\"M17.41 7.96l-1.37-1.37c-.4-.4-.92-.59-1.43-.59-.52 0-1.04.2-1.43.59L10.3 9.45l-7.72 7.72c-.78.78-.78 2.05 0 2.83L4 21.41c.39.39.9.59 1.41.59.51 0 1.02-.2 1.41-.59l7.78-7.78 2.81-2.81c.8-.78.8-2.07 0-2.86zM5.41 20L4 18.59l7.72-7.72 1.47 1.35L5.41 20z\"/>\n",
              "  </svg>\n",
              "      </button>\n",
              "      \n",
              "  <style>\n",
              "    .colab-df-container {\n",
              "      display:flex;\n",
              "      flex-wrap:wrap;\n",
              "      gap: 12px;\n",
              "    }\n",
              "\n",
              "    .colab-df-convert {\n",
              "      background-color: #E8F0FE;\n",
              "      border: none;\n",
              "      border-radius: 50%;\n",
              "      cursor: pointer;\n",
              "      display: none;\n",
              "      fill: #1967D2;\n",
              "      height: 32px;\n",
              "      padding: 0 0 0 0;\n",
              "      width: 32px;\n",
              "    }\n",
              "\n",
              "    .colab-df-convert:hover {\n",
              "      background-color: #E2EBFA;\n",
              "      box-shadow: 0px 1px 2px rgba(60, 64, 67, 0.3), 0px 1px 3px 1px rgba(60, 64, 67, 0.15);\n",
              "      fill: #174EA6;\n",
              "    }\n",
              "\n",
              "    [theme=dark] .colab-df-convert {\n",
              "      background-color: #3B4455;\n",
              "      fill: #D2E3FC;\n",
              "    }\n",
              "\n",
              "    [theme=dark] .colab-df-convert:hover {\n",
              "      background-color: #434B5C;\n",
              "      box-shadow: 0px 1px 3px 1px rgba(0, 0, 0, 0.15);\n",
              "      filter: drop-shadow(0px 1px 2px rgba(0, 0, 0, 0.3));\n",
              "      fill: #FFFFFF;\n",
              "    }\n",
              "  </style>\n",
              "\n",
              "      <script>\n",
              "        const buttonEl =\n",
              "          document.querySelector('#df-0a66ebde-3653-463f-a8ff-7682d06f79a3 button.colab-df-convert');\n",
              "        buttonEl.style.display =\n",
              "          google.colab.kernel.accessAllowed ? 'block' : 'none';\n",
              "\n",
              "        async function convertToInteractive(key) {\n",
              "          const element = document.querySelector('#df-0a66ebde-3653-463f-a8ff-7682d06f79a3');\n",
              "          const dataTable =\n",
              "            await google.colab.kernel.invokeFunction('convertToInteractive',\n",
              "                                                     [key], {});\n",
              "          if (!dataTable) return;\n",
              "\n",
              "          const docLinkHtml = 'Like what you see? Visit the ' +\n",
              "            '<a target=\"_blank\" href=https://colab.research.google.com/notebooks/data_table.ipynb>data table notebook</a>'\n",
              "            + ' to learn more about interactive tables.';\n",
              "          element.innerHTML = '';\n",
              "          dataTable['output_type'] = 'display_data';\n",
              "          await google.colab.output.renderOutput(dataTable, element);\n",
              "          const docLink = document.createElement('div');\n",
              "          docLink.innerHTML = docLinkHtml;\n",
              "          element.appendChild(docLink);\n",
              "        }\n",
              "      </script>\n",
              "    </div>\n",
              "  </div>\n",
              "  "
            ],
            "text/plain": [
              "                                                   TOT_SALES\n",
              "BRAND      PROD_NAME                                        \n",
              "WW         WW Crinkle Cut      Chicken 175g         3.205317\n",
              "           WW Crinkle Cut      Original 175g        3.214326\n",
              "           WW D/Style Chip     Sea Salt 200g        3.573656\n",
              "           WW Original Corn    Chips 200g           3.590301\n",
              "           WW Original Stacked Chips 160g           3.580229\n",
              "           WW Sour Cream &OnionStacked Chips 160g   3.589885\n",
              "           WW Supreme Cheese   Corn Chips 200g      3.572101\n",
              "Woolworths Woolworths Cheese   Rings 190g           3.410026\n",
              "           Woolworths Medium   Salsa 300g           2.832168\n",
              "           Woolworths Mild     Salsa 300g           2.840040"
            ]
          },
          "metadata": {},
          "execution_count": 218
        }
      ]
    },
    {
      "cell_type": "code",
      "source": [
        "plt.figure(figsize=(15,8))\n",
        "sns.barplot(x = Transactions_data[\"BRAND\"].value_counts(),y=Transactions_data[\"BRAND\"].value_counts().index)\n",
        "plt.title(\"Transaction of Chips, by Brands\",fontsize=20)\n",
        "plt.ylabel(\"Brand\",fontsize=15)\n",
        "plt.xlabel(\"Transaction\",fontsize=15)"
      ],
      "metadata": {
        "colab": {
          "base_uri": "https://localhost:8080/",
          "height": 541
        },
        "id": "-hM2NRibzCOj",
        "outputId": "a12225b1-72e2-4efd-8945-cd8a9cf5198f"
      },
      "execution_count": 219,
      "outputs": [
        {
          "output_type": "execute_result",
          "data": {
            "text/plain": [
              "Text(0.5, 0, 'Transaction')"
            ]
          },
          "metadata": {},
          "execution_count": 219
        },
        {
          "output_type": "display_data",
          "data": {
            "image/png": "[encoded data removed]",
            "text/plain": [
              "<Figure size 1080x576 with 1 Axes>"
            ]
          },
          "metadata": {
            "needs_background": "light"
          }
        }
      ]
    },
    {
      "cell_type": "code",
      "source": [
        "Transactions_data['PACK_SIZE'] = Transactions_data['PROD_NAME'].str.extract(\"(\\d+)\")\n",
        "Transactions_data['PACK_SIZE'] = pd.to_numeric(Transactions_data['PACK_SIZE'])\n",
        "Transactions_data.head()"
      ],
      "metadata": {
        "colab": {
          "base_uri": "https://localhost:8080/",
          "height": 250
        },
        "id": "eDqQiqAXQd0e",
        "outputId": "f200d460-9126-4df1-a8b4-c243453b5897"
      },
      "execution_count": 220,
      "outputs": [
        {
          "output_type": "execute_result",
          "data": {
            "text/html": [
              "\n",
              "  <div id=\"df-bfb00245-1f40-4fa3-9f72-8f031629af39\">\n",
              "    <div class=\"colab-df-container\">\n",
              "      <div>\n",
              "<style scoped>\n",
              "    .dataframe tbody tr th:only-of-type {\n",
              "        vertical-align: middle;\n",
              "    }\n",
              "\n",
              "    .dataframe tbody tr th {\n",
              "        vertical-align: top;\n",
              "    }\n",
              "\n",
              "    .dataframe thead th {\n",
              "        text-align: right;\n",
              "    }\n",
              "</style>\n",
              "<table border=\"1\" class=\"dataframe\">\n",
              "  <thead>\n",
              "    <tr style=\"text-align: right;\">\n",
              "      <th></th>\n",
              "      <th>DATE</th>\n",
              "      <th>STORE_NBR</th>\n",
              "      <th>LYLTY_CARD_NBR</th>\n",
              "      <th>TXN_ID</th>\n",
              "      <th>PROD_NBR</th>\n",
              "      <th>PROD_NAME</th>\n",
              "      <th>PROD_QTY</th>\n",
              "      <th>TOT_SALES</th>\n",
              "      <th>BRAND</th>\n",
              "      <th>PACK_SIZE</th>\n",
              "    </tr>\n",
              "  </thead>\n",
              "  <tbody>\n",
              "    <tr>\n",
              "      <th>0</th>\n",
              "      <td>17/10/2018</td>\n",
              "      <td>1</td>\n",
              "      <td>1000</td>\n",
              "      <td>1</td>\n",
              "      <td>5</td>\n",
              "      <td>Natural Chip        Compny SeaSalt175g</td>\n",
              "      <td>2</td>\n",
              "      <td>6.0</td>\n",
              "      <td>Natural</td>\n",
              "      <td>175</td>\n",
              "    </tr>\n",
              "    <tr>\n",
              "      <th>1</th>\n",
              "      <td>14/05/2019</td>\n",
              "      <td>1</td>\n",
              "      <td>1307</td>\n",
              "      <td>348</td>\n",
              "      <td>66</td>\n",
              "      <td>CCs Nacho Cheese    175g</td>\n",
              "      <td>3</td>\n",
              "      <td>6.3</td>\n",
              "      <td>CCs</td>\n",
              "      <td>175</td>\n",
              "    </tr>\n",
              "    <tr>\n",
              "      <th>2</th>\n",
              "      <td>20/05/2019</td>\n",
              "      <td>1</td>\n",
              "      <td>1343</td>\n",
              "      <td>383</td>\n",
              "      <td>61</td>\n",
              "      <td>Smiths Crinkle Cut  Chips Chicken 170g</td>\n",
              "      <td>2</td>\n",
              "      <td>2.9</td>\n",
              "      <td>Smiths</td>\n",
              "      <td>170</td>\n",
              "    </tr>\n",
              "    <tr>\n",
              "      <th>3</th>\n",
              "      <td>17/08/2018</td>\n",
              "      <td>2</td>\n",
              "      <td>2373</td>\n",
              "      <td>974</td>\n",
              "      <td>69</td>\n",
              "      <td>Smiths Chip Thinly  S/Cream&amp;Onion 175g</td>\n",
              "      <td>5</td>\n",
              "      <td>15.0</td>\n",
              "      <td>Smiths</td>\n",
              "      <td>175</td>\n",
              "    </tr>\n",
              "    <tr>\n",
              "      <th>4</th>\n",
              "      <td>18/08/2018</td>\n",
              "      <td>2</td>\n",
              "      <td>2426</td>\n",
              "      <td>1038</td>\n",
              "      <td>108</td>\n",
              "      <td>Kettle Tortilla ChpsHny&amp;Jlpno Chili 150g</td>\n",
              "      <td>3</td>\n",
              "      <td>13.8</td>\n",
              "      <td>Kettle</td>\n",
              "      <td>150</td>\n",
              "    </tr>\n",
              "  </tbody>\n",
              "</table>\n",
              "</div>\n",
              "      <button class=\"colab-df-convert\" onclick=\"convertToInteractive('df-bfb00245-1f40-4fa3-9f72-8f031629af39')\"\n",
              "              title=\"Convert this dataframe to an interactive table.\"\n",
              "              style=\"display:none;\">\n",
              "        \n",
              "  <svg xmlns=\"http://www.w3.org/2000/svg\" height=\"24px\"viewBox=\"0 0 24 24\"\n",
              "       width=\"24px\">\n",
              "    <path d=\"M0 0h24v24H0V0z\" fill=\"none\"/>\n",
              "    <path d=\"M18.56 5.44l.94 2.06.94-2.06 2.06-.94-2.06-.94-.94-2.06-.94 2.06-2.06.94zm-11 1L8.5 8.5l.94-2.06 2.06-.94-2.06-.94L8.5 2.5l-.94 2.06-2.06.94zm10 10l.94 2.06.94-2.06 2.06-.94-2.06-.94-.94-2.06-.94 2.06-2.06.94z\"/><path d=\"M17.41 7.96l-1.37-1.37c-.4-.4-.92-.59-1.43-.59-.52 0-1.04.2-1.43.59L10.3 9.45l-7.72 7.72c-.78.78-.78 2.05 0 2.83L4 21.41c.39.39.9.59 1.41.59.51 0 1.02-.2 1.41-.59l7.78-7.78 2.81-2.81c.8-.78.8-2.07 0-2.86zM5.41 20L4 18.59l7.72-7.72 1.47 1.35L5.41 20z\"/>\n",
              "  </svg>\n",
              "      </button>\n",
              "      \n",
              "  <style>\n",
              "    .colab-df-container {\n",
              "      display:flex;\n",
              "      flex-wrap:wrap;\n",
              "      gap: 12px;\n",
              "    }\n",
              "\n",
              "    .colab-df-convert {\n",
              "      background-color: #E8F0FE;\n",
              "      border: none;\n",
              "      border-radius: 50%;\n",
              "      cursor: pointer;\n",
              "      display: none;\n",
              "      fill: #1967D2;\n",
              "      height: 32px;\n",
              "      padding: 0 0 0 0;\n",
              "      width: 32px;\n",
              "    }\n",
              "\n",
              "    .colab-df-convert:hover {\n",
              "      background-color: #E2EBFA;\n",
              "      box-shadow: 0px 1px 2px rgba(60, 64, 67, 0.3), 0px 1px 3px 1px rgba(60, 64, 67, 0.15);\n",
              "      fill: #174EA6;\n",
              "    }\n",
              "\n",
              "    [theme=dark] .colab-df-convert {\n",
              "      background-color: #3B4455;\n",
              "      fill: #D2E3FC;\n",
              "    }\n",
              "\n",
              "    [theme=dark] .colab-df-convert:hover {\n",
              "      background-color: #434B5C;\n",
              "      box-shadow: 0px 1px 3px 1px rgba(0, 0, 0, 0.15);\n",
              "      filter: drop-shadow(0px 1px 2px rgba(0, 0, 0, 0.3));\n",
              "      fill: #FFFFFF;\n",
              "    }\n",
              "  </style>\n",
              "\n",
              "      <script>\n",
              "        const buttonEl =\n",
              "          document.querySelector('#df-bfb00245-1f40-4fa3-9f72-8f031629af39 button.colab-df-convert');\n",
              "        buttonEl.style.display =\n",
              "          google.colab.kernel.accessAllowed ? 'block' : 'none';\n",
              "\n",
              "        async function convertToInteractive(key) {\n",
              "          const element = document.querySelector('#df-bfb00245-1f40-4fa3-9f72-8f031629af39');\n",
              "          const dataTable =\n",
              "            await google.colab.kernel.invokeFunction('convertToInteractive',\n",
              "                                                     [key], {});\n",
              "          if (!dataTable) return;\n",
              "\n",
              "          const docLinkHtml = 'Like what you see? Visit the ' +\n",
              "            '<a target=\"_blank\" href=https://colab.research.google.com/notebooks/data_table.ipynb>data table notebook</a>'\n",
              "            + ' to learn more about interactive tables.';\n",
              "          element.innerHTML = '';\n",
              "          dataTable['output_type'] = 'display_data';\n",
              "          await google.colab.output.renderOutput(dataTable, element);\n",
              "          const docLink = document.createElement('div');\n",
              "          docLink.innerHTML = docLinkHtml;\n",
              "          element.appendChild(docLink);\n",
              "        }\n",
              "      </script>\n",
              "    </div>\n",
              "  </div>\n",
              "  "
            ],
            "text/plain": [
              "         DATE  STORE_NBR  LYLTY_CARD_NBR  ...  TOT_SALES    BRAND PACK_SIZE\n",
              "0  17/10/2018          1            1000  ...        6.0  Natural       175\n",
              "1  14/05/2019          1            1307  ...        6.3      CCs       175\n",
              "2  20/05/2019          1            1343  ...        2.9   Smiths       170\n",
              "3  17/08/2018          2            2373  ...       15.0   Smiths       175\n",
              "4  18/08/2018          2            2426  ...       13.8   Kettle       150\n",
              "\n",
              "[5 rows x 10 columns]"
            ]
          },
          "metadata": {},
          "execution_count": 220
        }
      ]
    },
    {
      "cell_type": "code",
      "source": [
        "Transactions_data['BRAND'].unique()"
      ],
      "metadata": {
        "colab": {
          "base_uri": "https://localhost:8080/"
        },
        "id": "dPrGvXPPfnrw",
        "outputId": "cb75abe1-44ea-489e-831e-3888105149a4"
      },
      "execution_count": 221,
      "outputs": [
        {
          "output_type": "execute_result",
          "data": {
            "text/plain": [
              "array(['Natural', 'CCs', 'Smiths', 'Kettle', 'Old', 'Grain', 'Doritos',\n",
              "       'Twisties', 'WW', 'Thins', 'Burger', 'NCC', 'Cheezels', 'Infzns',\n",
              "       'Red', 'Pringles', 'Dorito', 'Infuzions', 'Smith', 'GrnWves',\n",
              "       'Tyrrells', 'Cobs', 'Woolworths', 'French', 'RRD', 'Tostitos',\n",
              "       'Cheetos', 'Snbts', 'Sunbites'], dtype=object)"
            ]
          },
          "metadata": {},
          "execution_count": 221
        }
      ]
    },
    {
      "cell_type": "markdown",
      "source": [
        "**Product Size:**"
      ],
      "metadata": {
        "id": "Uj5aLO1TcNZy"
      }
    },
    {
      "cell_type": "code",
      "source": [
        "Packs = pd.pivot_table(Transactions_data, values = ['PACK_SIZE', 'TOT_SALES'], index = ['BRAND', 'PROD_NAME'])\n",
        "Packs.head(15)"
      ],
      "metadata": {
        "colab": {
          "base_uri": "https://localhost:8080/",
          "height": 551
        },
        "id": "yv71PnpZY-9R",
        "outputId": "fa9e3216-7146-443b-ae44-27cff020ee7b"
      },
      "execution_count": 222,
      "outputs": [
        {
          "output_type": "execute_result",
          "data": {
            "text/html": [
              "\n",
              "  <div id=\"df-97be8237-dcac-424d-87d2-61ec0d4853a7\">\n",
              "    <div class=\"colab-df-container\">\n",
              "      <div>\n",
              "<style scoped>\n",
              "    .dataframe tbody tr th:only-of-type {\n",
              "        vertical-align: middle;\n",
              "    }\n",
              "\n",
              "    .dataframe tbody tr th {\n",
              "        vertical-align: top;\n",
              "    }\n",
              "\n",
              "    .dataframe thead th {\n",
              "        text-align: right;\n",
              "    }\n",
              "</style>\n",
              "<table border=\"1\" class=\"dataframe\">\n",
              "  <thead>\n",
              "    <tr style=\"text-align: right;\">\n",
              "      <th></th>\n",
              "      <th></th>\n",
              "      <th>PACK_SIZE</th>\n",
              "      <th>TOT_SALES</th>\n",
              "    </tr>\n",
              "    <tr>\n",
              "      <th>BRAND</th>\n",
              "      <th>PROD_NAME</th>\n",
              "      <th></th>\n",
              "      <th></th>\n",
              "    </tr>\n",
              "  </thead>\n",
              "  <tbody>\n",
              "    <tr>\n",
              "      <th>Burger</th>\n",
              "      <th>Burger Rings 220g</th>\n",
              "      <td>220</td>\n",
              "      <td>4.367647</td>\n",
              "    </tr>\n",
              "    <tr>\n",
              "      <th rowspan=\"3\" valign=\"top\">CCs</th>\n",
              "      <th>CCs Nacho Cheese    175g</th>\n",
              "      <td>175</td>\n",
              "      <td>3.979907</td>\n",
              "    </tr>\n",
              "    <tr>\n",
              "      <th>CCs Original 175g</th>\n",
              "      <td>175</td>\n",
              "      <td>3.994716</td>\n",
              "    </tr>\n",
              "    <tr>\n",
              "      <th>CCs Tasty Cheese    175g</th>\n",
              "      <td>175</td>\n",
              "      <td>3.943470</td>\n",
              "    </tr>\n",
              "    <tr>\n",
              "      <th rowspan=\"2\" valign=\"top\">Cheetos</th>\n",
              "      <th>Cheetos Chs &amp; Bacon Balls 190g</th>\n",
              "      <td>190</td>\n",
              "      <td>6.249696</td>\n",
              "    </tr>\n",
              "    <tr>\n",
              "      <th>Cheetos Puffs 165g</th>\n",
              "      <td>165</td>\n",
              "      <td>5.277072</td>\n",
              "    </tr>\n",
              "    <tr>\n",
              "      <th rowspan=\"2\" valign=\"top\">Cheezels</th>\n",
              "      <th>Cheezels Cheese 330g</th>\n",
              "      <td>330</td>\n",
              "      <td>10.891362</td>\n",
              "    </tr>\n",
              "    <tr>\n",
              "      <th>Cheezels Cheese Box 125g</th>\n",
              "      <td>125</td>\n",
              "      <td>3.942916</td>\n",
              "    </tr>\n",
              "    <tr>\n",
              "      <th rowspan=\"3\" valign=\"top\">Cobs</th>\n",
              "      <th>Cobs Popd Sea Salt  Chips 110g</th>\n",
              "      <td>110</td>\n",
              "      <td>7.305544</td>\n",
              "    </tr>\n",
              "    <tr>\n",
              "      <th>Cobs Popd Sour Crm  &amp;Chives Chips 110g</th>\n",
              "      <td>110</td>\n",
              "      <td>7.263185</td>\n",
              "    </tr>\n",
              "    <tr>\n",
              "      <th>Cobs Popd Swt/Chlli &amp;Sr/Cream Chips 110g</th>\n",
              "      <td>110</td>\n",
              "      <td>7.272193</td>\n",
              "    </tr>\n",
              "    <tr>\n",
              "      <th>Dorito</th>\n",
              "      <th>Dorito Corn Chp     Supreme 380g</th>\n",
              "      <td>380</td>\n",
              "      <td>12.268929</td>\n",
              "    </tr>\n",
              "    <tr>\n",
              "      <th rowspan=\"3\" valign=\"top\">Doritos</th>\n",
              "      <th>Doritos Cheese      Supreme 330g</th>\n",
              "      <td>330</td>\n",
              "      <td>10.940564</td>\n",
              "    </tr>\n",
              "    <tr>\n",
              "      <th>Doritos Corn Chip Mexican Jalapeno 150g</th>\n",
              "      <td>150</td>\n",
              "      <td>7.455524</td>\n",
              "    </tr>\n",
              "    <tr>\n",
              "      <th>Doritos Corn Chip Southern Chicken 150g</th>\n",
              "      <td>150</td>\n",
              "      <td>7.482787</td>\n",
              "    </tr>\n",
              "  </tbody>\n",
              "</table>\n",
              "</div>\n",
              "      <button class=\"colab-df-convert\" onclick=\"convertToInteractive('df-97be8237-dcac-424d-87d2-61ec0d4853a7')\"\n",
              "              title=\"Convert this dataframe to an interactive table.\"\n",
              "              style=\"display:none;\">\n",
              "        \n",
              "  <svg xmlns=\"http://www.w3.org/2000/svg\" height=\"24px\"viewBox=\"0 0 24 24\"\n",
              "       width=\"24px\">\n",
              "    <path d=\"M0 0h24v24H0V0z\" fill=\"none\"/>\n",
              "    <path d=\"M18.56 5.44l.94 2.06.94-2.06 2.06-.94-2.06-.94-.94-2.06-.94 2.06-2.06.94zm-11 1L8.5 8.5l.94-2.06 2.06-.94-2.06-.94L8.5 2.5l-.94 2.06-2.06.94zm10 10l.94 2.06.94-2.06 2.06-.94-2.06-.94-.94-2.06-.94 2.06-2.06.94z\"/><path d=\"M17.41 7.96l-1.37-1.37c-.4-.4-.92-.59-1.43-.59-.52 0-1.04.2-1.43.59L10.3 9.45l-7.72 7.72c-.78.78-.78 2.05 0 2.83L4 21.41c.39.39.9.59 1.41.59.51 0 1.02-.2 1.41-.59l7.78-7.78 2.81-2.81c.8-.78.8-2.07 0-2.86zM5.41 20L4 18.59l7.72-7.72 1.47 1.35L5.41 20z\"/>\n",
              "  </svg>\n",
              "      </button>\n",
              "      \n",
              "  <style>\n",
              "    .colab-df-container {\n",
              "      display:flex;\n",
              "      flex-wrap:wrap;\n",
              "      gap: 12px;\n",
              "    }\n",
              "\n",
              "    .colab-df-convert {\n",
              "      background-color: #E8F0FE;\n",
              "      border: none;\n",
              "      border-radius: 50%;\n",
              "      cursor: pointer;\n",
              "      display: none;\n",
              "      fill: #1967D2;\n",
              "      height: 32px;\n",
              "      padding: 0 0 0 0;\n",
              "      width: 32px;\n",
              "    }\n",
              "\n",
              "    .colab-df-convert:hover {\n",
              "      background-color: #E2EBFA;\n",
              "      box-shadow: 0px 1px 2px rgba(60, 64, 67, 0.3), 0px 1px 3px 1px rgba(60, 64, 67, 0.15);\n",
              "      fill: #174EA6;\n",
              "    }\n",
              "\n",
              "    [theme=dark] .colab-df-convert {\n",
              "      background-color: #3B4455;\n",
              "      fill: #D2E3FC;\n",
              "    }\n",
              "\n",
              "    [theme=dark] .colab-df-convert:hover {\n",
              "      background-color: #434B5C;\n",
              "      box-shadow: 0px 1px 3px 1px rgba(0, 0, 0, 0.15);\n",
              "      filter: drop-shadow(0px 1px 2px rgba(0, 0, 0, 0.3));\n",
              "      fill: #FFFFFF;\n",
              "    }\n",
              "  </style>\n",
              "\n",
              "      <script>\n",
              "        const buttonEl =\n",
              "          document.querySelector('#df-97be8237-dcac-424d-87d2-61ec0d4853a7 button.colab-df-convert');\n",
              "        buttonEl.style.display =\n",
              "          google.colab.kernel.accessAllowed ? 'block' : 'none';\n",
              "\n",
              "        async function convertToInteractive(key) {\n",
              "          const element = document.querySelector('#df-97be8237-dcac-424d-87d2-61ec0d4853a7');\n",
              "          const dataTable =\n",
              "            await google.colab.kernel.invokeFunction('convertToInteractive',\n",
              "                                                     [key], {});\n",
              "          if (!dataTable) return;\n",
              "\n",
              "          const docLinkHtml = 'Like what you see? Visit the ' +\n",
              "            '<a target=\"_blank\" href=https://colab.research.google.com/notebooks/data_table.ipynb>data table notebook</a>'\n",
              "            + ' to learn more about interactive tables.';\n",
              "          element.innerHTML = '';\n",
              "          dataTable['output_type'] = 'display_data';\n",
              "          await google.colab.output.renderOutput(dataTable, element);\n",
              "          const docLink = document.createElement('div');\n",
              "          docLink.innerHTML = docLinkHtml;\n",
              "          element.appendChild(docLink);\n",
              "        }\n",
              "      </script>\n",
              "    </div>\n",
              "  </div>\n",
              "  "
            ],
            "text/plain": [
              "                                                   PACK_SIZE  TOT_SALES\n",
              "BRAND    PROD_NAME                                                     \n",
              "Burger   Burger Rings 220g                               220   4.367647\n",
              "CCs      CCs Nacho Cheese    175g                        175   3.979907\n",
              "         CCs Original 175g                               175   3.994716\n",
              "         CCs Tasty Cheese    175g                        175   3.943470\n",
              "Cheetos  Cheetos Chs & Bacon Balls 190g                  190   6.249696\n",
              "         Cheetos Puffs 165g                              165   5.277072\n",
              "Cheezels Cheezels Cheese 330g                            330  10.891362\n",
              "         Cheezels Cheese Box 125g                        125   3.942916\n",
              "Cobs     Cobs Popd Sea Salt  Chips 110g                  110   7.305544\n",
              "         Cobs Popd Sour Crm  &Chives Chips 110g          110   7.263185\n",
              "         Cobs Popd Swt/Chlli &Sr/Cream Chips 110g        110   7.272193\n",
              "Dorito   Dorito Corn Chp     Supreme 380g                380  12.268929\n",
              "Doritos  Doritos Cheese      Supreme 330g                330  10.940564\n",
              "         Doritos Corn Chip Mexican Jalapeno 150g         150   7.455524\n",
              "         Doritos Corn Chip Southern Chicken 150g         150   7.482787"
            ]
          },
          "metadata": {},
          "execution_count": 222
        }
      ]
    },
    {
      "cell_type": "markdown",
      "source": [
        "Pack Size distribution:"
      ],
      "metadata": {
        "id": "0s1yDksOeW4I"
      }
    },
    {
      "cell_type": "code",
      "source": [
        "plt.figure(figsize=(15,8))\n",
        "plt.hist(Transactions_data['PACK_SIZE'])\n",
        "plt.xlabel('Size of Packs')\n",
        "plt.ylabel('Frequency')\n",
        "plt.title('Pack Size distribution')"
      ],
      "metadata": {
        "colab": {
          "base_uri": "https://localhost:8080/",
          "height": 531
        },
        "id": "amYvOYBneZsQ",
        "outputId": "4745033c-a9ae-4f7d-a3e0-48b451f3a965"
      },
      "execution_count": 223,
      "outputs": [
        {
          "output_type": "execute_result",
          "data": {
            "text/plain": [
              "Text(0.5, 1.0, 'Pack Size distribution')"
            ]
          },
          "metadata": {},
          "execution_count": 223
        },
        {
          "output_type": "display_data",
          "data": {
            "image/png": "[encoded data removed]",
            "text/plain": [
              "<Figure size 1080x576 with 1 Axes>"
            ]
          },
          "metadata": {
            "needs_background": "light"
          }
        }
      ]
    },
    {
      "cell_type": "code",
      "source": [
        ""
      ],
      "metadata": {
        "id": "QMiaymS6e7ay"
      },
      "execution_count": 223,
      "outputs": []
    },
    {
      "cell_type": "markdown",
      "source": [
        "# **Combined Data:**"
      ],
      "metadata": {
        "id": "kCMyf6hGguCX"
      }
    },
    {
      "cell_type": "code",
      "source": [
        "QVI_data = pd.merge(Customer_data , Transactions_data)\n",
        "QVI_data.head()"
      ],
      "metadata": {
        "colab": {
          "base_uri": "https://localhost:8080/",
          "height": 478
        },
        "id": "U9ENdDcbhKjR",
        "outputId": "68238a28-e4e7-4fb6-e7c0-a196d3100d9b"
      },
      "execution_count": 224,
      "outputs": [
        {
          "output_type": "execute_result",
          "data": {
            "text/html": [
              "\n",
              "  <div id=\"df-e4d7e012-bdac-49bb-9b78-6fa4d21c50c3\">\n",
              "    <div class=\"colab-df-container\">\n",
              "      <div>\n",
              "<style scoped>\n",
              "    .dataframe tbody tr th:only-of-type {\n",
              "        vertical-align: middle;\n",
              "    }\n",
              "\n",
              "    .dataframe tbody tr th {\n",
              "        vertical-align: top;\n",
              "    }\n",
              "\n",
              "    .dataframe thead th {\n",
              "        text-align: right;\n",
              "    }\n",
              "</style>\n",
              "<table border=\"1\" class=\"dataframe\">\n",
              "  <thead>\n",
              "    <tr style=\"text-align: right;\">\n",
              "      <th></th>\n",
              "      <th>LYLTY_CARD_NBR</th>\n",
              "      <th>LIFESTAGE</th>\n",
              "      <th>PREMIUM_CUSTOMER</th>\n",
              "      <th>DATE</th>\n",
              "      <th>STORE_NBR</th>\n",
              "      <th>TXN_ID</th>\n",
              "      <th>PROD_NBR</th>\n",
              "      <th>PROD_NAME</th>\n",
              "      <th>PROD_QTY</th>\n",
              "      <th>TOT_SALES</th>\n",
              "      <th>BRAND</th>\n",
              "      <th>PACK_SIZE</th>\n",
              "    </tr>\n",
              "  </thead>\n",
              "  <tbody>\n",
              "    <tr>\n",
              "      <th>0</th>\n",
              "      <td>1000</td>\n",
              "      <td>YOUNG SINGLES/COUPLES</td>\n",
              "      <td>Premium</td>\n",
              "      <td>17/10/2018</td>\n",
              "      <td>1</td>\n",
              "      <td>1</td>\n",
              "      <td>5</td>\n",
              "      <td>Natural Chip        Compny SeaSalt175g</td>\n",
              "      <td>2</td>\n",
              "      <td>6.0</td>\n",
              "      <td>Natural</td>\n",
              "      <td>175</td>\n",
              "    </tr>\n",
              "    <tr>\n",
              "      <th>1</th>\n",
              "      <td>1002</td>\n",
              "      <td>YOUNG SINGLES/COUPLES</td>\n",
              "      <td>Mainstream</td>\n",
              "      <td>16/09/2018</td>\n",
              "      <td>1</td>\n",
              "      <td>2</td>\n",
              "      <td>58</td>\n",
              "      <td>Red Rock Deli Chikn&amp;Garlic Aioli 150g</td>\n",
              "      <td>1</td>\n",
              "      <td>2.7</td>\n",
              "      <td>Red</td>\n",
              "      <td>150</td>\n",
              "    </tr>\n",
              "    <tr>\n",
              "      <th>2</th>\n",
              "      <td>1003</td>\n",
              "      <td>YOUNG FAMILIES</td>\n",
              "      <td>Budget</td>\n",
              "      <td>07/03/2019</td>\n",
              "      <td>1</td>\n",
              "      <td>3</td>\n",
              "      <td>52</td>\n",
              "      <td>Grain Waves Sour    Cream&amp;Chives 210G</td>\n",
              "      <td>1</td>\n",
              "      <td>3.6</td>\n",
              "      <td>Grain</td>\n",
              "      <td>210</td>\n",
              "    </tr>\n",
              "    <tr>\n",
              "      <th>3</th>\n",
              "      <td>1003</td>\n",
              "      <td>YOUNG FAMILIES</td>\n",
              "      <td>Budget</td>\n",
              "      <td>08/03/2019</td>\n",
              "      <td>1</td>\n",
              "      <td>4</td>\n",
              "      <td>106</td>\n",
              "      <td>Natural ChipCo      Hony Soy Chckn175g</td>\n",
              "      <td>1</td>\n",
              "      <td>3.0</td>\n",
              "      <td>Natural</td>\n",
              "      <td>175</td>\n",
              "    </tr>\n",
              "    <tr>\n",
              "      <th>4</th>\n",
              "      <td>1004</td>\n",
              "      <td>OLDER SINGLES/COUPLES</td>\n",
              "      <td>Mainstream</td>\n",
              "      <td>02/11/2018</td>\n",
              "      <td>1</td>\n",
              "      <td>5</td>\n",
              "      <td>96</td>\n",
              "      <td>WW Original Stacked Chips 160g</td>\n",
              "      <td>1</td>\n",
              "      <td>1.9</td>\n",
              "      <td>WW</td>\n",
              "      <td>160</td>\n",
              "    </tr>\n",
              "  </tbody>\n",
              "</table>\n",
              "</div>\n",
              "      <button class=\"colab-df-convert\" onclick=\"convertToInteractive('df-e4d7e012-bdac-49bb-9b78-6fa4d21c50c3')\"\n",
              "              title=\"Convert this dataframe to an interactive table.\"\n",
              "              style=\"display:none;\">\n",
              "        \n",
              "  <svg xmlns=\"http://www.w3.org/2000/svg\" height=\"24px\"viewBox=\"0 0 24 24\"\n",
              "       width=\"24px\">\n",
              "    <path d=\"M0 0h24v24H0V0z\" fill=\"none\"/>\n",
              "    <path d=\"M18.56 5.44l.94 2.06.94-2.06 2.06-.94-2.06-.94-.94-2.06-.94 2.06-2.06.94zm-11 1L8.5 8.5l.94-2.06 2.06-.94-2.06-.94L8.5 2.5l-.94 2.06-2.06.94zm10 10l.94 2.06.94-2.06 2.06-.94-2.06-.94-.94-2.06-.94 2.06-2.06.94z\"/><path d=\"M17.41 7.96l-1.37-1.37c-.4-.4-.92-.59-1.43-.59-.52 0-1.04.2-1.43.59L10.3 9.45l-7.72 7.72c-.78.78-.78 2.05 0 2.83L4 21.41c.39.39.9.59 1.41.59.51 0 1.02-.2 1.41-.59l7.78-7.78 2.81-2.81c.8-.78.8-2.07 0-2.86zM5.41 20L4 18.59l7.72-7.72 1.47 1.35L5.41 20z\"/>\n",
              "  </svg>\n",
              "      </button>\n",
              "      \n",
              "  <style>\n",
              "    .colab-df-container {\n",
              "      display:flex;\n",
              "      flex-wrap:wrap;\n",
              "      gap: 12px;\n",
              "    }\n",
              "\n",
              "    .colab-df-convert {\n",
              "      background-color: #E8F0FE;\n",
              "      border: none;\n",
              "      border-radius: 50%;\n",
              "      cursor: pointer;\n",
              "      display: none;\n",
              "      fill: #1967D2;\n",
              "      height: 32px;\n",
              "      padding: 0 0 0 0;\n",
              "      width: 32px;\n",
              "    }\n",
              "\n",
              "    .colab-df-convert:hover {\n",
              "      background-color: #E2EBFA;\n",
              "      box-shadow: 0px 1px 2px rgba(60, 64, 67, 0.3), 0px 1px 3px 1px rgba(60, 64, 67, 0.15);\n",
              "      fill: #174EA6;\n",
              "    }\n",
              "\n",
              "    [theme=dark] .colab-df-convert {\n",
              "      background-color: #3B4455;\n",
              "      fill: #D2E3FC;\n",
              "    }\n",
              "\n",
              "    [theme=dark] .colab-df-convert:hover {\n",
              "      background-color: #434B5C;\n",
              "      box-shadow: 0px 1px 3px 1px rgba(0, 0, 0, 0.15);\n",
              "      filter: drop-shadow(0px 1px 2px rgba(0, 0, 0, 0.3));\n",
              "      fill: #FFFFFF;\n",
              "    }\n",
              "  </style>\n",
              "\n",
              "      <script>\n",
              "        const buttonEl =\n",
              "          document.querySelector('#df-e4d7e012-bdac-49bb-9b78-6fa4d21c50c3 button.colab-df-convert');\n",
              "        buttonEl.style.display =\n",
              "          google.colab.kernel.accessAllowed ? 'block' : 'none';\n",
              "\n",
              "        async function convertToInteractive(key) {\n",
              "          const element = document.querySelector('#df-e4d7e012-bdac-49bb-9b78-6fa4d21c50c3');\n",
              "          const dataTable =\n",
              "            await google.colab.kernel.invokeFunction('convertToInteractive',\n",
              "                                                     [key], {});\n",
              "          if (!dataTable) return;\n",
              "\n",
              "          const docLinkHtml = 'Like what you see? Visit the ' +\n",
              "            '<a target=\"_blank\" href=https://colab.research.google.com/notebooks/data_table.ipynb>data table notebook</a>'\n",
              "            + ' to learn more about interactive tables.';\n",
              "          element.innerHTML = '';\n",
              "          dataTable['output_type'] = 'display_data';\n",
              "          await google.colab.output.renderOutput(dataTable, element);\n",
              "          const docLink = document.createElement('div');\n",
              "          docLink.innerHTML = docLinkHtml;\n",
              "          element.appendChild(docLink);\n",
              "        }\n",
              "      </script>\n",
              "    </div>\n",
              "  </div>\n",
              "  "
            ],
            "text/plain": [
              "   LYLTY_CARD_NBR              LIFESTAGE  ...    BRAND PACK_SIZE\n",
              "0            1000  YOUNG SINGLES/COUPLES  ...  Natural       175\n",
              "1            1002  YOUNG SINGLES/COUPLES  ...      Red       150\n",
              "2            1003         YOUNG FAMILIES  ...    Grain       210\n",
              "3            1003         YOUNG FAMILIES  ...  Natural       175\n",
              "4            1004  OLDER SINGLES/COUPLES  ...       WW       160\n",
              "\n",
              "[5 rows x 12 columns]"
            ]
          },
          "metadata": {},
          "execution_count": 224
        }
      ]
    },
    {
      "cell_type": "code",
      "source": [
        "QVI_data.info()"
      ],
      "metadata": {
        "colab": {
          "base_uri": "https://localhost:8080/"
        },
        "id": "0jxUij3yhlmK",
        "outputId": "3cf665ad-837a-49fe-91b3-34402e2a6be4"
      },
      "execution_count": 225,
      "outputs": [
        {
          "output_type": "stream",
          "name": "stdout",
          "text": [
            "<class 'pandas.core.frame.DataFrame'>\n",
            "Int64Index: 264834 entries, 0 to 264833\n",
            "Data columns (total 12 columns):\n",
            " #   Column            Non-Null Count   Dtype  \n",
            "---  ------            --------------   -----  \n",
            " 0   LYLTY_CARD_NBR    264834 non-null  int64  \n",
            " 1   LIFESTAGE         264834 non-null  object \n",
            " 2   PREMIUM_CUSTOMER  264834 non-null  object \n",
            " 3   DATE              264834 non-null  object \n",
            " 4   STORE_NBR         264834 non-null  int64  \n",
            " 5   TXN_ID            264834 non-null  int64  \n",
            " 6   PROD_NBR          264834 non-null  int64  \n",
            " 7   PROD_NAME         264834 non-null  object \n",
            " 8   PROD_QTY          264834 non-null  int64  \n",
            " 9   TOT_SALES         264834 non-null  float64\n",
            " 10  BRAND             264834 non-null  object \n",
            " 11  PACK_SIZE         264834 non-null  int64  \n",
            "dtypes: float64(1), int64(6), object(5)\n",
            "memory usage: 26.3+ MB\n"
          ]
        }
      ]
    },
    {
      "cell_type": "code",
      "source": [
        "QVI_data.isnull().sum()"
      ],
      "metadata": {
        "colab": {
          "base_uri": "https://localhost:8080/"
        },
        "id": "OP6glKlDh19U",
        "outputId": "24053090-b38d-41d9-c63c-2904823d8ba4"
      },
      "execution_count": 226,
      "outputs": [
        {
          "output_type": "execute_result",
          "data": {
            "text/plain": [
              "LYLTY_CARD_NBR      0\n",
              "LIFESTAGE           0\n",
              "PREMIUM_CUSTOMER    0\n",
              "DATE                0\n",
              "STORE_NBR           0\n",
              "TXN_ID              0\n",
              "PROD_NBR            0\n",
              "PROD_NAME           0\n",
              "PROD_QTY            0\n",
              "TOT_SALES           0\n",
              "BRAND               0\n",
              "PACK_SIZE           0\n",
              "dtype: int64"
            ]
          },
          "metadata": {},
          "execution_count": 226
        }
      ]
    },
    {
      "cell_type": "code",
      "source": [
        "QVI_data.nunique()"
      ],
      "metadata": {
        "colab": {
          "base_uri": "https://localhost:8080/"
        },
        "id": "pUUCZKPJh8if",
        "outputId": "e990c87f-7534-425b-bfee-e20ee9aa45e8"
      },
      "execution_count": 227,
      "outputs": [
        {
          "output_type": "execute_result",
          "data": {
            "text/plain": [
              "LYLTY_CARD_NBR       72636\n",
              "LIFESTAGE                7\n",
              "PREMIUM_CUSTOMER         3\n",
              "DATE                   364\n",
              "STORE_NBR              272\n",
              "TXN_ID              263125\n",
              "PROD_NBR               114\n",
              "PROD_NAME              114\n",
              "PROD_QTY                 5\n",
              "TOT_SALES              111\n",
              "BRAND                   29\n",
              "PACK_SIZE               21\n",
              "dtype: int64"
            ]
          },
          "metadata": {},
          "execution_count": 227
        }
      ]
    },
    {
      "cell_type": "code",
      "source": [
        "QVI_data.describe()"
      ],
      "metadata": {
        "colab": {
          "base_uri": "https://localhost:8080/",
          "height": 300
        },
        "id": "ie1mlxiriDit",
        "outputId": "ecabf0f5-8647-4478-ce35-ff75e94b7021"
      },
      "execution_count": 228,
      "outputs": [
        {
          "output_type": "execute_result",
          "data": {
            "text/html": [
              "\n",
              "  <div id=\"df-0c631362-c01c-4689-a355-6fee5af72820\">\n",
              "    <div class=\"colab-df-container\">\n",
              "      <div>\n",
              "<style scoped>\n",
              "    .dataframe tbody tr th:only-of-type {\n",
              "        vertical-align: middle;\n",
              "    }\n",
              "\n",
              "    .dataframe tbody tr th {\n",
              "        vertical-align: top;\n",
              "    }\n",
              "\n",
              "    .dataframe thead th {\n",
              "        text-align: right;\n",
              "    }\n",
              "</style>\n",
              "<table border=\"1\" class=\"dataframe\">\n",
              "  <thead>\n",
              "    <tr style=\"text-align: right;\">\n",
              "      <th></th>\n",
              "      <th>LYLTY_CARD_NBR</th>\n",
              "      <th>STORE_NBR</th>\n",
              "      <th>TXN_ID</th>\n",
              "      <th>PROD_NBR</th>\n",
              "      <th>PROD_QTY</th>\n",
              "      <th>TOT_SALES</th>\n",
              "      <th>PACK_SIZE</th>\n",
              "    </tr>\n",
              "  </thead>\n",
              "  <tbody>\n",
              "    <tr>\n",
              "      <th>count</th>\n",
              "      <td>2.648340e+05</td>\n",
              "      <td>264834.000000</td>\n",
              "      <td>2.648340e+05</td>\n",
              "      <td>264834.000000</td>\n",
              "      <td>264834.000000</td>\n",
              "      <td>264834.000000</td>\n",
              "      <td>264834.000000</td>\n",
              "    </tr>\n",
              "    <tr>\n",
              "      <th>mean</th>\n",
              "      <td>1.355488e+05</td>\n",
              "      <td>135.079423</td>\n",
              "      <td>1.351576e+05</td>\n",
              "      <td>56.583554</td>\n",
              "      <td>1.905813</td>\n",
              "      <td>7.299346</td>\n",
              "      <td>182.425512</td>\n",
              "    </tr>\n",
              "    <tr>\n",
              "      <th>std</th>\n",
              "      <td>8.057990e+04</td>\n",
              "      <td>76.784063</td>\n",
              "      <td>7.813292e+04</td>\n",
              "      <td>32.826444</td>\n",
              "      <td>0.343436</td>\n",
              "      <td>2.527241</td>\n",
              "      <td>64.325148</td>\n",
              "    </tr>\n",
              "    <tr>\n",
              "      <th>min</th>\n",
              "      <td>1.000000e+03</td>\n",
              "      <td>1.000000</td>\n",
              "      <td>1.000000e+00</td>\n",
              "      <td>1.000000</td>\n",
              "      <td>1.000000</td>\n",
              "      <td>1.500000</td>\n",
              "      <td>70.000000</td>\n",
              "    </tr>\n",
              "    <tr>\n",
              "      <th>25%</th>\n",
              "      <td>7.002100e+04</td>\n",
              "      <td>70.000000</td>\n",
              "      <td>6.760050e+04</td>\n",
              "      <td>28.000000</td>\n",
              "      <td>2.000000</td>\n",
              "      <td>5.400000</td>\n",
              "      <td>150.000000</td>\n",
              "    </tr>\n",
              "    <tr>\n",
              "      <th>50%</th>\n",
              "      <td>1.303570e+05</td>\n",
              "      <td>130.000000</td>\n",
              "      <td>1.351365e+05</td>\n",
              "      <td>56.000000</td>\n",
              "      <td>2.000000</td>\n",
              "      <td>7.400000</td>\n",
              "      <td>170.000000</td>\n",
              "    </tr>\n",
              "    <tr>\n",
              "      <th>75%</th>\n",
              "      <td>2.030940e+05</td>\n",
              "      <td>203.000000</td>\n",
              "      <td>2.026998e+05</td>\n",
              "      <td>85.000000</td>\n",
              "      <td>2.000000</td>\n",
              "      <td>9.200000</td>\n",
              "      <td>175.000000</td>\n",
              "    </tr>\n",
              "    <tr>\n",
              "      <th>max</th>\n",
              "      <td>2.373711e+06</td>\n",
              "      <td>272.000000</td>\n",
              "      <td>2.415841e+06</td>\n",
              "      <td>114.000000</td>\n",
              "      <td>5.000000</td>\n",
              "      <td>29.500000</td>\n",
              "      <td>380.000000</td>\n",
              "    </tr>\n",
              "  </tbody>\n",
              "</table>\n",
              "</div>\n",
              "      <button class=\"colab-df-convert\" onclick=\"convertToInteractive('df-0c631362-c01c-4689-a355-6fee5af72820')\"\n",
              "              title=\"Convert this dataframe to an interactive table.\"\n",
              "              style=\"display:none;\">\n",
              "        \n",
              "  <svg xmlns=\"http://www.w3.org/2000/svg\" height=\"24px\"viewBox=\"0 0 24 24\"\n",
              "       width=\"24px\">\n",
              "    <path d=\"M0 0h24v24H0V0z\" fill=\"none\"/>\n",
              "    <path d=\"M18.56 5.44l.94 2.06.94-2.06 2.06-.94-2.06-.94-.94-2.06-.94 2.06-2.06.94zm-11 1L8.5 8.5l.94-2.06 2.06-.94-2.06-.94L8.5 2.5l-.94 2.06-2.06.94zm10 10l.94 2.06.94-2.06 2.06-.94-2.06-.94-.94-2.06-.94 2.06-2.06.94z\"/><path d=\"M17.41 7.96l-1.37-1.37c-.4-.4-.92-.59-1.43-.59-.52 0-1.04.2-1.43.59L10.3 9.45l-7.72 7.72c-.78.78-.78 2.05 0 2.83L4 21.41c.39.39.9.59 1.41.59.51 0 1.02-.2 1.41-.59l7.78-7.78 2.81-2.81c.8-.78.8-2.07 0-2.86zM5.41 20L4 18.59l7.72-7.72 1.47 1.35L5.41 20z\"/>\n",
              "  </svg>\n",
              "      </button>\n",
              "      \n",
              "  <style>\n",
              "    .colab-df-container {\n",
              "      display:flex;\n",
              "      flex-wrap:wrap;\n",
              "      gap: 12px;\n",
              "    }\n",
              "\n",
              "    .colab-df-convert {\n",
              "      background-color: #E8F0FE;\n",
              "      border: none;\n",
              "      border-radius: 50%;\n",
              "      cursor: pointer;\n",
              "      display: none;\n",
              "      fill: #1967D2;\n",
              "      height: 32px;\n",
              "      padding: 0 0 0 0;\n",
              "      width: 32px;\n",
              "    }\n",
              "\n",
              "    .colab-df-convert:hover {\n",
              "      background-color: #E2EBFA;\n",
              "      box-shadow: 0px 1px 2px rgba(60, 64, 67, 0.3), 0px 1px 3px 1px rgba(60, 64, 67, 0.15);\n",
              "      fill: #174EA6;\n",
              "    }\n",
              "\n",
              "    [theme=dark] .colab-df-convert {\n",
              "      background-color: #3B4455;\n",
              "      fill: #D2E3FC;\n",
              "    }\n",
              "\n",
              "    [theme=dark] .colab-df-convert:hover {\n",
              "      background-color: #434B5C;\n",
              "      box-shadow: 0px 1px 3px 1px rgba(0, 0, 0, 0.15);\n",
              "      filter: drop-shadow(0px 1px 2px rgba(0, 0, 0, 0.3));\n",
              "      fill: #FFFFFF;\n",
              "    }\n",
              "  </style>\n",
              "\n",
              "      <script>\n",
              "        const buttonEl =\n",
              "          document.querySelector('#df-0c631362-c01c-4689-a355-6fee5af72820 button.colab-df-convert');\n",
              "        buttonEl.style.display =\n",
              "          google.colab.kernel.accessAllowed ? 'block' : 'none';\n",
              "\n",
              "        async function convertToInteractive(key) {\n",
              "          const element = document.querySelector('#df-0c631362-c01c-4689-a355-6fee5af72820');\n",
              "          const dataTable =\n",
              "            await google.colab.kernel.invokeFunction('convertToInteractive',\n",
              "                                                     [key], {});\n",
              "          if (!dataTable) return;\n",
              "\n",
              "          const docLinkHtml = 'Like what you see? Visit the ' +\n",
              "            '<a target=\"_blank\" href=https://colab.research.google.com/notebooks/data_table.ipynb>data table notebook</a>'\n",
              "            + ' to learn more about interactive tables.';\n",
              "          element.innerHTML = '';\n",
              "          dataTable['output_type'] = 'display_data';\n",
              "          await google.colab.output.renderOutput(dataTable, element);\n",
              "          const docLink = document.createElement('div');\n",
              "          docLink.innerHTML = docLinkHtml;\n",
              "          element.appendChild(docLink);\n",
              "        }\n",
              "      </script>\n",
              "    </div>\n",
              "  </div>\n",
              "  "
            ],
            "text/plain": [
              "       LYLTY_CARD_NBR      STORE_NBR  ...      TOT_SALES      PACK_SIZE\n",
              "count    2.648340e+05  264834.000000  ...  264834.000000  264834.000000\n",
              "mean     1.355488e+05     135.079423  ...       7.299346     182.425512\n",
              "std      8.057990e+04      76.784063  ...       2.527241      64.325148\n",
              "min      1.000000e+03       1.000000  ...       1.500000      70.000000\n",
              "25%      7.002100e+04      70.000000  ...       5.400000     150.000000\n",
              "50%      1.303570e+05     130.000000  ...       7.400000     170.000000\n",
              "75%      2.030940e+05     203.000000  ...       9.200000     175.000000\n",
              "max      2.373711e+06     272.000000  ...      29.500000     380.000000\n",
              "\n",
              "[8 rows x 7 columns]"
            ]
          },
          "metadata": {},
          "execution_count": 228
        }
      ]
    },
    {
      "cell_type": "code",
      "source": [
        "QVI_data.to_csv('Combined_customer_transaction_data.csv')"
      ],
      "metadata": {
        "id": "dDlFsfUyiNuE"
      },
      "execution_count": 229,
      "outputs": []
    },
    {
      "cell_type": "markdown",
      "source": [
        "# **Customer Segment Data-Analysis:**"
      ],
      "metadata": {
        "id": "siTSPMqfkyFD"
      }
    },
    {
      "cell_type": "markdown",
      "source": [
        "Now that the data is processed and cleaned we would looking into defining a few metrics such as:\n",
        "\n",
        "\n",
        "\n",
        "\n",
        "*   Which segment spends the most on chips by lifestage and Permium purchasing behaviour.\n",
        "*   How many customers are in the different segment.\n",
        "\n",
        "*   How many chips are bought per customer by segment.\n",
        "\n",
        "*   What is the average chip price by customer segment.\n",
        "\n",
        "\n",
        "\n",
        "\n",
        "\n"
      ],
      "metadata": {
        "id": "t986JcEEpUcA"
      }
    },
    {
      "cell_type": "markdown",
      "source": [
        ""
      ],
      "metadata": {
        "id": "lQXmfsFhpUFZ"
      }
    },
    {
      "cell_type": "code",
      "source": [
        "QVI_data.head()"
      ],
      "metadata": {
        "colab": {
          "base_uri": "https://localhost:8080/",
          "height": 478
        },
        "id": "OrUCYVf5lJSr",
        "outputId": "8f1dfead-38c4-4df6-9a1e-ccbf24745117"
      },
      "execution_count": 230,
      "outputs": [
        {
          "output_type": "execute_result",
          "data": {
            "text/html": [
              "\n",
              "  <div id=\"df-bdf70377-b011-4d70-a3a2-45d4a6a890dd\">\n",
              "    <div class=\"colab-df-container\">\n",
              "      <div>\n",
              "<style scoped>\n",
              "    .dataframe tbody tr th:only-of-type {\n",
              "        vertical-align: middle;\n",
              "    }\n",
              "\n",
              "    .dataframe tbody tr th {\n",
              "        vertical-align: top;\n",
              "    }\n",
              "\n",
              "    .dataframe thead th {\n",
              "        text-align: right;\n",
              "    }\n",
              "</style>\n",
              "<table border=\"1\" class=\"dataframe\">\n",
              "  <thead>\n",
              "    <tr style=\"text-align: right;\">\n",
              "      <th></th>\n",
              "      <th>LYLTY_CARD_NBR</th>\n",
              "      <th>LIFESTAGE</th>\n",
              "      <th>PREMIUM_CUSTOMER</th>\n",
              "      <th>DATE</th>\n",
              "      <th>STORE_NBR</th>\n",
              "      <th>TXN_ID</th>\n",
              "      <th>PROD_NBR</th>\n",
              "      <th>PROD_NAME</th>\n",
              "      <th>PROD_QTY</th>\n",
              "      <th>TOT_SALES</th>\n",
              "      <th>BRAND</th>\n",
              "      <th>PACK_SIZE</th>\n",
              "    </tr>\n",
              "  </thead>\n",
              "  <tbody>\n",
              "    <tr>\n",
              "      <th>0</th>\n",
              "      <td>1000</td>\n",
              "      <td>YOUNG SINGLES/COUPLES</td>\n",
              "      <td>Premium</td>\n",
              "      <td>17/10/2018</td>\n",
              "      <td>1</td>\n",
              "      <td>1</td>\n",
              "      <td>5</td>\n",
              "      <td>Natural Chip        Compny SeaSalt175g</td>\n",
              "      <td>2</td>\n",
              "      <td>6.0</td>\n",
              "      <td>Natural</td>\n",
              "      <td>175</td>\n",
              "    </tr>\n",
              "    <tr>\n",
              "      <th>1</th>\n",
              "      <td>1002</td>\n",
              "      <td>YOUNG SINGLES/COUPLES</td>\n",
              "      <td>Mainstream</td>\n",
              "      <td>16/09/2018</td>\n",
              "      <td>1</td>\n",
              "      <td>2</td>\n",
              "      <td>58</td>\n",
              "      <td>Red Rock Deli Chikn&amp;Garlic Aioli 150g</td>\n",
              "      <td>1</td>\n",
              "      <td>2.7</td>\n",
              "      <td>Red</td>\n",
              "      <td>150</td>\n",
              "    </tr>\n",
              "    <tr>\n",
              "      <th>2</th>\n",
              "      <td>1003</td>\n",
              "      <td>YOUNG FAMILIES</td>\n",
              "      <td>Budget</td>\n",
              "      <td>07/03/2019</td>\n",
              "      <td>1</td>\n",
              "      <td>3</td>\n",
              "      <td>52</td>\n",
              "      <td>Grain Waves Sour    Cream&amp;Chives 210G</td>\n",
              "      <td>1</td>\n",
              "      <td>3.6</td>\n",
              "      <td>Grain</td>\n",
              "      <td>210</td>\n",
              "    </tr>\n",
              "    <tr>\n",
              "      <th>3</th>\n",
              "      <td>1003</td>\n",
              "      <td>YOUNG FAMILIES</td>\n",
              "      <td>Budget</td>\n",
              "      <td>08/03/2019</td>\n",
              "      <td>1</td>\n",
              "      <td>4</td>\n",
              "      <td>106</td>\n",
              "      <td>Natural ChipCo      Hony Soy Chckn175g</td>\n",
              "      <td>1</td>\n",
              "      <td>3.0</td>\n",
              "      <td>Natural</td>\n",
              "      <td>175</td>\n",
              "    </tr>\n",
              "    <tr>\n",
              "      <th>4</th>\n",
              "      <td>1004</td>\n",
              "      <td>OLDER SINGLES/COUPLES</td>\n",
              "      <td>Mainstream</td>\n",
              "      <td>02/11/2018</td>\n",
              "      <td>1</td>\n",
              "      <td>5</td>\n",
              "      <td>96</td>\n",
              "      <td>WW Original Stacked Chips 160g</td>\n",
              "      <td>1</td>\n",
              "      <td>1.9</td>\n",
              "      <td>WW</td>\n",
              "      <td>160</td>\n",
              "    </tr>\n",
              "  </tbody>\n",
              "</table>\n",
              "</div>\n",
              "      <button class=\"colab-df-convert\" onclick=\"convertToInteractive('df-bdf70377-b011-4d70-a3a2-45d4a6a890dd')\"\n",
              "              title=\"Convert this dataframe to an interactive table.\"\n",
              "              style=\"display:none;\">\n",
              "        \n",
              "  <svg xmlns=\"http://www.w3.org/2000/svg\" height=\"24px\"viewBox=\"0 0 24 24\"\n",
              "       width=\"24px\">\n",
              "    <path d=\"M0 0h24v24H0V0z\" fill=\"none\"/>\n",
              "    <path d=\"M18.56 5.44l.94 2.06.94-2.06 2.06-.94-2.06-.94-.94-2.06-.94 2.06-2.06.94zm-11 1L8.5 8.5l.94-2.06 2.06-.94-2.06-.94L8.5 2.5l-.94 2.06-2.06.94zm10 10l.94 2.06.94-2.06 2.06-.94-2.06-.94-.94-2.06-.94 2.06-2.06.94z\"/><path d=\"M17.41 7.96l-1.37-1.37c-.4-.4-.92-.59-1.43-.59-.52 0-1.04.2-1.43.59L10.3 9.45l-7.72 7.72c-.78.78-.78 2.05 0 2.83L4 21.41c.39.39.9.59 1.41.59.51 0 1.02-.2 1.41-.59l7.78-7.78 2.81-2.81c.8-.78.8-2.07 0-2.86zM5.41 20L4 18.59l7.72-7.72 1.47 1.35L5.41 20z\"/>\n",
              "  </svg>\n",
              "      </button>\n",
              "      \n",
              "  <style>\n",
              "    .colab-df-container {\n",
              "      display:flex;\n",
              "      flex-wrap:wrap;\n",
              "      gap: 12px;\n",
              "    }\n",
              "\n",
              "    .colab-df-convert {\n",
              "      background-color: #E8F0FE;\n",
              "      border: none;\n",
              "      border-radius: 50%;\n",
              "      cursor: pointer;\n",
              "      display: none;\n",
              "      fill: #1967D2;\n",
              "      height: 32px;\n",
              "      padding: 0 0 0 0;\n",
              "      width: 32px;\n",
              "    }\n",
              "\n",
              "    .colab-df-convert:hover {\n",
              "      background-color: #E2EBFA;\n",
              "      box-shadow: 0px 1px 2px rgba(60, 64, 67, 0.3), 0px 1px 3px 1px rgba(60, 64, 67, 0.15);\n",
              "      fill: #174EA6;\n",
              "    }\n",
              "\n",
              "    [theme=dark] .colab-df-convert {\n",
              "      background-color: #3B4455;\n",
              "      fill: #D2E3FC;\n",
              "    }\n",
              "\n",
              "    [theme=dark] .colab-df-convert:hover {\n",
              "      background-color: #434B5C;\n",
              "      box-shadow: 0px 1px 3px 1px rgba(0, 0, 0, 0.15);\n",
              "      filter: drop-shadow(0px 1px 2px rgba(0, 0, 0, 0.3));\n",
              "      fill: #FFFFFF;\n",
              "    }\n",
              "  </style>\n",
              "\n",
              "      <script>\n",
              "        const buttonEl =\n",
              "          document.querySelector('#df-bdf70377-b011-4d70-a3a2-45d4a6a890dd button.colab-df-convert');\n",
              "        buttonEl.style.display =\n",
              "          google.colab.kernel.accessAllowed ? 'block' : 'none';\n",
              "\n",
              "        async function convertToInteractive(key) {\n",
              "          const element = document.querySelector('#df-bdf70377-b011-4d70-a3a2-45d4a6a890dd');\n",
              "          const dataTable =\n",
              "            await google.colab.kernel.invokeFunction('convertToInteractive',\n",
              "                                                     [key], {});\n",
              "          if (!dataTable) return;\n",
              "\n",
              "          const docLinkHtml = 'Like what you see? Visit the ' +\n",
              "            '<a target=\"_blank\" href=https://colab.research.google.com/notebooks/data_table.ipynb>data table notebook</a>'\n",
              "            + ' to learn more about interactive tables.';\n",
              "          element.innerHTML = '';\n",
              "          dataTable['output_type'] = 'display_data';\n",
              "          await google.colab.output.renderOutput(dataTable, element);\n",
              "          const docLink = document.createElement('div');\n",
              "          docLink.innerHTML = docLinkHtml;\n",
              "          element.appendChild(docLink);\n",
              "        }\n",
              "      </script>\n",
              "    </div>\n",
              "  </div>\n",
              "  "
            ],
            "text/plain": [
              "   LYLTY_CARD_NBR              LIFESTAGE  ...    BRAND PACK_SIZE\n",
              "0            1000  YOUNG SINGLES/COUPLES  ...  Natural       175\n",
              "1            1002  YOUNG SINGLES/COUPLES  ...      Red       150\n",
              "2            1003         YOUNG FAMILIES  ...    Grain       210\n",
              "3            1003         YOUNG FAMILIES  ...  Natural       175\n",
              "4            1004  OLDER SINGLES/COUPLES  ...       WW       160\n",
              "\n",
              "[5 rows x 12 columns]"
            ]
          },
          "metadata": {},
          "execution_count": 230
        }
      ]
    },
    {
      "cell_type": "code",
      "source": [
        "sales = pd.DataFrame(QVI_data.groupby(['PREMIUM_CUSTOMER', 'LIFESTAGE']).TOT_SALES.sum())\n",
        "sales.rename(columns = {'TOT_SALES': 'Total Sales'}, inplace = True)\n",
        "sales.sort_values(by = 'Total Sales' , ascending = False, inplace = True)\n",
        "sales"
      ],
      "metadata": {
        "colab": {
          "base_uri": "https://localhost:8080/",
          "height": 739
        },
        "id": "Cv1dBEYzlMv6",
        "outputId": "e5e731f1-ebea-430d-a8c0-33a8051e16d8"
      },
      "execution_count": 231,
      "outputs": [
        {
          "output_type": "execute_result",
          "data": {
            "text/html": [
              "\n",
              "  <div id=\"df-b334f0a2-d12b-4ded-9347-7389a9d69cf6\">\n",
              "    <div class=\"colab-df-container\">\n",
              "      <div>\n",
              "<style scoped>\n",
              "    .dataframe tbody tr th:only-of-type {\n",
              "        vertical-align: middle;\n",
              "    }\n",
              "\n",
              "    .dataframe tbody tr th {\n",
              "        vertical-align: top;\n",
              "    }\n",
              "\n",
              "    .dataframe thead th {\n",
              "        text-align: right;\n",
              "    }\n",
              "</style>\n",
              "<table border=\"1\" class=\"dataframe\">\n",
              "  <thead>\n",
              "    <tr style=\"text-align: right;\">\n",
              "      <th></th>\n",
              "      <th></th>\n",
              "      <th>Total Sales</th>\n",
              "    </tr>\n",
              "    <tr>\n",
              "      <th>PREMIUM_CUSTOMER</th>\n",
              "      <th>LIFESTAGE</th>\n",
              "      <th></th>\n",
              "    </tr>\n",
              "  </thead>\n",
              "  <tbody>\n",
              "    <tr>\n",
              "      <th>Budget</th>\n",
              "      <th>OLDER FAMILIES</th>\n",
              "      <td>168363.25</td>\n",
              "    </tr>\n",
              "    <tr>\n",
              "      <th rowspan=\"2\" valign=\"top\">Mainstream</th>\n",
              "      <th>YOUNG SINGLES/COUPLES</th>\n",
              "      <td>157621.60</td>\n",
              "    </tr>\n",
              "    <tr>\n",
              "      <th>RETIREES</th>\n",
              "      <td>155677.05</td>\n",
              "    </tr>\n",
              "    <tr>\n",
              "      <th rowspan=\"2\" valign=\"top\">Budget</th>\n",
              "      <th>YOUNG FAMILIES</th>\n",
              "      <td>139345.85</td>\n",
              "    </tr>\n",
              "    <tr>\n",
              "      <th>OLDER SINGLES/COUPLES</th>\n",
              "      <td>136769.80</td>\n",
              "    </tr>\n",
              "    <tr>\n",
              "      <th>Mainstream</th>\n",
              "      <th>OLDER SINGLES/COUPLES</th>\n",
              "      <td>133393.80</td>\n",
              "    </tr>\n",
              "    <tr>\n",
              "      <th>Premium</th>\n",
              "      <th>OLDER SINGLES/COUPLES</th>\n",
              "      <td>132263.15</td>\n",
              "    </tr>\n",
              "    <tr>\n",
              "      <th>Budget</th>\n",
              "      <th>RETIREES</th>\n",
              "      <td>113147.80</td>\n",
              "    </tr>\n",
              "    <tr>\n",
              "      <th>Mainstream</th>\n",
              "      <th>OLDER FAMILIES</th>\n",
              "      <td>103445.55</td>\n",
              "    </tr>\n",
              "    <tr>\n",
              "      <th>Premium</th>\n",
              "      <th>RETIREES</th>\n",
              "      <td>97646.05</td>\n",
              "    </tr>\n",
              "    <tr>\n",
              "      <th rowspan=\"2\" valign=\"top\">Mainstream</th>\n",
              "      <th>YOUNG FAMILIES</th>\n",
              "      <td>92788.75</td>\n",
              "    </tr>\n",
              "    <tr>\n",
              "      <th>MIDAGE SINGLES/COUPLES</th>\n",
              "      <td>90803.85</td>\n",
              "    </tr>\n",
              "    <tr>\n",
              "      <th rowspan=\"2\" valign=\"top\">Premium</th>\n",
              "      <th>YOUNG FAMILIES</th>\n",
              "      <td>84025.50</td>\n",
              "    </tr>\n",
              "    <tr>\n",
              "      <th>OLDER FAMILIES</th>\n",
              "      <td>80658.40</td>\n",
              "    </tr>\n",
              "    <tr>\n",
              "      <th>Budget</th>\n",
              "      <th>YOUNG SINGLES/COUPLES</th>\n",
              "      <td>61141.60</td>\n",
              "    </tr>\n",
              "    <tr>\n",
              "      <th rowspan=\"2\" valign=\"top\">Premium</th>\n",
              "      <th>MIDAGE SINGLES/COUPLES</th>\n",
              "      <td>58432.65</td>\n",
              "    </tr>\n",
              "    <tr>\n",
              "      <th>YOUNG SINGLES/COUPLES</th>\n",
              "      <td>41642.10</td>\n",
              "    </tr>\n",
              "    <tr>\n",
              "      <th rowspan=\"2\" valign=\"top\">Budget</th>\n",
              "      <th>MIDAGE SINGLES/COUPLES</th>\n",
              "      <td>35514.80</td>\n",
              "    </tr>\n",
              "    <tr>\n",
              "      <th>NEW FAMILIES</th>\n",
              "      <td>21928.45</td>\n",
              "    </tr>\n",
              "    <tr>\n",
              "      <th>Mainstream</th>\n",
              "      <th>NEW FAMILIES</th>\n",
              "      <td>17013.90</td>\n",
              "    </tr>\n",
              "    <tr>\n",
              "      <th>Premium</th>\n",
              "      <th>NEW FAMILIES</th>\n",
              "      <td>11491.10</td>\n",
              "    </tr>\n",
              "  </tbody>\n",
              "</table>\n",
              "</div>\n",
              "      <button class=\"colab-df-convert\" onclick=\"convertToInteractive('df-b334f0a2-d12b-4ded-9347-7389a9d69cf6')\"\n",
              "              title=\"Convert this dataframe to an interactive table.\"\n",
              "              style=\"display:none;\">\n",
              "        \n",
              "  <svg xmlns=\"http://www.w3.org/2000/svg\" height=\"24px\"viewBox=\"0 0 24 24\"\n",
              "       width=\"24px\">\n",
              "    <path d=\"M0 0h24v24H0V0z\" fill=\"none\"/>\n",
              "    <path d=\"M18.56 5.44l.94 2.06.94-2.06 2.06-.94-2.06-.94-.94-2.06-.94 2.06-2.06.94zm-11 1L8.5 8.5l.94-2.06 2.06-.94-2.06-.94L8.5 2.5l-.94 2.06-2.06.94zm10 10l.94 2.06.94-2.06 2.06-.94-2.06-.94-.94-2.06-.94 2.06-2.06.94z\"/><path d=\"M17.41 7.96l-1.37-1.37c-.4-.4-.92-.59-1.43-.59-.52 0-1.04.2-1.43.59L10.3 9.45l-7.72 7.72c-.78.78-.78 2.05 0 2.83L4 21.41c.39.39.9.59 1.41.59.51 0 1.02-.2 1.41-.59l7.78-7.78 2.81-2.81c.8-.78.8-2.07 0-2.86zM5.41 20L4 18.59l7.72-7.72 1.47 1.35L5.41 20z\"/>\n",
              "  </svg>\n",
              "      </button>\n",
              "      \n",
              "  <style>\n",
              "    .colab-df-container {\n",
              "      display:flex;\n",
              "      flex-wrap:wrap;\n",
              "      gap: 12px;\n",
              "    }\n",
              "\n",
              "    .colab-df-convert {\n",
              "      background-color: #E8F0FE;\n",
              "      border: none;\n",
              "      border-radius: 50%;\n",
              "      cursor: pointer;\n",
              "      display: none;\n",
              "      fill: #1967D2;\n",
              "      height: 32px;\n",
              "      padding: 0 0 0 0;\n",
              "      width: 32px;\n",
              "    }\n",
              "\n",
              "    .colab-df-convert:hover {\n",
              "      background-color: #E2EBFA;\n",
              "      box-shadow: 0px 1px 2px rgba(60, 64, 67, 0.3), 0px 1px 3px 1px rgba(60, 64, 67, 0.15);\n",
              "      fill: #174EA6;\n",
              "    }\n",
              "\n",
              "    [theme=dark] .colab-df-convert {\n",
              "      background-color: #3B4455;\n",
              "      fill: #D2E3FC;\n",
              "    }\n",
              "\n",
              "    [theme=dark] .colab-df-convert:hover {\n",
              "      background-color: #434B5C;\n",
              "      box-shadow: 0px 1px 3px 1px rgba(0, 0, 0, 0.15);\n",
              "      filter: drop-shadow(0px 1px 2px rgba(0, 0, 0, 0.3));\n",
              "      fill: #FFFFFF;\n",
              "    }\n",
              "  </style>\n",
              "\n",
              "      <script>\n",
              "        const buttonEl =\n",
              "          document.querySelector('#df-b334f0a2-d12b-4ded-9347-7389a9d69cf6 button.colab-df-convert');\n",
              "        buttonEl.style.display =\n",
              "          google.colab.kernel.accessAllowed ? 'block' : 'none';\n",
              "\n",
              "        async function convertToInteractive(key) {\n",
              "          const element = document.querySelector('#df-b334f0a2-d12b-4ded-9347-7389a9d69cf6');\n",
              "          const dataTable =\n",
              "            await google.colab.kernel.invokeFunction('convertToInteractive',\n",
              "                                                     [key], {});\n",
              "          if (!dataTable) return;\n",
              "\n",
              "          const docLinkHtml = 'Like what you see? Visit the ' +\n",
              "            '<a target=\"_blank\" href=https://colab.research.google.com/notebooks/data_table.ipynb>data table notebook</a>'\n",
              "            + ' to learn more about interactive tables.';\n",
              "          element.innerHTML = '';\n",
              "          dataTable['output_type'] = 'display_data';\n",
              "          await google.colab.output.renderOutput(dataTable, element);\n",
              "          const docLink = document.createElement('div');\n",
              "          docLink.innerHTML = docLinkHtml;\n",
              "          element.appendChild(docLink);\n",
              "        }\n",
              "      </script>\n",
              "    </div>\n",
              "  </div>\n",
              "  "
            ],
            "text/plain": [
              "                                         Total Sales\n",
              "PREMIUM_CUSTOMER LIFESTAGE                          \n",
              "Budget           OLDER FAMILIES            168363.25\n",
              "Mainstream       YOUNG SINGLES/COUPLES     157621.60\n",
              "                 RETIREES                  155677.05\n",
              "Budget           YOUNG FAMILIES            139345.85\n",
              "                 OLDER SINGLES/COUPLES     136769.80\n",
              "Mainstream       OLDER SINGLES/COUPLES     133393.80\n",
              "Premium          OLDER SINGLES/COUPLES     132263.15\n",
              "Budget           RETIREES                  113147.80\n",
              "Mainstream       OLDER FAMILIES            103445.55\n",
              "Premium          RETIREES                   97646.05\n",
              "Mainstream       YOUNG FAMILIES             92788.75\n",
              "                 MIDAGE SINGLES/COUPLES     90803.85\n",
              "Premium          YOUNG FAMILIES             84025.50\n",
              "                 OLDER FAMILIES             80658.40\n",
              "Budget           YOUNG SINGLES/COUPLES      61141.60\n",
              "Premium          MIDAGE SINGLES/COUPLES     58432.65\n",
              "                 YOUNG SINGLES/COUPLES      41642.10\n",
              "Budget           MIDAGE SINGLES/COUPLES     35514.80\n",
              "                 NEW FAMILIES               21928.45\n",
              "Mainstream       NEW FAMILIES               17013.90\n",
              "Premium          NEW FAMILIES               11491.10"
            ]
          },
          "metadata": {},
          "execution_count": 231
        }
      ]
    },
    {
      "cell_type": "markdown",
      "source": [
        "Visual Representation of the Total Sales by Customer Segments:"
      ],
      "metadata": {
        "id": "62lgQ8jdv1pP"
      }
    },
    {
      "cell_type": "code",
      "source": [
        "sales = pd.DataFrame(QVI_data.groupby(['LIFESTAGE', 'PREMIUM_CUSTOMER']).TOT_SALES.sum())\n",
        "sales.unstack().plot(kind = 'bar', stacked = True, figsize = (15,7), title = 'Total Sales by Customer Segment')\n",
        "plt.ylabel('Total sales')\n",
        "plt.legend(['Budget', 'Mainstream', 'Premium'], loc = 2)"
      ],
      "metadata": {
        "id": "h54rd_7UovMH",
        "colab": {
          "base_uri": "https://localhost:8080/",
          "height": 601
        },
        "outputId": "15548c3c-505e-462b-bb3d-f087134a6f19"
      },
      "execution_count": 232,
      "outputs": [
        {
          "output_type": "execute_result",
          "data": {
            "text/plain": [
              "<matplotlib.legend.Legend at 0x7fdf6784a3d0>"
            ]
          },
          "metadata": {},
          "execution_count": 232
        },
        {
          "output_type": "display_data",
          "data": {
            "image/png": "[encoded data removed]",
            "text/plain": [
              "<Figure size 1080x504 with 1 Axes>"
            ]
          },
          "metadata": {
            "needs_background": "light"
          }
        }
      ]
    },
    {
      "cell_type": "code",
      "source": [
        "customers = pd.DataFrame(QVI_data.groupby(['PREMIUM_CUSTOMER', 'LIFESTAGE']).LYLTY_CARD_NBR.nunique())\n",
        "customers.rename(columns = {'LYLTY_CARD_NBR': 'Number of Customers'}, inplace = True)\n",
        "customers.sort_values(by = 'Number of Customers' , ascending = False, inplace = True)\n",
        "customers"
      ],
      "metadata": {
        "colab": {
          "base_uri": "https://localhost:8080/",
          "height": 739
        },
        "id": "jR9lZGRIxFC4",
        "outputId": "efa71f20-293e-4439-baa9-a5390b4c803f"
      },
      "execution_count": 233,
      "outputs": [
        {
          "output_type": "execute_result",
          "data": {
            "text/html": [
              "\n",
              "  <div id=\"df-59ac11f7-5f94-4f29-9ed2-1097f4012816\">\n",
              "    <div class=\"colab-df-container\">\n",
              "      <div>\n",
              "<style scoped>\n",
              "    .dataframe tbody tr th:only-of-type {\n",
              "        vertical-align: middle;\n",
              "    }\n",
              "\n",
              "    .dataframe tbody tr th {\n",
              "        vertical-align: top;\n",
              "    }\n",
              "\n",
              "    .dataframe thead th {\n",
              "        text-align: right;\n",
              "    }\n",
              "</style>\n",
              "<table border=\"1\" class=\"dataframe\">\n",
              "  <thead>\n",
              "    <tr style=\"text-align: right;\">\n",
              "      <th></th>\n",
              "      <th></th>\n",
              "      <th>Number of Customers</th>\n",
              "    </tr>\n",
              "    <tr>\n",
              "      <th>PREMIUM_CUSTOMER</th>\n",
              "      <th>LIFESTAGE</th>\n",
              "      <th></th>\n",
              "    </tr>\n",
              "  </thead>\n",
              "  <tbody>\n",
              "    <tr>\n",
              "      <th rowspan=\"3\" valign=\"top\">Mainstream</th>\n",
              "      <th>YOUNG SINGLES/COUPLES</th>\n",
              "      <td>8088</td>\n",
              "    </tr>\n",
              "    <tr>\n",
              "      <th>RETIREES</th>\n",
              "      <td>6479</td>\n",
              "    </tr>\n",
              "    <tr>\n",
              "      <th>OLDER SINGLES/COUPLES</th>\n",
              "      <td>4930</td>\n",
              "    </tr>\n",
              "    <tr>\n",
              "      <th>Budget</th>\n",
              "      <th>OLDER SINGLES/COUPLES</th>\n",
              "      <td>4929</td>\n",
              "    </tr>\n",
              "    <tr>\n",
              "      <th>Premium</th>\n",
              "      <th>OLDER SINGLES/COUPLES</th>\n",
              "      <td>4750</td>\n",
              "    </tr>\n",
              "    <tr>\n",
              "      <th rowspan=\"3\" valign=\"top\">Budget</th>\n",
              "      <th>OLDER FAMILIES</th>\n",
              "      <td>4675</td>\n",
              "    </tr>\n",
              "    <tr>\n",
              "      <th>RETIREES</th>\n",
              "      <td>4454</td>\n",
              "    </tr>\n",
              "    <tr>\n",
              "      <th>YOUNG FAMILIES</th>\n",
              "      <td>4017</td>\n",
              "    </tr>\n",
              "    <tr>\n",
              "      <th>Premium</th>\n",
              "      <th>RETIREES</th>\n",
              "      <td>3872</td>\n",
              "    </tr>\n",
              "    <tr>\n",
              "      <th>Budget</th>\n",
              "      <th>YOUNG SINGLES/COUPLES</th>\n",
              "      <td>3779</td>\n",
              "    </tr>\n",
              "    <tr>\n",
              "      <th rowspan=\"3\" valign=\"top\">Mainstream</th>\n",
              "      <th>MIDAGE SINGLES/COUPLES</th>\n",
              "      <td>3340</td>\n",
              "    </tr>\n",
              "    <tr>\n",
              "      <th>OLDER FAMILIES</th>\n",
              "      <td>2831</td>\n",
              "    </tr>\n",
              "    <tr>\n",
              "      <th>YOUNG FAMILIES</th>\n",
              "      <td>2728</td>\n",
              "    </tr>\n",
              "    <tr>\n",
              "      <th rowspan=\"4\" valign=\"top\">Premium</th>\n",
              "      <th>YOUNG SINGLES/COUPLES</th>\n",
              "      <td>2574</td>\n",
              "    </tr>\n",
              "    <tr>\n",
              "      <th>YOUNG FAMILIES</th>\n",
              "      <td>2433</td>\n",
              "    </tr>\n",
              "    <tr>\n",
              "      <th>MIDAGE SINGLES/COUPLES</th>\n",
              "      <td>2431</td>\n",
              "    </tr>\n",
              "    <tr>\n",
              "      <th>OLDER FAMILIES</th>\n",
              "      <td>2273</td>\n",
              "    </tr>\n",
              "    <tr>\n",
              "      <th rowspan=\"2\" valign=\"top\">Budget</th>\n",
              "      <th>MIDAGE SINGLES/COUPLES</th>\n",
              "      <td>1504</td>\n",
              "    </tr>\n",
              "    <tr>\n",
              "      <th>NEW FAMILIES</th>\n",
              "      <td>1112</td>\n",
              "    </tr>\n",
              "    <tr>\n",
              "      <th>Mainstream</th>\n",
              "      <th>NEW FAMILIES</th>\n",
              "      <td>849</td>\n",
              "    </tr>\n",
              "    <tr>\n",
              "      <th>Premium</th>\n",
              "      <th>NEW FAMILIES</th>\n",
              "      <td>588</td>\n",
              "    </tr>\n",
              "  </tbody>\n",
              "</table>\n",
              "</div>\n",
              "      <button class=\"colab-df-convert\" onclick=\"convertToInteractive('df-59ac11f7-5f94-4f29-9ed2-1097f4012816')\"\n",
              "              title=\"Convert this dataframe to an interactive table.\"\n",
              "              style=\"display:none;\">\n",
              "        \n",
              "  <svg xmlns=\"http://www.w3.org/2000/svg\" height=\"24px\"viewBox=\"0 0 24 24\"\n",
              "       width=\"24px\">\n",
              "    <path d=\"M0 0h24v24H0V0z\" fill=\"none\"/>\n",
              "    <path d=\"M18.56 5.44l.94 2.06.94-2.06 2.06-.94-2.06-.94-.94-2.06-.94 2.06-2.06.94zm-11 1L8.5 8.5l.94-2.06 2.06-.94-2.06-.94L8.5 2.5l-.94 2.06-2.06.94zm10 10l.94 2.06.94-2.06 2.06-.94-2.06-.94-.94-2.06-.94 2.06-2.06.94z\"/><path d=\"M17.41 7.96l-1.37-1.37c-.4-.4-.92-.59-1.43-.59-.52 0-1.04.2-1.43.59L10.3 9.45l-7.72 7.72c-.78.78-.78 2.05 0 2.83L4 21.41c.39.39.9.59 1.41.59.51 0 1.02-.2 1.41-.59l7.78-7.78 2.81-2.81c.8-.78.8-2.07 0-2.86zM5.41 20L4 18.59l7.72-7.72 1.47 1.35L5.41 20z\"/>\n",
              "  </svg>\n",
              "      </button>\n",
              "      \n",
              "  <style>\n",
              "    .colab-df-container {\n",
              "      display:flex;\n",
              "      flex-wrap:wrap;\n",
              "      gap: 12px;\n",
              "    }\n",
              "\n",
              "    .colab-df-convert {\n",
              "      background-color: #E8F0FE;\n",
              "      border: none;\n",
              "      border-radius: 50%;\n",
              "      cursor: pointer;\n",
              "      display: none;\n",
              "      fill: #1967D2;\n",
              "      height: 32px;\n",
              "      padding: 0 0 0 0;\n",
              "      width: 32px;\n",
              "    }\n",
              "\n",
              "    .colab-df-convert:hover {\n",
              "      background-color: #E2EBFA;\n",
              "      box-shadow: 0px 1px 2px rgba(60, 64, 67, 0.3), 0px 1px 3px 1px rgba(60, 64, 67, 0.15);\n",
              "      fill: #174EA6;\n",
              "    }\n",
              "\n",
              "    [theme=dark] .colab-df-convert {\n",
              "      background-color: #3B4455;\n",
              "      fill: #D2E3FC;\n",
              "    }\n",
              "\n",
              "    [theme=dark] .colab-df-convert:hover {\n",
              "      background-color: #434B5C;\n",
              "      box-shadow: 0px 1px 3px 1px rgba(0, 0, 0, 0.15);\n",
              "      filter: drop-shadow(0px 1px 2px rgba(0, 0, 0, 0.3));\n",
              "      fill: #FFFFFF;\n",
              "    }\n",
              "  </style>\n",
              "\n",
              "      <script>\n",
              "        const buttonEl =\n",
              "          document.querySelector('#df-59ac11f7-5f94-4f29-9ed2-1097f4012816 button.colab-df-convert');\n",
              "        buttonEl.style.display =\n",
              "          google.colab.kernel.accessAllowed ? 'block' : 'none';\n",
              "\n",
              "        async function convertToInteractive(key) {\n",
              "          const element = document.querySelector('#df-59ac11f7-5f94-4f29-9ed2-1097f4012816');\n",
              "          const dataTable =\n",
              "            await google.colab.kernel.invokeFunction('convertToInteractive',\n",
              "                                                     [key], {});\n",
              "          if (!dataTable) return;\n",
              "\n",
              "          const docLinkHtml = 'Like what you see? Visit the ' +\n",
              "            '<a target=\"_blank\" href=https://colab.research.google.com/notebooks/data_table.ipynb>data table notebook</a>'\n",
              "            + ' to learn more about interactive tables.';\n",
              "          element.innerHTML = '';\n",
              "          dataTable['output_type'] = 'display_data';\n",
              "          await google.colab.output.renderOutput(dataTable, element);\n",
              "          const docLink = document.createElement('div');\n",
              "          docLink.innerHTML = docLinkHtml;\n",
              "          element.appendChild(docLink);\n",
              "        }\n",
              "      </script>\n",
              "    </div>\n",
              "  </div>\n",
              "  "
            ],
            "text/plain": [
              "                                         Number of Customers\n",
              "PREMIUM_CUSTOMER LIFESTAGE                                  \n",
              "Mainstream       YOUNG SINGLES/COUPLES                  8088\n",
              "                 RETIREES                               6479\n",
              "                 OLDER SINGLES/COUPLES                  4930\n",
              "Budget           OLDER SINGLES/COUPLES                  4929\n",
              "Premium          OLDER SINGLES/COUPLES                  4750\n",
              "Budget           OLDER FAMILIES                         4675\n",
              "                 RETIREES                               4454\n",
              "                 YOUNG FAMILIES                         4017\n",
              "Premium          RETIREES                               3872\n",
              "Budget           YOUNG SINGLES/COUPLES                  3779\n",
              "Mainstream       MIDAGE SINGLES/COUPLES                 3340\n",
              "                 OLDER FAMILIES                         2831\n",
              "                 YOUNG FAMILIES                         2728\n",
              "Premium          YOUNG SINGLES/COUPLES                  2574\n",
              "                 YOUNG FAMILIES                         2433\n",
              "                 MIDAGE SINGLES/COUPLES                 2431\n",
              "                 OLDER FAMILIES                         2273\n",
              "Budget           MIDAGE SINGLES/COUPLES                 1504\n",
              "                 NEW FAMILIES                           1112\n",
              "Mainstream       NEW FAMILIES                            849\n",
              "Premium          NEW FAMILIES                            588"
            ]
          },
          "metadata": {},
          "execution_count": 233
        }
      ]
    },
    {
      "cell_type": "markdown",
      "source": [
        "Visual Representation of Number of customer by segment:"
      ],
      "metadata": {
        "id": "73BNWLqY3saT"
      }
    },
    {
      "cell_type": "code",
      "source": [
        "customers = pd.DataFrame(QVI_data.groupby([ 'LIFESTAGE', 'PREMIUM_CUSTOMER']).LYLTY_CARD_NBR.nunique())\n",
        "customers.unstack().plot(kind = 'bar', stacked = True, figsize = (15,7), title = 'Number of Customers by Customer Segments')\n",
        "plt.ylabel('Number of Customers')\n",
        "plt.legend(['Budget', 'Premium', 'Mainstream'], loc = 2)"
      ],
      "metadata": {
        "colab": {
          "base_uri": "https://localhost:8080/",
          "height": 601
        },
        "id": "qSh1c9yg0ymH",
        "outputId": "051d89ec-c0a8-4edc-a409-20f62823fa50"
      },
      "execution_count": 234,
      "outputs": [
        {
          "output_type": "execute_result",
          "data": {
            "text/plain": [
              "<matplotlib.legend.Legend at 0x7fdf67822290>"
            ]
          },
          "metadata": {},
          "execution_count": 234
        },
        {
          "output_type": "display_data",
          "data": {
            "image/png": "[encoded data removed]",
            "text/plain": [
              "<Figure size 1080x504 with 1 Axes>"
            ]
          },
          "metadata": {
            "needs_background": "light"
          }
        }
      ]
    },
    {
      "cell_type": "markdown",
      "source": [
        "It shows that young couples contribute more to the sales of Chips.."
      ],
      "metadata": {
        "id": "JWzsoVL45kGn"
      }
    },
    {
      "cell_type": "code",
      "source": [
        "Average_units =  QVI_data.groupby(['PREMIUM_CUSTOMER', 'LIFESTAGE']).PROD_QTY.sum() / QVI_data.groupby(['PREMIUM_CUSTOMER', 'LIFESTAGE']).LYLTY_CARD_NBR.nunique()\n",
        "Average_units = pd.DataFrame(Average_units, columns = {'Average unit per customer'})\n",
        "Average_units.sort_values(by= 'Average unit per customer', ascending = False).head()"
      ],
      "metadata": {
        "colab": {
          "base_uri": "https://localhost:8080/",
          "height": 238
        },
        "id": "CQLm2uOa1-x0",
        "outputId": "91287f15-f917-4fa5-b298-e3a4a557b898"
      },
      "execution_count": 235,
      "outputs": [
        {
          "output_type": "execute_result",
          "data": {
            "text/html": [
              "\n",
              "  <div id=\"df-2eeee46a-2ae1-4a19-883f-2d7d62560dca\">\n",
              "    <div class=\"colab-df-container\">\n",
              "      <div>\n",
              "<style scoped>\n",
              "    .dataframe tbody tr th:only-of-type {\n",
              "        vertical-align: middle;\n",
              "    }\n",
              "\n",
              "    .dataframe tbody tr th {\n",
              "        vertical-align: top;\n",
              "    }\n",
              "\n",
              "    .dataframe thead th {\n",
              "        text-align: right;\n",
              "    }\n",
              "</style>\n",
              "<table border=\"1\" class=\"dataframe\">\n",
              "  <thead>\n",
              "    <tr style=\"text-align: right;\">\n",
              "      <th></th>\n",
              "      <th></th>\n",
              "      <th>Average unit per customer</th>\n",
              "    </tr>\n",
              "    <tr>\n",
              "      <th>PREMIUM_CUSTOMER</th>\n",
              "      <th>LIFESTAGE</th>\n",
              "      <th></th>\n",
              "    </tr>\n",
              "  </thead>\n",
              "  <tbody>\n",
              "    <tr>\n",
              "      <th>Mainstream</th>\n",
              "      <th>OLDER FAMILIES</th>\n",
              "      <td>9.804309</td>\n",
              "    </tr>\n",
              "    <tr>\n",
              "      <th>Budget</th>\n",
              "      <th>OLDER FAMILIES</th>\n",
              "      <td>9.639572</td>\n",
              "    </tr>\n",
              "    <tr>\n",
              "      <th>Premium</th>\n",
              "      <th>OLDER FAMILIES</th>\n",
              "      <td>9.578091</td>\n",
              "    </tr>\n",
              "    <tr>\n",
              "      <th>Budget</th>\n",
              "      <th>YOUNG FAMILIES</th>\n",
              "      <td>9.238486</td>\n",
              "    </tr>\n",
              "    <tr>\n",
              "      <th>Premium</th>\n",
              "      <th>YOUNG FAMILIES</th>\n",
              "      <td>9.209207</td>\n",
              "    </tr>\n",
              "  </tbody>\n",
              "</table>\n",
              "</div>\n",
              "      <button class=\"colab-df-convert\" onclick=\"convertToInteractive('df-2eeee46a-2ae1-4a19-883f-2d7d62560dca')\"\n",
              "              title=\"Convert this dataframe to an interactive table.\"\n",
              "              style=\"display:none;\">\n",
              "        \n",
              "  <svg xmlns=\"http://www.w3.org/2000/svg\" height=\"24px\"viewBox=\"0 0 24 24\"\n",
              "       width=\"24px\">\n",
              "    <path d=\"M0 0h24v24H0V0z\" fill=\"none\"/>\n",
              "    <path d=\"M18.56 5.44l.94 2.06.94-2.06 2.06-.94-2.06-.94-.94-2.06-.94 2.06-2.06.94zm-11 1L8.5 8.5l.94-2.06 2.06-.94-2.06-.94L8.5 2.5l-.94 2.06-2.06.94zm10 10l.94 2.06.94-2.06 2.06-.94-2.06-.94-.94-2.06-.94 2.06-2.06.94z\"/><path d=\"M17.41 7.96l-1.37-1.37c-.4-.4-.92-.59-1.43-.59-.52 0-1.04.2-1.43.59L10.3 9.45l-7.72 7.72c-.78.78-.78 2.05 0 2.83L4 21.41c.39.39.9.59 1.41.59.51 0 1.02-.2 1.41-.59l7.78-7.78 2.81-2.81c.8-.78.8-2.07 0-2.86zM5.41 20L4 18.59l7.72-7.72 1.47 1.35L5.41 20z\"/>\n",
              "  </svg>\n",
              "      </button>\n",
              "      \n",
              "  <style>\n",
              "    .colab-df-container {\n",
              "      display:flex;\n",
              "      flex-wrap:wrap;\n",
              "      gap: 12px;\n",
              "    }\n",
              "\n",
              "    .colab-df-convert {\n",
              "      background-color: #E8F0FE;\n",
              "      border: none;\n",
              "      border-radius: 50%;\n",
              "      cursor: pointer;\n",
              "      display: none;\n",
              "      fill: #1967D2;\n",
              "      height: 32px;\n",
              "      padding: 0 0 0 0;\n",
              "      width: 32px;\n",
              "    }\n",
              "\n",
              "    .colab-df-convert:hover {\n",
              "      background-color: #E2EBFA;\n",
              "      box-shadow: 0px 1px 2px rgba(60, 64, 67, 0.3), 0px 1px 3px 1px rgba(60, 64, 67, 0.15);\n",
              "      fill: #174EA6;\n",
              "    }\n",
              "\n",
              "    [theme=dark] .colab-df-convert {\n",
              "      background-color: #3B4455;\n",
              "      fill: #D2E3FC;\n",
              "    }\n",
              "\n",
              "    [theme=dark] .colab-df-convert:hover {\n",
              "      background-color: #434B5C;\n",
              "      box-shadow: 0px 1px 3px 1px rgba(0, 0, 0, 0.15);\n",
              "      filter: drop-shadow(0px 1px 2px rgba(0, 0, 0, 0.3));\n",
              "      fill: #FFFFFF;\n",
              "    }\n",
              "  </style>\n",
              "\n",
              "      <script>\n",
              "        const buttonEl =\n",
              "          document.querySelector('#df-2eeee46a-2ae1-4a19-883f-2d7d62560dca button.colab-df-convert');\n",
              "        buttonEl.style.display =\n",
              "          google.colab.kernel.accessAllowed ? 'block' : 'none';\n",
              "\n",
              "        async function convertToInteractive(key) {\n",
              "          const element = document.querySelector('#df-2eeee46a-2ae1-4a19-883f-2d7d62560dca');\n",
              "          const dataTable =\n",
              "            await google.colab.kernel.invokeFunction('convertToInteractive',\n",
              "                                                     [key], {});\n",
              "          if (!dataTable) return;\n",
              "\n",
              "          const docLinkHtml = 'Like what you see? Visit the ' +\n",
              "            '<a target=\"_blank\" href=https://colab.research.google.com/notebooks/data_table.ipynb>data table notebook</a>'\n",
              "            + ' to learn more about interactive tables.';\n",
              "          element.innerHTML = '';\n",
              "          dataTable['output_type'] = 'display_data';\n",
              "          await google.colab.output.renderOutput(dataTable, element);\n",
              "          const docLink = document.createElement('div');\n",
              "          docLink.innerHTML = docLinkHtml;\n",
              "          element.appendChild(docLink);\n",
              "        }\n",
              "      </script>\n",
              "    </div>\n",
              "  </div>\n",
              "  "
            ],
            "text/plain": [
              "                                 Average unit per customer\n",
              "PREMIUM_CUSTOMER LIFESTAGE                                \n",
              "Mainstream       OLDER FAMILIES                   9.804309\n",
              "Budget           OLDER FAMILIES                   9.639572\n",
              "Premium          OLDER FAMILIES                   9.578091\n",
              "Budget           YOUNG FAMILIES                   9.238486\n",
              "Premium          YOUNG FAMILIES                   9.209207"
            ]
          },
          "metadata": {},
          "execution_count": 235
        }
      ]
    },
    {
      "cell_type": "markdown",
      "source": [
        "Visualization of Average unit per customer:"
      ],
      "metadata": {
        "id": "y8Ehlhzs79MU"
      }
    },
    {
      "cell_type": "code",
      "source": [
        "Average_units =  QVI_data.groupby([ 'LIFESTAGE', 'PREMIUM_CUSTOMER',]).PROD_QTY.sum() / QVI_data.groupby(['PREMIUM_CUSTOMER', 'LIFESTAGE']).LYLTY_CARD_NBR.nunique()\n",
        "Average_units.unstack().plot(kind = 'bar', figsize = (15,7), title = 'Average unit by Customer Segments')\n",
        "plt.ylabel('Average Units')\n",
        "plt.legend(['Budget', 'Premium', 'Mainstream'], loc = 2)"
      ],
      "metadata": {
        "colab": {
          "base_uri": "https://localhost:8080/",
          "height": 601
        },
        "id": "nIYZiQ6m2A8H",
        "outputId": "2d4a03fd-b231-4a69-bf7a-ddcfde9834a0"
      },
      "execution_count": 236,
      "outputs": [
        {
          "output_type": "execute_result",
          "data": {
            "text/plain": [
              "<matplotlib.legend.Legend at 0x7fdf678bf750>"
            ]
          },
          "metadata": {},
          "execution_count": 236
        },
        {
          "output_type": "display_data",
          "data": {
            "image/png": "[encoded data removed]",
            "text/plain": [
              "<Figure size 1080x504 with 1 Axes>"
            ]
          },
          "metadata": {
            "needs_background": "light"
          }
        }
      ]
    },
    {
      "cell_type": "markdown",
      "source": [
        "We see a trend  Older and Young Families have a trend purchasing more chips:"
      ],
      "metadata": {
        "id": "RLP6vsNj_HZ6"
      }
    },
    {
      "cell_type": "code",
      "source": [
        "Average_price = QVI_data.groupby(['PREMIUM_CUSTOMER', 'LIFESTAGE']).TOT_SALES.sum() / QVI_data.groupby(['PREMIUM_CUSTOMER', 'LIFESTAGE']).PROD_QTY.sum()\n",
        "Average_price = pd.DataFrame(Average_price, columns = {'Price Per unit'})\n",
        "Average_price.sort_values(by= 'Price Per unit', ascending = False).head(10)\n"
      ],
      "metadata": {
        "colab": {
          "base_uri": "https://localhost:8080/",
          "height": 394
        },
        "id": "AyHBOLEr8jhs",
        "outputId": "8561eb86-9af7-4c97-a6a8-112cd966b267"
      },
      "execution_count": 237,
      "outputs": [
        {
          "output_type": "execute_result",
          "data": {
            "text/html": [
              "\n",
              "  <div id=\"df-734fd1dc-a12e-4c4d-a344-a79e0aef9e71\">\n",
              "    <div class=\"colab-df-container\">\n",
              "      <div>\n",
              "<style scoped>\n",
              "    .dataframe tbody tr th:only-of-type {\n",
              "        vertical-align: middle;\n",
              "    }\n",
              "\n",
              "    .dataframe tbody tr th {\n",
              "        vertical-align: top;\n",
              "    }\n",
              "\n",
              "    .dataframe thead th {\n",
              "        text-align: right;\n",
              "    }\n",
              "</style>\n",
              "<table border=\"1\" class=\"dataframe\">\n",
              "  <thead>\n",
              "    <tr style=\"text-align: right;\">\n",
              "      <th></th>\n",
              "      <th></th>\n",
              "      <th>Price Per unit</th>\n",
              "    </tr>\n",
              "    <tr>\n",
              "      <th>PREMIUM_CUSTOMER</th>\n",
              "      <th>LIFESTAGE</th>\n",
              "      <th></th>\n",
              "    </tr>\n",
              "  </thead>\n",
              "  <tbody>\n",
              "    <tr>\n",
              "      <th rowspan=\"3\" valign=\"top\">Mainstream</th>\n",
              "      <th>YOUNG SINGLES/COUPLES</th>\n",
              "      <td>4.080079</td>\n",
              "    </tr>\n",
              "    <tr>\n",
              "      <th>MIDAGE SINGLES/COUPLES</th>\n",
              "      <td>4.000346</td>\n",
              "    </tr>\n",
              "    <tr>\n",
              "      <th>NEW FAMILIES</th>\n",
              "      <td>3.939315</td>\n",
              "    </tr>\n",
              "    <tr>\n",
              "      <th rowspan=\"2\" valign=\"top\">Budget</th>\n",
              "      <th>NEW FAMILIES</th>\n",
              "      <td>3.936178</td>\n",
              "    </tr>\n",
              "    <tr>\n",
              "      <th>RETIREES</th>\n",
              "      <td>3.933660</td>\n",
              "    </tr>\n",
              "    <tr>\n",
              "      <th rowspan=\"3\" valign=\"top\">Premium</th>\n",
              "      <th>RETIREES</th>\n",
              "      <td>3.924050</td>\n",
              "    </tr>\n",
              "    <tr>\n",
              "      <th>OLDER SINGLES/COUPLES</th>\n",
              "      <td>3.891695</td>\n",
              "    </tr>\n",
              "    <tr>\n",
              "      <th>NEW FAMILIES</th>\n",
              "      <td>3.886067</td>\n",
              "    </tr>\n",
              "    <tr>\n",
              "      <th>Budget</th>\n",
              "      <th>OLDER SINGLES/COUPLES</th>\n",
              "      <td>3.883299</td>\n",
              "    </tr>\n",
              "    <tr>\n",
              "      <th>Mainstream</th>\n",
              "      <th>RETIREES</th>\n",
              "      <td>3.842170</td>\n",
              "    </tr>\n",
              "  </tbody>\n",
              "</table>\n",
              "</div>\n",
              "      <button class=\"colab-df-convert\" onclick=\"convertToInteractive('df-734fd1dc-a12e-4c4d-a344-a79e0aef9e71')\"\n",
              "              title=\"Convert this dataframe to an interactive table.\"\n",
              "              style=\"display:none;\">\n",
              "        \n",
              "  <svg xmlns=\"http://www.w3.org/2000/svg\" height=\"24px\"viewBox=\"0 0 24 24\"\n",
              "       width=\"24px\">\n",
              "    <path d=\"M0 0h24v24H0V0z\" fill=\"none\"/>\n",
              "    <path d=\"M18.56 5.44l.94 2.06.94-2.06 2.06-.94-2.06-.94-.94-2.06-.94 2.06-2.06.94zm-11 1L8.5 8.5l.94-2.06 2.06-.94-2.06-.94L8.5 2.5l-.94 2.06-2.06.94zm10 10l.94 2.06.94-2.06 2.06-.94-2.06-.94-.94-2.06-.94 2.06-2.06.94z\"/><path d=\"M17.41 7.96l-1.37-1.37c-.4-.4-.92-.59-1.43-.59-.52 0-1.04.2-1.43.59L10.3 9.45l-7.72 7.72c-.78.78-.78 2.05 0 2.83L4 21.41c.39.39.9.59 1.41.59.51 0 1.02-.2 1.41-.59l7.78-7.78 2.81-2.81c.8-.78.8-2.07 0-2.86zM5.41 20L4 18.59l7.72-7.72 1.47 1.35L5.41 20z\"/>\n",
              "  </svg>\n",
              "      </button>\n",
              "      \n",
              "  <style>\n",
              "    .colab-df-container {\n",
              "      display:flex;\n",
              "      flex-wrap:wrap;\n",
              "      gap: 12px;\n",
              "    }\n",
              "\n",
              "    .colab-df-convert {\n",
              "      background-color: #E8F0FE;\n",
              "      border: none;\n",
              "      border-radius: 50%;\n",
              "      cursor: pointer;\n",
              "      display: none;\n",
              "      fill: #1967D2;\n",
              "      height: 32px;\n",
              "      padding: 0 0 0 0;\n",
              "      width: 32px;\n",
              "    }\n",
              "\n",
              "    .colab-df-convert:hover {\n",
              "      background-color: #E2EBFA;\n",
              "      box-shadow: 0px 1px 2px rgba(60, 64, 67, 0.3), 0px 1px 3px 1px rgba(60, 64, 67, 0.15);\n",
              "      fill: #174EA6;\n",
              "    }\n",
              "\n",
              "    [theme=dark] .colab-df-convert {\n",
              "      background-color: #3B4455;\n",
              "      fill: #D2E3FC;\n",
              "    }\n",
              "\n",
              "    [theme=dark] .colab-df-convert:hover {\n",
              "      background-color: #434B5C;\n",
              "      box-shadow: 0px 1px 3px 1px rgba(0, 0, 0, 0.15);\n",
              "      filter: drop-shadow(0px 1px 2px rgba(0, 0, 0, 0.3));\n",
              "      fill: #FFFFFF;\n",
              "    }\n",
              "  </style>\n",
              "\n",
              "      <script>\n",
              "        const buttonEl =\n",
              "          document.querySelector('#df-734fd1dc-a12e-4c4d-a344-a79e0aef9e71 button.colab-df-convert');\n",
              "        buttonEl.style.display =\n",
              "          google.colab.kernel.accessAllowed ? 'block' : 'none';\n",
              "\n",
              "        async function convertToInteractive(key) {\n",
              "          const element = document.querySelector('#df-734fd1dc-a12e-4c4d-a344-a79e0aef9e71');\n",
              "          const dataTable =\n",
              "            await google.colab.kernel.invokeFunction('convertToInteractive',\n",
              "                                                     [key], {});\n",
              "          if (!dataTable) return;\n",
              "\n",
              "          const docLinkHtml = 'Like what you see? Visit the ' +\n",
              "            '<a target=\"_blank\" href=https://colab.research.google.com/notebooks/data_table.ipynb>data table notebook</a>'\n",
              "            + ' to learn more about interactive tables.';\n",
              "          element.innerHTML = '';\n",
              "          dataTable['output_type'] = 'display_data';\n",
              "          await google.colab.output.renderOutput(dataTable, element);\n",
              "          const docLink = document.createElement('div');\n",
              "          docLink.innerHTML = docLinkHtml;\n",
              "          element.appendChild(docLink);\n",
              "        }\n",
              "      </script>\n",
              "    </div>\n",
              "  </div>\n",
              "  "
            ],
            "text/plain": [
              "                                         Price Per unit\n",
              "PREMIUM_CUSTOMER LIFESTAGE                             \n",
              "Mainstream       YOUNG SINGLES/COUPLES         4.080079\n",
              "                 MIDAGE SINGLES/COUPLES        4.000346\n",
              "                 NEW FAMILIES                  3.939315\n",
              "Budget           NEW FAMILIES                  3.936178\n",
              "                 RETIREES                      3.933660\n",
              "Premium          RETIREES                      3.924050\n",
              "                 OLDER SINGLES/COUPLES         3.891695\n",
              "                 NEW FAMILIES                  3.886067\n",
              "Budget           OLDER SINGLES/COUPLES         3.883299\n",
              "Mainstream       RETIREES                      3.842170"
            ]
          },
          "metadata": {},
          "execution_count": 237
        }
      ]
    },
    {
      "cell_type": "markdown",
      "source": [
        "Visually Representing the data:"
      ],
      "metadata": {
        "id": "2qXiJMuiAB21"
      }
    },
    {
      "cell_type": "code",
      "source": [
        "Average_price = QVI_data.groupby([ 'LIFESTAGE', 'PREMIUM_CUSTOMER',]).TOT_SALES.sum() / QVI_data.groupby(['PREMIUM_CUSTOMER', 'LIFESTAGE']).PROD_QTY.sum()\n",
        "Average_price.unstack().plot(kind = 'bar', figsize = (15,7), title = 'Average price by customer segments', ylim= (0,6))\n",
        "plt.ylabel('Average price')\n",
        "plt.legend(['Budget', 'Premium', 'Mainstream'], loc = 2)"
      ],
      "metadata": {
        "colab": {
          "base_uri": "https://localhost:8080/",
          "height": 601
        },
        "outputId": "2f357cc4-d14e-489f-958f-402c79d60078",
        "id": "EZv--09VAKvF"
      },
      "execution_count": 238,
      "outputs": [
        {
          "output_type": "execute_result",
          "data": {
            "text/plain": [
              "<matplotlib.legend.Legend at 0x7fdf678ec810>"
            ]
          },
          "metadata": {},
          "execution_count": 238
        },
        {
          "output_type": "display_data",
          "data": {
            "image/png": "[encoded data removed]",
            "text/plain": [
              "<Figure size 1080x504 with 1 Axes>"
            ]
          },
          "metadata": {
            "needs_background": "light"
          }
        }
      ]
    },
    {
      "cell_type": "markdown",
      "source": [
        "# Deep-dive:"
      ],
      "metadata": {
        "id": "JqhP45wnCvgK"
      }
    },
    {
      "cell_type": "markdown",
      "source": [
        "Mainstream midage and young singles/couples are more willing to pay more per packet of chips compared to their budget and premium counterparts. This may be due to premium shoppers being more likely to buy healthy snacks and when they buy chips, this is mainly for entertainment purposes rather than their own consumption. This is also supported by there being fewer premium midage and young singles and couples buying chips compared to their mainstream counterparts."
      ],
      "metadata": {
        "id": "M-jbgTeE7UBO"
      }
    },
    {
      "cell_type": "markdown",
      "source": [
        "Adding in a Price Column:"
      ],
      "metadata": {
        "id": "zKVkbKMophiK"
      }
    },
    {
      "cell_type": "code",
      "source": [
        "Price_per_unit = QVI_data\n",
        "Price_per_unit['Price'] = Price_per_unit['TOT_SALES']/Price_per_unit['PROD_QTY']\n",
        "Price_per_unit.head()\n"
      ],
      "metadata": {
        "colab": {
          "base_uri": "https://localhost:8080/",
          "height": 478
        },
        "id": "fFs8tqq2qvxR",
        "outputId": "c15b7dcd-2ff8-4fc4-afb0-f286c5b77725"
      },
      "execution_count": 239,
      "outputs": [
        {
          "output_type": "execute_result",
          "data": {
            "text/html": [
              "\n",
              "  <div id=\"df-74ae6222-e0b5-41b8-ae9f-a167af53759a\">\n",
              "    <div class=\"colab-df-container\">\n",
              "      <div>\n",
              "<style scoped>\n",
              "    .dataframe tbody tr th:only-of-type {\n",
              "        vertical-align: middle;\n",
              "    }\n",
              "\n",
              "    .dataframe tbody tr th {\n",
              "        vertical-align: top;\n",
              "    }\n",
              "\n",
              "    .dataframe thead th {\n",
              "        text-align: right;\n",
              "    }\n",
              "</style>\n",
              "<table border=\"1\" class=\"dataframe\">\n",
              "  <thead>\n",
              "    <tr style=\"text-align: right;\">\n",
              "      <th></th>\n",
              "      <th>LYLTY_CARD_NBR</th>\n",
              "      <th>LIFESTAGE</th>\n",
              "      <th>PREMIUM_CUSTOMER</th>\n",
              "      <th>DATE</th>\n",
              "      <th>STORE_NBR</th>\n",
              "      <th>TXN_ID</th>\n",
              "      <th>PROD_NBR</th>\n",
              "      <th>PROD_NAME</th>\n",
              "      <th>PROD_QTY</th>\n",
              "      <th>TOT_SALES</th>\n",
              "      <th>BRAND</th>\n",
              "      <th>PACK_SIZE</th>\n",
              "      <th>Price</th>\n",
              "    </tr>\n",
              "  </thead>\n",
              "  <tbody>\n",
              "    <tr>\n",
              "      <th>0</th>\n",
              "      <td>1000</td>\n",
              "      <td>YOUNG SINGLES/COUPLES</td>\n",
              "      <td>Premium</td>\n",
              "      <td>17/10/2018</td>\n",
              "      <td>1</td>\n",
              "      <td>1</td>\n",
              "      <td>5</td>\n",
              "      <td>Natural Chip        Compny SeaSalt175g</td>\n",
              "      <td>2</td>\n",
              "      <td>6.0</td>\n",
              "      <td>Natural</td>\n",
              "      <td>175</td>\n",
              "      <td>3.0</td>\n",
              "    </tr>\n",
              "    <tr>\n",
              "      <th>1</th>\n",
              "      <td>1002</td>\n",
              "      <td>YOUNG SINGLES/COUPLES</td>\n",
              "      <td>Mainstream</td>\n",
              "      <td>16/09/2018</td>\n",
              "      <td>1</td>\n",
              "      <td>2</td>\n",
              "      <td>58</td>\n",
              "      <td>Red Rock Deli Chikn&amp;Garlic Aioli 150g</td>\n",
              "      <td>1</td>\n",
              "      <td>2.7</td>\n",
              "      <td>Red</td>\n",
              "      <td>150</td>\n",
              "      <td>2.7</td>\n",
              "    </tr>\n",
              "    <tr>\n",
              "      <th>2</th>\n",
              "      <td>1003</td>\n",
              "      <td>YOUNG FAMILIES</td>\n",
              "      <td>Budget</td>\n",
              "      <td>07/03/2019</td>\n",
              "      <td>1</td>\n",
              "      <td>3</td>\n",
              "      <td>52</td>\n",
              "      <td>Grain Waves Sour    Cream&amp;Chives 210G</td>\n",
              "      <td>1</td>\n",
              "      <td>3.6</td>\n",
              "      <td>Grain</td>\n",
              "      <td>210</td>\n",
              "      <td>3.6</td>\n",
              "    </tr>\n",
              "    <tr>\n",
              "      <th>3</th>\n",
              "      <td>1003</td>\n",
              "      <td>YOUNG FAMILIES</td>\n",
              "      <td>Budget</td>\n",
              "      <td>08/03/2019</td>\n",
              "      <td>1</td>\n",
              "      <td>4</td>\n",
              "      <td>106</td>\n",
              "      <td>Natural ChipCo      Hony Soy Chckn175g</td>\n",
              "      <td>1</td>\n",
              "      <td>3.0</td>\n",
              "      <td>Natural</td>\n",
              "      <td>175</td>\n",
              "      <td>3.0</td>\n",
              "    </tr>\n",
              "    <tr>\n",
              "      <th>4</th>\n",
              "      <td>1004</td>\n",
              "      <td>OLDER SINGLES/COUPLES</td>\n",
              "      <td>Mainstream</td>\n",
              "      <td>02/11/2018</td>\n",
              "      <td>1</td>\n",
              "      <td>5</td>\n",
              "      <td>96</td>\n",
              "      <td>WW Original Stacked Chips 160g</td>\n",
              "      <td>1</td>\n",
              "      <td>1.9</td>\n",
              "      <td>WW</td>\n",
              "      <td>160</td>\n",
              "      <td>1.9</td>\n",
              "    </tr>\n",
              "  </tbody>\n",
              "</table>\n",
              "</div>\n",
              "      <button class=\"colab-df-convert\" onclick=\"convertToInteractive('df-74ae6222-e0b5-41b8-ae9f-a167af53759a')\"\n",
              "              title=\"Convert this dataframe to an interactive table.\"\n",
              "              style=\"display:none;\">\n",
              "        \n",
              "  <svg xmlns=\"http://www.w3.org/2000/svg\" height=\"24px\"viewBox=\"0 0 24 24\"\n",
              "       width=\"24px\">\n",
              "    <path d=\"M0 0h24v24H0V0z\" fill=\"none\"/>\n",
              "    <path d=\"M18.56 5.44l.94 2.06.94-2.06 2.06-.94-2.06-.94-.94-2.06-.94 2.06-2.06.94zm-11 1L8.5 8.5l.94-2.06 2.06-.94-2.06-.94L8.5 2.5l-.94 2.06-2.06.94zm10 10l.94 2.06.94-2.06 2.06-.94-2.06-.94-.94-2.06-.94 2.06-2.06.94z\"/><path d=\"M17.41 7.96l-1.37-1.37c-.4-.4-.92-.59-1.43-.59-.52 0-1.04.2-1.43.59L10.3 9.45l-7.72 7.72c-.78.78-.78 2.05 0 2.83L4 21.41c.39.39.9.59 1.41.59.51 0 1.02-.2 1.41-.59l7.78-7.78 2.81-2.81c.8-.78.8-2.07 0-2.86zM5.41 20L4 18.59l7.72-7.72 1.47 1.35L5.41 20z\"/>\n",
              "  </svg>\n",
              "      </button>\n",
              "      \n",
              "  <style>\n",
              "    .colab-df-container {\n",
              "      display:flex;\n",
              "      flex-wrap:wrap;\n",
              "      gap: 12px;\n",
              "    }\n",
              "\n",
              "    .colab-df-convert {\n",
              "      background-color: #E8F0FE;\n",
              "      border: none;\n",
              "      border-radius: 50%;\n",
              "      cursor: pointer;\n",
              "      display: none;\n",
              "      fill: #1967D2;\n",
              "      height: 32px;\n",
              "      padding: 0 0 0 0;\n",
              "      width: 32px;\n",
              "    }\n",
              "\n",
              "    .colab-df-convert:hover {\n",
              "      background-color: #E2EBFA;\n",
              "      box-shadow: 0px 1px 2px rgba(60, 64, 67, 0.3), 0px 1px 3px 1px rgba(60, 64, 67, 0.15);\n",
              "      fill: #174EA6;\n",
              "    }\n",
              "\n",
              "    [theme=dark] .colab-df-convert {\n",
              "      background-color: #3B4455;\n",
              "      fill: #D2E3FC;\n",
              "    }\n",
              "\n",
              "    [theme=dark] .colab-df-convert:hover {\n",
              "      background-color: #434B5C;\n",
              "      box-shadow: 0px 1px 3px 1px rgba(0, 0, 0, 0.15);\n",
              "      filter: drop-shadow(0px 1px 2px rgba(0, 0, 0, 0.3));\n",
              "      fill: #FFFFFF;\n",
              "    }\n",
              "  </style>\n",
              "\n",
              "      <script>\n",
              "        const buttonEl =\n",
              "          document.querySelector('#df-74ae6222-e0b5-41b8-ae9f-a167af53759a button.colab-df-convert');\n",
              "        buttonEl.style.display =\n",
              "          google.colab.kernel.accessAllowed ? 'block' : 'none';\n",
              "\n",
              "        async function convertToInteractive(key) {\n",
              "          const element = document.querySelector('#df-74ae6222-e0b5-41b8-ae9f-a167af53759a');\n",
              "          const dataTable =\n",
              "            await google.colab.kernel.invokeFunction('convertToInteractive',\n",
              "                                                     [key], {});\n",
              "          if (!dataTable) return;\n",
              "\n",
              "          const docLinkHtml = 'Like what you see? Visit the ' +\n",
              "            '<a target=\"_blank\" href=https://colab.research.google.com/notebooks/data_table.ipynb>data table notebook</a>'\n",
              "            + ' to learn more about interactive tables.';\n",
              "          element.innerHTML = '';\n",
              "          dataTable['output_type'] = 'display_data';\n",
              "          await google.colab.output.renderOutput(dataTable, element);\n",
              "          const docLink = document.createElement('div');\n",
              "          docLink.innerHTML = docLinkHtml;\n",
              "          element.appendChild(docLink);\n",
              "        }\n",
              "      </script>\n",
              "    </div>\n",
              "  </div>\n",
              "  "
            ],
            "text/plain": [
              "   LYLTY_CARD_NBR              LIFESTAGE  ... PACK_SIZE Price\n",
              "0            1000  YOUNG SINGLES/COUPLES  ...       175   3.0\n",
              "1            1002  YOUNG SINGLES/COUPLES  ...       150   2.7\n",
              "2            1003         YOUNG FAMILIES  ...       210   3.6\n",
              "3            1003         YOUNG FAMILIES  ...       175   3.0\n",
              "4            1004  OLDER SINGLES/COUPLES  ...       160   1.9\n",
              "\n",
              "[5 rows x 13 columns]"
            ]
          },
          "metadata": {},
          "execution_count": 239
        }
      ]
    },
    {
      "cell_type": "markdown",
      "source": [
        "While performing the analysis an issue was ommited which is rectified below!"
      ],
      "metadata": {
        "id": "I9qVm6t2t-Q0"
      }
    },
    {
      "cell_type": "code",
      "source": [
        "plt.figure(figsize=(15,8))\n",
        "plt.hist(Price_per_unit['Price'])\n",
        "plt.xlabel('Pricing')\n",
        "plt.ylabel('Frequency')\n",
        "plt.title('Pricing distribution')"
      ],
      "metadata": {
        "colab": {
          "base_uri": "https://localhost:8080/",
          "height": 531
        },
        "id": "JkW7SzJ0t5i8",
        "outputId": "61b5cfb8-cba0-46a0-fb2c-89882104b44e"
      },
      "execution_count": 240,
      "outputs": [
        {
          "output_type": "execute_result",
          "data": {
            "text/plain": [
              "Text(0.5, 1.0, 'Pricing distribution')"
            ]
          },
          "metadata": {},
          "execution_count": 240
        },
        {
          "output_type": "display_data",
          "data": {
            "image/png": "[encoded data removed]",
            "text/plain": [
              "<Figure size 1080x576 with 1 Axes>"
            ]
          },
          "metadata": {
            "needs_background": "light"
          }
        }
      ]
    },
    {
      "cell_type": "markdown",
      "source": [
        "On checking in the product pricing distribution it is seen that there are many products tagged between 3.5 to 4."
      ],
      "metadata": {
        "id": "Mv8eLnxo7ydR"
      }
    },
    {
      "cell_type": "code",
      "source": [
        "sns.regplot(x= 'Price', y = 'PACK_SIZE', data = Price_per_unit)\n",
        "plt.ylim(0,)"
      ],
      "metadata": {
        "colab": {
          "base_uri": "https://localhost:8080/",
          "height": 297
        },
        "id": "llOYxpANzfA2",
        "outputId": "5ec653db-842c-4c8f-f278-7f840748161f"
      },
      "execution_count": 241,
      "outputs": [
        {
          "output_type": "execute_result",
          "data": {
            "text/plain": [
              "(0.0, 395.5)"
            ]
          },
          "metadata": {},
          "execution_count": 241
        },
        {
          "output_type": "display_data",
          "data": {
            "image/png": "[encoded data removed]",
            "text/plain": [
              "<Figure size 432x288 with 1 Axes>"
            ]
          },
          "metadata": {
            "needs_background": "light"
          }
        }
      ]
    },
    {
      "cell_type": "markdown",
      "source": [
        "On plotting the Regplot we see their is a positive correlation between Price and the Pack-Size as the prices rise so does the quantity of the chips."
      ],
      "metadata": {
        "id": "fJVKpuMv61ZP"
      }
    },
    {
      "cell_type": "markdown",
      "source": [
        "# **Conclusion:**"
      ],
      "metadata": {
        "id": "T3axvdqu9H6V"
      }
    },
    {
      "cell_type": "markdown",
      "source": [
        "\n",
        "\n",
        "*   The purchasing trend has been seen more in the Older and Young families.\n",
        "\n",
        "*   On checking in the with the customer segments the numbers were higher among the OLDER SINGLES/COUPLES and RETIREES\n",
        "*   Sales in the segment were higher among the OLDER SINGLES/COUPLES and RETIREES\n",
        "\n",
        "\n",
        "*   There has been observed a positive correlation between the prices and pack size\n",
        "\n"
      ],
      "metadata": {
        "id": "Z-8qzwh59QXE"
      }
    }
  ]
}